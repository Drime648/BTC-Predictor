{
  "nbformat": 4,
  "nbformat_minor": 0,
  "metadata": {
    "colab": {
      "name": "Time Series.ipynb",
      "provenance": [],
      "collapsed_sections": [
        "Z8U4UjkUJS0q",
        "NZ_0Zrs05Zys",
        "IcvPIQI1Z4N5",
        "6h4D5EbO_4No"
      ],
      "toc_visible": true,
      "authorship_tag": "ABX9TyOU3wJBCPJkIKdIHC9w5VsH",
      "include_colab_link": true
    },
    "kernelspec": {
      "display_name": "Python 3",
      "name": "python3"
    },
    "language_info": {
      "name": "python"
    },
    "accelerator": "GPU"
  },
  "cells": [
    {
      "cell_type": "markdown",
      "metadata": {
        "id": "view-in-github",
        "colab_type": "text"
      },
      "source": [
        "<a href=\"https://colab.research.google.com/github/Drime648/BTC-Predictor/blob/main/Time_Series.ipynb\" target=\"_parent\"><img src=\"https://colab.research.google.com/assets/colab-badge.svg\" alt=\"Open In Colab\"/></a>"
      ]
    },
    {
      "cell_type": "code",
      "metadata": {
        "colab": {
          "base_uri": "https://localhost:8080/"
        },
        "id": "d0Iv373JS3Iy",
        "outputId": "76244973-11a7-4830-9acd-1c8c6e2ddba0"
      },
      "source": [
        "!wget https://raw.githubusercontent.com/mrdbourke/tensorflow-deep-learning/main/extras/BTC_USD_2013-10-01_2021-05-18-CoinDesk.csv"
      ],
      "execution_count": null,
      "outputs": [
        {
          "output_type": "stream",
          "text": [
            "--2021-07-30 18:57:46--  https://raw.githubusercontent.com/mrdbourke/tensorflow-deep-learning/main/extras/BTC_USD_2013-10-01_2021-05-18-CoinDesk.csv\n",
            "Resolving raw.githubusercontent.com (raw.githubusercontent.com)... 185.199.108.133, 185.199.109.133, 185.199.110.133, ...\n",
            "Connecting to raw.githubusercontent.com (raw.githubusercontent.com)|185.199.108.133|:443... connected.\n",
            "HTTP request sent, awaiting response... 200 OK\n",
            "Length: 178509 (174K) [text/plain]\n",
            "Saving to: ‘BTC_USD_2013-10-01_2021-05-18-CoinDesk.csv’\n",
            "\n",
            "BTC_USD_2013-10-01_ 100%[===================>] 174.33K  --.-KB/s    in 0.01s   \n",
            "\n",
            "2021-07-30 18:57:46 (11.5 MB/s) - ‘BTC_USD_2013-10-01_2021-05-18-CoinDesk.csv’ saved [178509/178509]\n",
            "\n"
          ],
          "name": "stdout"
        }
      ]
    },
    {
      "cell_type": "markdown",
      "metadata": {
        "id": "D9fYlWnSbVgv"
      },
      "source": [
        "#Get the Data"
      ]
    },
    {
      "cell_type": "markdown",
      "metadata": {
        "id": "J2f-9hQrbZNA"
      },
      "source": [
        "##Import with Pandas"
      ]
    },
    {
      "cell_type": "code",
      "metadata": {
        "id": "cEsR3PHCba6e"
      },
      "source": [
        "import pandas as pd"
      ],
      "execution_count": null,
      "outputs": []
    },
    {
      "cell_type": "code",
      "metadata": {
        "id": "erexUk4YbcDP"
      },
      "source": [
        "btc_raw = pd.read_csv(\"/content/BTC_USD_2013-10-01_2021-05-18-CoinDesk.csv\",\n",
        "                      parse_dates=[\"Date\"],\n",
        "                      index_col = [\"Date\"])"
      ],
      "execution_count": null,
      "outputs": []
    },
    {
      "cell_type": "code",
      "metadata": {
        "id": "fs22WjPNbh0P"
      },
      "source": [
        "btc_df = pd.DataFrame(btc_raw[\"Closing Price (USD)\"]).rename(columns = {\"Closing Price (USD)\": \"Price\"})"
      ],
      "execution_count": null,
      "outputs": []
    },
    {
      "cell_type": "code",
      "metadata": {
        "colab": {
          "base_uri": "https://localhost:8080/",
          "height": 455
        },
        "id": "AewIrPn7b3Ge",
        "outputId": "207708d1-a7e1-44c8-d9fc-1b6619f1445f"
      },
      "source": [
        "btc_df\n"
      ],
      "execution_count": null,
      "outputs": [
        {
          "output_type": "execute_result",
          "data": {
            "text/html": [
              "<div>\n",
              "<style scoped>\n",
              "    .dataframe tbody tr th:only-of-type {\n",
              "        vertical-align: middle;\n",
              "    }\n",
              "\n",
              "    .dataframe tbody tr th {\n",
              "        vertical-align: top;\n",
              "    }\n",
              "\n",
              "    .dataframe thead th {\n",
              "        text-align: right;\n",
              "    }\n",
              "</style>\n",
              "<table border=\"1\" class=\"dataframe\">\n",
              "  <thead>\n",
              "    <tr style=\"text-align: right;\">\n",
              "      <th></th>\n",
              "      <th>Price</th>\n",
              "    </tr>\n",
              "    <tr>\n",
              "      <th>Date</th>\n",
              "      <th></th>\n",
              "    </tr>\n",
              "  </thead>\n",
              "  <tbody>\n",
              "    <tr>\n",
              "      <th>2013-10-01</th>\n",
              "      <td>123.654990</td>\n",
              "    </tr>\n",
              "    <tr>\n",
              "      <th>2013-10-02</th>\n",
              "      <td>125.455000</td>\n",
              "    </tr>\n",
              "    <tr>\n",
              "      <th>2013-10-03</th>\n",
              "      <td>108.584830</td>\n",
              "    </tr>\n",
              "    <tr>\n",
              "      <th>2013-10-04</th>\n",
              "      <td>118.674660</td>\n",
              "    </tr>\n",
              "    <tr>\n",
              "      <th>2013-10-05</th>\n",
              "      <td>121.338660</td>\n",
              "    </tr>\n",
              "    <tr>\n",
              "      <th>...</th>\n",
              "      <td>...</td>\n",
              "    </tr>\n",
              "    <tr>\n",
              "      <th>2021-05-14</th>\n",
              "      <td>49764.132082</td>\n",
              "    </tr>\n",
              "    <tr>\n",
              "      <th>2021-05-15</th>\n",
              "      <td>50032.693137</td>\n",
              "    </tr>\n",
              "    <tr>\n",
              "      <th>2021-05-16</th>\n",
              "      <td>47885.625255</td>\n",
              "    </tr>\n",
              "    <tr>\n",
              "      <th>2021-05-17</th>\n",
              "      <td>45604.615754</td>\n",
              "    </tr>\n",
              "    <tr>\n",
              "      <th>2021-05-18</th>\n",
              "      <td>43144.471291</td>\n",
              "    </tr>\n",
              "  </tbody>\n",
              "</table>\n",
              "<p>2787 rows × 1 columns</p>\n",
              "</div>"
            ],
            "text/plain": [
              "                   Price\n",
              "Date                    \n",
              "2013-10-01    123.654990\n",
              "2013-10-02    125.455000\n",
              "2013-10-03    108.584830\n",
              "2013-10-04    118.674660\n",
              "2013-10-05    121.338660\n",
              "...                  ...\n",
              "2021-05-14  49764.132082\n",
              "2021-05-15  50032.693137\n",
              "2021-05-16  47885.625255\n",
              "2021-05-17  45604.615754\n",
              "2021-05-18  43144.471291\n",
              "\n",
              "[2787 rows x 1 columns]"
            ]
          },
          "metadata": {
            "tags": []
          },
          "execution_count": 5
        }
      ]
    },
    {
      "cell_type": "code",
      "metadata": {
        "id": "LvB07zWO760C"
      },
      "source": [
        "import matplotlib.pyplot as plt\n"
      ],
      "execution_count": null,
      "outputs": []
    },
    {
      "cell_type": "code",
      "metadata": {
        "colab": {
          "base_uri": "https://localhost:8080/",
          "height": 313
        },
        "id": "VKWe80JT_4Nx",
        "outputId": "0bfe0d51-f4ca-43be-ae75-d4a5a0f38158"
      },
      "source": [
        "btc_df.plot()\n",
        "plt.title(\"Price of Bit Coin\")\n",
        "plt.legend()"
      ],
      "execution_count": null,
      "outputs": [
        {
          "output_type": "execute_result",
          "data": {
            "text/plain": [
              "<matplotlib.legend.Legend at 0x7ff987135d90>"
            ]
          },
          "metadata": {
            "tags": []
          },
          "execution_count": 7
        },
        {
          "output_type": "display_data",
          "data": {
            "image/png": "[encoded data removed]",
            "text/plain": [
              "<Figure size 432x288 with 1 Axes>"
            ]
          },
          "metadata": {
            "tags": [],
            "needs_background": "light"
          }
        }
      ]
    },
    {
      "cell_type": "markdown",
      "metadata": {
        "id": "yk_bKBVzA4sj"
      },
      "source": [
        "##Python CSV"
      ]
    },
    {
      "cell_type": "code",
      "metadata": {
        "id": "AsyfspOYA56P"
      },
      "source": [
        "import csv\n",
        "from datetime import datetime"
      ],
      "execution_count": null,
      "outputs": []
    },
    {
      "cell_type": "code",
      "metadata": {
        "id": "eCBKZ_C5BCpB"
      },
      "source": [
        "timesteps = []\n",
        "btc_price = []\n",
        "\n",
        "\n",
        "with open('/content/BTC_USD_2013-10-01_2021-05-18-CoinDesk.csv', 'r') as csv_file:\n",
        "    csv_reader = csv.reader(csv_file, delimiter=',')\n",
        "    next(csv_reader)\n",
        "    for row in csv_reader:\n",
        "      timesteps.append(datetime.strptime(row[1], \"%Y-%m-%d\"))\n",
        "      btc_price.append(float(row[2]))\n"
      ],
      "execution_count": null,
      "outputs": []
    },
    {
      "cell_type": "code",
      "metadata": {
        "colab": {
          "base_uri": "https://localhost:8080/"
        },
        "id": "d4XX0CDUBXMC",
        "outputId": "e2291f47-3d9d-43b0-8238-cd1e91dc369a"
      },
      "source": [
        "print(timesteps)"
      ],
      "execution_count": null,
      "outputs": [
        {
          "output_type": "stream",
          "text": [
            "[datetime.datetime(2013, 10, 1, 0, 0), datetime.datetime(2013, 10, 2, 0, 0), datetime.datetime(2013, 10, 3, 0, 0), datetime.datetime(2013, 10, 4, 0, 0), datetime.datetime(2013, 10, 5, 0, 0), datetime.datetime(2013, 10, 6, 0, 0), datetime.datetime(2013, 10, 7, 0, 0), datetime.datetime(2013, 10, 8, 0, 0), datetime.datetime(2013, 10, 9, 0, 0), datetime.datetime(2013, 10, 10, 0, 0), datetime.datetime(2013, 10, 11, 0, 0), datetime.datetime(2013, 10, 12, 0, 0), datetime.datetime(2013, 10, 13, 0, 0), datetime.datetime(2013, 10, 14, 0, 0), datetime.datetime(2013, 10, 15, 0, 0), datetime.datetime(2013, 10, 16, 0, 0), datetime.datetime(2013, 10, 17, 0, 0), datetime.datetime(2013, 10, 18, 0, 0), datetime.datetime(2013, 10, 19, 0, 0), datetime.datetime(2013, 10, 20, 0, 0), datetime.datetime(2013, 10, 21, 0, 0), datetime.datetime(2013, 10, 22, 0, 0), datetime.datetime(2013, 10, 23, 0, 0), datetime.datetime(2013, 10, 24, 0, 0), datetime.datetime(2013, 10, 25, 0, 0), datetime.datetime(2013, 10, 26, 0, 0), datetime.datetime(2013, 10, 27, 0, 0), datetime.datetime(2013, 10, 28, 0, 0), datetime.datetime(2013, 10, 29, 0, 0), datetime.datetime(2013, 10, 30, 0, 0), datetime.datetime(2013, 10, 31, 0, 0), datetime.datetime(2013, 11, 1, 0, 0), datetime.datetime(2013, 11, 2, 0, 0), datetime.datetime(2013, 11, 3, 0, 0), datetime.datetime(2013, 11, 4, 0, 0), datetime.datetime(2013, 11, 5, 0, 0), datetime.datetime(2013, 11, 6, 0, 0), datetime.datetime(2013, 11, 7, 0, 0), datetime.datetime(2013, 11, 8, 0, 0), datetime.datetime(2013, 11, 9, 0, 0), datetime.datetime(2013, 11, 10, 0, 0), datetime.datetime(2013, 11, 11, 0, 0), datetime.datetime(2013, 11, 12, 0, 0), datetime.datetime(2013, 11, 13, 0, 0), datetime.datetime(2013, 11, 14, 0, 0), datetime.datetime(2013, 11, 15, 0, 0), datetime.datetime(2013, 11, 16, 0, 0), datetime.datetime(2013, 11, 17, 0, 0), datetime.datetime(2013, 11, 18, 0, 0), datetime.datetime(2013, 11, 19, 0, 0), datetime.datetime(2013, 11, 20, 0, 0), datetime.datetime(2013, 11, 21, 0, 0), datetime.datetime(2013, 11, 22, 0, 0), datetime.datetime(2013, 11, 23, 0, 0), datetime.datetime(2013, 11, 24, 0, 0), datetime.datetime(2013, 11, 25, 0, 0), datetime.datetime(2013, 11, 26, 0, 0), datetime.datetime(2013, 11, 27, 0, 0), datetime.datetime(2013, 11, 28, 0, 0), datetime.datetime(2013, 11, 29, 0, 0), datetime.datetime(2013, 11, 30, 0, 0), datetime.datetime(2013, 12, 1, 0, 0), datetime.datetime(2013, 12, 2, 0, 0), datetime.datetime(2013, 12, 3, 0, 0), datetime.datetime(2013, 12, 4, 0, 0), datetime.datetime(2013, 12, 5, 0, 0), datetime.datetime(2013, 12, 6, 0, 0), datetime.datetime(2013, 12, 7, 0, 0), datetime.datetime(2013, 12, 8, 0, 0), datetime.datetime(2013, 12, 9, 0, 0), datetime.datetime(2013, 12, 10, 0, 0), datetime.datetime(2013, 12, 11, 0, 0), datetime.datetime(2013, 12, 12, 0, 0), datetime.datetime(2013, 12, 13, 0, 0), datetime.datetime(2013, 12, 14, 0, 0), datetime.datetime(2013, 12, 15, 0, 0), datetime.datetime(2013, 12, 16, 0, 0), datetime.datetime(2013, 12, 17, 0, 0), datetime.datetime(2013, 12, 18, 0, 0), datetime.datetime(2013, 12, 19, 0, 0), datetime.datetime(2013, 12, 20, 0, 0), datetime.datetime(2013, 12, 21, 0, 0), datetime.datetime(2013, 12, 22, 0, 0), datetime.datetime(2013, 12, 23, 0, 0), datetime.datetime(2013, 12, 24, 0, 0), datetime.datetime(2013, 12, 25, 0, 0), datetime.datetime(2013, 12, 26, 0, 0), datetime.datetime(2013, 12, 27, 0, 0), datetime.datetime(2013, 12, 28, 0, 0), datetime.datetime(2013, 12, 29, 0, 0), datetime.datetime(2013, 12, 30, 0, 0), datetime.datetime(2013, 12, 31, 0, 0), datetime.datetime(2014, 1, 1, 0, 0), datetime.datetime(2014, 1, 2, 0, 0), datetime.datetime(2014, 1, 3, 0, 0), datetime.datetime(2014, 1, 4, 0, 0), datetime.datetime(2014, 1, 5, 0, 0), datetime.datetime(2014, 1, 6, 0, 0), datetime.datetime(2014, 1, 7, 0, 0), datetime.datetime(2014, 1, 8, 0, 0), datetime.datetime(2014, 1, 9, 0, 0), datetime.datetime(2014, 1, 10, 0, 0), datetime.datetime(2014, 1, 11, 0, 0), datetime.datetime(2014, 1, 12, 0, 0), datetime.datetime(2014, 1, 13, 0, 0), datetime.datetime(2014, 1, 14, 0, 0), datetime.datetime(2014, 1, 15, 0, 0), datetime.datetime(2014, 1, 16, 0, 0), datetime.datetime(2014, 1, 17, 0, 0), datetime.datetime(2014, 1, 18, 0, 0), datetime.datetime(2014, 1, 19, 0, 0), datetime.datetime(2014, 1, 20, 0, 0), datetime.datetime(2014, 1, 21, 0, 0), datetime.datetime(2014, 1, 22, 0, 0), datetime.datetime(2014, 1, 23, 0, 0), datetime.datetime(2014, 1, 24, 0, 0), datetime.datetime(2014, 1, 25, 0, 0), datetime.datetime(2014, 1, 26, 0, 0), datetime.datetime(2014, 1, 27, 0, 0), datetime.datetime(2014, 1, 28, 0, 0), datetime.datetime(2014, 1, 29, 0, 0), datetime.datetime(2014, 1, 30, 0, 0), datetime.datetime(2014, 1, 31, 0, 0), datetime.datetime(2014, 2, 1, 0, 0), datetime.datetime(2014, 2, 2, 0, 0), datetime.datetime(2014, 2, 3, 0, 0), datetime.datetime(2014, 2, 4, 0, 0), datetime.datetime(2014, 2, 5, 0, 0), datetime.datetime(2014, 2, 6, 0, 0), datetime.datetime(2014, 2, 7, 0, 0), datetime.datetime(2014, 2, 8, 0, 0), datetime.datetime(2014, 2, 9, 0, 0), datetime.datetime(2014, 2, 10, 0, 0), datetime.datetime(2014, 2, 11, 0, 0), datetime.datetime(2014, 2, 12, 0, 0), datetime.datetime(2014, 2, 13, 0, 0), datetime.datetime(2014, 2, 14, 0, 0), datetime.datetime(2014, 2, 15, 0, 0), datetime.datetime(2014, 2, 16, 0, 0), datetime.datetime(2014, 2, 17, 0, 0), datetime.datetime(2014, 2, 18, 0, 0), datetime.datetime(2014, 2, 19, 0, 0), datetime.datetime(2014, 2, 20, 0, 0), datetime.datetime(2014, 2, 21, 0, 0), datetime.datetime(2014, 2, 22, 0, 0), datetime.datetime(2014, 2, 23, 0, 0), datetime.datetime(2014, 2, 24, 0, 0), datetime.datetime(2014, 2, 25, 0, 0), datetime.datetime(2014, 2, 26, 0, 0), datetime.datetime(2014, 2, 27, 0, 0), datetime.datetime(2014, 2, 28, 0, 0), datetime.datetime(2014, 3, 1, 0, 0), datetime.datetime(2014, 3, 2, 0, 0), datetime.datetime(2014, 3, 3, 0, 0), datetime.datetime(2014, 3, 4, 0, 0), datetime.datetime(2014, 3, 5, 0, 0), datetime.datetime(2014, 3, 6, 0, 0), datetime.datetime(2014, 3, 7, 0, 0), datetime.datetime(2014, 3, 8, 0, 0), datetime.datetime(2014, 3, 9, 0, 0), datetime.datetime(2014, 3, 10, 0, 0), datetime.datetime(2014, 3, 11, 0, 0), datetime.datetime(2014, 3, 12, 0, 0), datetime.datetime(2014, 3, 13, 0, 0), datetime.datetime(2014, 3, 14, 0, 0), datetime.datetime(2014, 3, 15, 0, 0), datetime.datetime(2014, 3, 16, 0, 0), datetime.datetime(2014, 3, 17, 0, 0), datetime.datetime(2014, 3, 18, 0, 0), datetime.datetime(2014, 3, 19, 0, 0), datetime.datetime(2014, 3, 20, 0, 0), datetime.datetime(2014, 3, 21, 0, 0), datetime.datetime(2014, 3, 22, 0, 0), datetime.datetime(2014, 3, 23, 0, 0), datetime.datetime(2014, 3, 24, 0, 0), datetime.datetime(2014, 3, 25, 0, 0), datetime.datetime(2014, 3, 26, 0, 0), datetime.datetime(2014, 3, 27, 0, 0), datetime.datetime(2014, 3, 28, 0, 0), datetime.datetime(2014, 3, 29, 0, 0), datetime.datetime(2014, 3, 30, 0, 0), datetime.datetime(2014, 3, 31, 0, 0), datetime.datetime(2014, 4, 1, 0, 0), datetime.datetime(2014, 4, 2, 0, 0), datetime.datetime(2014, 4, 3, 0, 0), datetime.datetime(2014, 4, 4, 0, 0), datetime.datetime(2014, 4, 5, 0, 0), datetime.datetime(2014, 4, 6, 0, 0), datetime.datetime(2014, 4, 7, 0, 0), datetime.datetime(2014, 4, 8, 0, 0), datetime.datetime(2014, 4, 9, 0, 0), datetime.datetime(2014, 4, 10, 0, 0), datetime.datetime(2014, 4, 11, 0, 0), datetime.datetime(2014, 4, 12, 0, 0), datetime.datetime(2014, 4, 13, 0, 0), datetime.datetime(2014, 4, 14, 0, 0), datetime.datetime(2014, 4, 15, 0, 0), datetime.datetime(2014, 4, 16, 0, 0), datetime.datetime(2014, 4, 17, 0, 0), datetime.datetime(2014, 4, 18, 0, 0), datetime.datetime(2014, 4, 19, 0, 0), datetime.datetime(2014, 4, 20, 0, 0), datetime.datetime(2014, 4, 21, 0, 0), datetime.datetime(2014, 4, 22, 0, 0), datetime.datetime(2014, 4, 23, 0, 0), datetime.datetime(2014, 4, 24, 0, 0), datetime.datetime(2014, 4, 25, 0, 0), datetime.datetime(2014, 4, 26, 0, 0), datetime.datetime(2014, 4, 27, 0, 0), datetime.datetime(2014, 4, 28, 0, 0), datetime.datetime(2014, 4, 29, 0, 0), datetime.datetime(2014, 4, 30, 0, 0), datetime.datetime(2014, 5, 1, 0, 0), datetime.datetime(2014, 5, 2, 0, 0), datetime.datetime(2014, 5, 3, 0, 0), datetime.datetime(2014, 5, 4, 0, 0), datetime.datetime(2014, 5, 5, 0, 0), datetime.datetime(2014, 5, 6, 0, 0), datetime.datetime(2014, 5, 7, 0, 0), datetime.datetime(2014, 5, 8, 0, 0), datetime.datetime(2014, 5, 9, 0, 0), datetime.datetime(2014, 5, 10, 0, 0), datetime.datetime(2014, 5, 11, 0, 0), datetime.datetime(2014, 5, 12, 0, 0), datetime.datetime(2014, 5, 13, 0, 0), datetime.datetime(2014, 5, 14, 0, 0), datetime.datetime(2014, 5, 15, 0, 0), datetime.datetime(2014, 5, 16, 0, 0), datetime.datetime(2014, 5, 17, 0, 0), datetime.datetime(2014, 5, 18, 0, 0), datetime.datetime(2014, 5, 19, 0, 0), datetime.datetime(2014, 5, 20, 0, 0), datetime.datetime(2014, 5, 21, 0, 0), datetime.datetime(2014, 5, 22, 0, 0), datetime.datetime(2014, 5, 23, 0, 0), datetime.datetime(2014, 5, 24, 0, 0), datetime.datetime(2014, 5, 25, 0, 0), datetime.datetime(2014, 5, 26, 0, 0), datetime.datetime(2014, 5, 27, 0, 0), datetime.datetime(2014, 5, 28, 0, 0), datetime.datetime(2014, 5, 29, 0, 0), datetime.datetime(2014, 5, 30, 0, 0), datetime.datetime(2014, 5, 31, 0, 0), datetime.datetime(2014, 6, 1, 0, 0), datetime.datetime(2014, 6, 2, 0, 0), datetime.datetime(2014, 6, 3, 0, 0), datetime.datetime(2014, 6, 4, 0, 0), datetime.datetime(2014, 6, 5, 0, 0), datetime.datetime(2014, 6, 6, 0, 0), datetime.datetime(2014, 6, 7, 0, 0), datetime.datetime(2014, 6, 8, 0, 0), datetime.datetime(2014, 6, 9, 0, 0), datetime.datetime(2014, 6, 10, 0, 0), datetime.datetime(2014, 6, 11, 0, 0), datetime.datetime(2014, 6, 12, 0, 0), datetime.datetime(2014, 6, 13, 0, 0), datetime.datetime(2014, 6, 14, 0, 0), datetime.datetime(2014, 6, 15, 0, 0), datetime.datetime(2014, 6, 16, 0, 0), datetime.datetime(2014, 6, 17, 0, 0), datetime.datetime(2014, 6, 18, 0, 0), datetime.datetime(2014, 6, 19, 0, 0), datetime.datetime(2014, 6, 20, 0, 0), datetime.datetime(2014, 6, 21, 0, 0), datetime.datetime(2014, 6, 22, 0, 0), datetime.datetime(2014, 6, 23, 0, 0), datetime.datetime(2014, 6, 24, 0, 0), datetime.datetime(2014, 6, 25, 0, 0), datetime.datetime(2014, 6, 26, 0, 0), datetime.datetime(2014, 6, 27, 0, 0), datetime.datetime(2014, 6, 28, 0, 0), datetime.datetime(2014, 6, 29, 0, 0), datetime.datetime(2014, 6, 30, 0, 0), datetime.datetime(2014, 7, 1, 0, 0), datetime.datetime(2014, 7, 2, 0, 0), datetime.datetime(2014, 7, 3, 0, 0), datetime.datetime(2014, 7, 4, 0, 0), datetime.datetime(2014, 7, 5, 0, 0), datetime.datetime(2014, 7, 6, 0, 0), datetime.datetime(2014, 7, 7, 0, 0), datetime.datetime(2014, 7, 8, 0, 0), datetime.datetime(2014, 7, 9, 0, 0), datetime.datetime(2014, 7, 10, 0, 0), datetime.datetime(2014, 7, 11, 0, 0), datetime.datetime(2014, 7, 12, 0, 0), datetime.datetime(2014, 7, 13, 0, 0), datetime.datetime(2014, 7, 14, 0, 0), datetime.datetime(2014, 7, 15, 0, 0), datetime.datetime(2014, 7, 16, 0, 0), datetime.datetime(2014, 7, 17, 0, 0), datetime.datetime(2014, 7, 18, 0, 0), datetime.datetime(2014, 7, 19, 0, 0), datetime.datetime(2014, 7, 20, 0, 0), datetime.datetime(2014, 7, 21, 0, 0), datetime.datetime(2014, 7, 22, 0, 0), datetime.datetime(2014, 7, 23, 0, 0), datetime.datetime(2014, 7, 24, 0, 0), datetime.datetime(2014, 7, 25, 0, 0), datetime.datetime(2014, 7, 26, 0, 0), datetime.datetime(2014, 7, 27, 0, 0), datetime.datetime(2014, 7, 28, 0, 0), datetime.datetime(2014, 7, 29, 0, 0), datetime.datetime(2014, 7, 30, 0, 0), datetime.datetime(2014, 7, 31, 0, 0), datetime.datetime(2014, 8, 1, 0, 0), datetime.datetime(2014, 8, 2, 0, 0), datetime.datetime(2014, 8, 3, 0, 0), datetime.datetime(2014, 8, 4, 0, 0), datetime.datetime(2014, 8, 5, 0, 0), datetime.datetime(2014, 8, 6, 0, 0), datetime.datetime(2014, 8, 7, 0, 0), datetime.datetime(2014, 8, 8, 0, 0), datetime.datetime(2014, 8, 9, 0, 0), datetime.datetime(2014, 8, 10, 0, 0), datetime.datetime(2014, 8, 11, 0, 0), datetime.datetime(2014, 8, 12, 0, 0), datetime.datetime(2014, 8, 13, 0, 0), datetime.datetime(2014, 8, 14, 0, 0), datetime.datetime(2014, 8, 15, 0, 0), datetime.datetime(2014, 8, 16, 0, 0), datetime.datetime(2014, 8, 17, 0, 0), datetime.datetime(2014, 8, 18, 0, 0), datetime.datetime(2014, 8, 19, 0, 0), datetime.datetime(2014, 8, 20, 0, 0), datetime.datetime(2014, 8, 21, 0, 0), datetime.datetime(2014, 8, 22, 0, 0), datetime.datetime(2014, 8, 23, 0, 0), datetime.datetime(2014, 8, 24, 0, 0), datetime.datetime(2014, 8, 25, 0, 0), datetime.datetime(2014, 8, 26, 0, 0), datetime.datetime(2014, 8, 27, 0, 0), datetime.datetime(2014, 8, 28, 0, 0), datetime.datetime(2014, 8, 29, 0, 0), datetime.datetime(2014, 8, 30, 0, 0), datetime.datetime(2014, 8, 31, 0, 0), datetime.datetime(2014, 9, 1, 0, 0), datetime.datetime(2014, 9, 2, 0, 0), datetime.datetime(2014, 9, 3, 0, 0), datetime.datetime(2014, 9, 4, 0, 0), datetime.datetime(2014, 9, 5, 0, 0), datetime.datetime(2014, 9, 6, 0, 0), datetime.datetime(2014, 9, 7, 0, 0), datetime.datetime(2014, 9, 8, 0, 0), datetime.datetime(2014, 9, 9, 0, 0), datetime.datetime(2014, 9, 10, 0, 0), datetime.datetime(2014, 9, 11, 0, 0), datetime.datetime(2014, 9, 12, 0, 0), datetime.datetime(2014, 9, 13, 0, 0), datetime.datetime(2014, 9, 14, 0, 0), datetime.datetime(2014, 9, 15, 0, 0), datetime.datetime(2014, 9, 16, 0, 0), datetime.datetime(2014, 9, 17, 0, 0), datetime.datetime(2014, 9, 18, 0, 0), datetime.datetime(2014, 9, 19, 0, 0), datetime.datetime(2014, 9, 20, 0, 0), datetime.datetime(2014, 9, 21, 0, 0), datetime.datetime(2014, 9, 22, 0, 0), datetime.datetime(2014, 9, 23, 0, 0), datetime.datetime(2014, 9, 24, 0, 0), datetime.datetime(2014, 9, 25, 0, 0), datetime.datetime(2014, 9, 26, 0, 0), datetime.datetime(2014, 9, 27, 0, 0), datetime.datetime(2014, 9, 28, 0, 0), datetime.datetime(2014, 9, 29, 0, 0), datetime.datetime(2014, 9, 30, 0, 0), datetime.datetime(2014, 10, 1, 0, 0), datetime.datetime(2014, 10, 2, 0, 0), datetime.datetime(2014, 10, 3, 0, 0), datetime.datetime(2014, 10, 4, 0, 0), datetime.datetime(2014, 10, 5, 0, 0), datetime.datetime(2014, 10, 6, 0, 0), datetime.datetime(2014, 10, 7, 0, 0), datetime.datetime(2014, 10, 8, 0, 0), datetime.datetime(2014, 10, 9, 0, 0), datetime.datetime(2014, 10, 10, 0, 0), datetime.datetime(2014, 10, 11, 0, 0), datetime.datetime(2014, 10, 12, 0, 0), datetime.datetime(2014, 10, 13, 0, 0), datetime.datetime(2014, 10, 14, 0, 0), datetime.datetime(2014, 10, 15, 0, 0), datetime.datetime(2014, 10, 16, 0, 0), datetime.datetime(2014, 10, 17, 0, 0), datetime.datetime(2014, 10, 18, 0, 0), datetime.datetime(2014, 10, 19, 0, 0), datetime.datetime(2014, 10, 20, 0, 0), datetime.datetime(2014, 10, 21, 0, 0), datetime.datetime(2014, 10, 22, 0, 0), datetime.datetime(2014, 10, 23, 0, 0), datetime.datetime(2014, 10, 24, 0, 0), datetime.datetime(2014, 10, 25, 0, 0), datetime.datetime(2014, 10, 26, 0, 0), datetime.datetime(2014, 10, 27, 0, 0), datetime.datetime(2014, 10, 28, 0, 0), datetime.datetime(2014, 10, 29, 0, 0), datetime.datetime(2014, 10, 30, 0, 0), datetime.datetime(2014, 10, 31, 0, 0), datetime.datetime(2014, 11, 1, 0, 0), datetime.datetime(2014, 11, 2, 0, 0), datetime.datetime(2014, 11, 3, 0, 0), datetime.datetime(2014, 11, 4, 0, 0), datetime.datetime(2014, 11, 5, 0, 0), datetime.datetime(2014, 11, 6, 0, 0), datetime.datetime(2014, 11, 7, 0, 0), datetime.datetime(2014, 11, 8, 0, 0), datetime.datetime(2014, 11, 9, 0, 0), datetime.datetime(2014, 11, 10, 0, 0), datetime.datetime(2014, 11, 11, 0, 0), datetime.datetime(2014, 11, 12, 0, 0), datetime.datetime(2014, 11, 13, 0, 0), datetime.datetime(2014, 11, 14, 0, 0), datetime.datetime(2014, 11, 15, 0, 0), datetime.datetime(2014, 11, 16, 0, 0), datetime.datetime(2014, 11, 17, 0, 0), datetime.datetime(2014, 11, 18, 0, 0), datetime.datetime(2014, 11, 19, 0, 0), datetime.datetime(2014, 11, 20, 0, 0), datetime.datetime(2014, 11, 21, 0, 0), datetime.datetime(2014, 11, 22, 0, 0), datetime.datetime(2014, 11, 23, 0, 0), datetime.datetime(2014, 11, 24, 0, 0), datetime.datetime(2014, 11, 25, 0, 0), datetime.datetime(2014, 11, 26, 0, 0), datetime.datetime(2014, 11, 27, 0, 0), datetime.datetime(2014, 11, 28, 0, 0), datetime.datetime(2014, 11, 29, 0, 0), datetime.datetime(2014, 11, 30, 0, 0), datetime.datetime(2014, 12, 1, 0, 0), datetime.datetime(2014, 12, 2, 0, 0), datetime.datetime(2014, 12, 3, 0, 0), datetime.datetime(2014, 12, 4, 0, 0), datetime.datetime(2014, 12, 5, 0, 0), datetime.datetime(2014, 12, 6, 0, 0), datetime.datetime(2014, 12, 7, 0, 0), datetime.datetime(2014, 12, 8, 0, 0), datetime.datetime(2014, 12, 9, 0, 0), datetime.datetime(2014, 12, 10, 0, 0), datetime.datetime(2014, 12, 11, 0, 0), datetime.datetime(2014, 12, 12, 0, 0), datetime.datetime(2014, 12, 13, 0, 0), datetime.datetime(2014, 12, 14, 0, 0), datetime.datetime(2014, 12, 15, 0, 0), datetime.datetime(2014, 12, 16, 0, 0), datetime.datetime(2014, 12, 17, 0, 0), datetime.datetime(2014, 12, 18, 0, 0), datetime.datetime(2014, 12, 19, 0, 0), datetime.datetime(2014, 12, 20, 0, 0), datetime.datetime(2014, 12, 21, 0, 0), datetime.datetime(2014, 12, 22, 0, 0), datetime.datetime(2014, 12, 23, 0, 0), datetime.datetime(2014, 12, 24, 0, 0), datetime.datetime(2014, 12, 25, 0, 0), datetime.datetime(2014, 12, 26, 0, 0), datetime.datetime(2014, 12, 27, 0, 0), datetime.datetime(2014, 12, 28, 0, 0), datetime.datetime(2014, 12, 29, 0, 0), datetime.datetime(2014, 12, 30, 0, 0), datetime.datetime(2014, 12, 31, 0, 0), datetime.datetime(2015, 1, 1, 0, 0), datetime.datetime(2015, 1, 2, 0, 0), datetime.datetime(2015, 1, 3, 0, 0), datetime.datetime(2015, 1, 4, 0, 0), datetime.datetime(2015, 1, 5, 0, 0), datetime.datetime(2015, 1, 6, 0, 0), datetime.datetime(2015, 1, 7, 0, 0), datetime.datetime(2015, 1, 8, 0, 0), datetime.datetime(2015, 1, 9, 0, 0), datetime.datetime(2015, 1, 10, 0, 0), datetime.datetime(2015, 1, 11, 0, 0), datetime.datetime(2015, 1, 12, 0, 0), datetime.datetime(2015, 1, 13, 0, 0), datetime.datetime(2015, 1, 14, 0, 0), datetime.datetime(2015, 1, 15, 0, 0), datetime.datetime(2015, 1, 16, 0, 0), datetime.datetime(2015, 1, 17, 0, 0), datetime.datetime(2015, 1, 18, 0, 0), datetime.datetime(2015, 1, 19, 0, 0), datetime.datetime(2015, 1, 20, 0, 0), datetime.datetime(2015, 1, 21, 0, 0), datetime.datetime(2015, 1, 22, 0, 0), datetime.datetime(2015, 1, 23, 0, 0), datetime.datetime(2015, 1, 24, 0, 0), datetime.datetime(2015, 1, 25, 0, 0), datetime.datetime(2015, 1, 26, 0, 0), datetime.datetime(2015, 1, 27, 0, 0), datetime.datetime(2015, 1, 28, 0, 0), datetime.datetime(2015, 1, 29, 0, 0), datetime.datetime(2015, 1, 30, 0, 0), datetime.datetime(2015, 1, 31, 0, 0), datetime.datetime(2015, 2, 1, 0, 0), datetime.datetime(2015, 2, 2, 0, 0), datetime.datetime(2015, 2, 3, 0, 0), datetime.datetime(2015, 2, 4, 0, 0), datetime.datetime(2015, 2, 5, 0, 0), datetime.datetime(2015, 2, 6, 0, 0), datetime.datetime(2015, 2, 7, 0, 0), datetime.datetime(2015, 2, 8, 0, 0), datetime.datetime(2015, 2, 9, 0, 0), datetime.datetime(2015, 2, 10, 0, 0), datetime.datetime(2015, 2, 11, 0, 0), datetime.datetime(2015, 2, 12, 0, 0), datetime.datetime(2015, 2, 13, 0, 0), datetime.datetime(2015, 2, 14, 0, 0), datetime.datetime(2015, 2, 15, 0, 0), datetime.datetime(2015, 2, 16, 0, 0), datetime.datetime(2015, 2, 17, 0, 0), datetime.datetime(2015, 2, 18, 0, 0), datetime.datetime(2015, 2, 19, 0, 0), datetime.datetime(2015, 2, 20, 0, 0), datetime.datetime(2015, 2, 21, 0, 0), datetime.datetime(2015, 2, 22, 0, 0), datetime.datetime(2015, 2, 23, 0, 0), datetime.datetime(2015, 2, 24, 0, 0), datetime.datetime(2015, 2, 25, 0, 0), datetime.datetime(2015, 2, 26, 0, 0), datetime.datetime(2015, 2, 27, 0, 0), datetime.datetime(2015, 2, 28, 0, 0), datetime.datetime(2015, 3, 1, 0, 0), datetime.datetime(2015, 3, 2, 0, 0), datetime.datetime(2015, 3, 3, 0, 0), datetime.datetime(2015, 3, 4, 0, 0), datetime.datetime(2015, 3, 5, 0, 0), datetime.datetime(2015, 3, 6, 0, 0), datetime.datetime(2015, 3, 7, 0, 0), datetime.datetime(2015, 3, 8, 0, 0), datetime.datetime(2015, 3, 9, 0, 0), datetime.datetime(2015, 3, 10, 0, 0), datetime.datetime(2015, 3, 11, 0, 0), datetime.datetime(2015, 3, 12, 0, 0), datetime.datetime(2015, 3, 13, 0, 0), datetime.datetime(2015, 3, 14, 0, 0), datetime.datetime(2015, 3, 15, 0, 0), datetime.datetime(2015, 3, 16, 0, 0), datetime.datetime(2015, 3, 17, 0, 0), datetime.datetime(2015, 3, 18, 0, 0), datetime.datetime(2015, 3, 19, 0, 0), datetime.datetime(2015, 3, 20, 0, 0), datetime.datetime(2015, 3, 21, 0, 0), datetime.datetime(2015, 3, 22, 0, 0), datetime.datetime(2015, 3, 23, 0, 0), datetime.datetime(2015, 3, 24, 0, 0), datetime.datetime(2015, 3, 25, 0, 0), datetime.datetime(2015, 3, 26, 0, 0), datetime.datetime(2015, 3, 27, 0, 0), datetime.datetime(2015, 3, 28, 0, 0), datetime.datetime(2015, 3, 29, 0, 0), datetime.datetime(2015, 3, 30, 0, 0), datetime.datetime(2015, 3, 31, 0, 0), datetime.datetime(2015, 4, 1, 0, 0), datetime.datetime(2015, 4, 2, 0, 0), datetime.datetime(2015, 4, 3, 0, 0), datetime.datetime(2015, 4, 4, 0, 0), datetime.datetime(2015, 4, 5, 0, 0), datetime.datetime(2015, 4, 6, 0, 0), datetime.datetime(2015, 4, 7, 0, 0), datetime.datetime(2015, 4, 8, 0, 0), datetime.datetime(2015, 4, 9, 0, 0), datetime.datetime(2015, 4, 10, 0, 0), datetime.datetime(2015, 4, 11, 0, 0), datetime.datetime(2015, 4, 12, 0, 0), datetime.datetime(2015, 4, 13, 0, 0), datetime.datetime(2015, 4, 14, 0, 0), datetime.datetime(2015, 4, 15, 0, 0), datetime.datetime(2015, 4, 16, 0, 0), datetime.datetime(2015, 4, 17, 0, 0), datetime.datetime(2015, 4, 18, 0, 0), datetime.datetime(2015, 4, 19, 0, 0), datetime.datetime(2015, 4, 20, 0, 0), datetime.datetime(2015, 4, 21, 0, 0), datetime.datetime(2015, 4, 22, 0, 0), datetime.datetime(2015, 4, 23, 0, 0), datetime.datetime(2015, 4, 24, 0, 0), datetime.datetime(2015, 4, 25, 0, 0), datetime.datetime(2015, 4, 26, 0, 0), datetime.datetime(2015, 4, 27, 0, 0), datetime.datetime(2015, 4, 28, 0, 0), datetime.datetime(2015, 4, 29, 0, 0), datetime.datetime(2015, 4, 30, 0, 0), datetime.datetime(2015, 5, 1, 0, 0), datetime.datetime(2015, 5, 2, 0, 0), datetime.datetime(2015, 5, 3, 0, 0), datetime.datetime(2015, 5, 4, 0, 0), datetime.datetime(2015, 5, 5, 0, 0), datetime.datetime(2015, 5, 6, 0, 0), datetime.datetime(2015, 5, 7, 0, 0), datetime.datetime(2015, 5, 8, 0, 0), datetime.datetime(2015, 5, 9, 0, 0), datetime.datetime(2015, 5, 10, 0, 0), datetime.datetime(2015, 5, 11, 0, 0), datetime.datetime(2015, 5, 12, 0, 0), datetime.datetime(2015, 5, 13, 0, 0), datetime.datetime(2015, 5, 14, 0, 0), datetime.datetime(2015, 5, 15, 0, 0), datetime.datetime(2015, 5, 16, 0, 0), datetime.datetime(2015, 5, 17, 0, 0), datetime.datetime(2015, 5, 18, 0, 0), datetime.datetime(2015, 5, 19, 0, 0), datetime.datetime(2015, 5, 20, 0, 0), datetime.datetime(2015, 5, 21, 0, 0), datetime.datetime(2015, 5, 22, 0, 0), datetime.datetime(2015, 5, 23, 0, 0), datetime.datetime(2015, 5, 24, 0, 0), datetime.datetime(2015, 5, 25, 0, 0), datetime.datetime(2015, 5, 26, 0, 0), datetime.datetime(2015, 5, 27, 0, 0), datetime.datetime(2015, 5, 28, 0, 0), datetime.datetime(2015, 5, 29, 0, 0), datetime.datetime(2015, 5, 30, 0, 0), datetime.datetime(2015, 5, 31, 0, 0), datetime.datetime(2015, 6, 1, 0, 0), datetime.datetime(2015, 6, 2, 0, 0), datetime.datetime(2015, 6, 3, 0, 0), datetime.datetime(2015, 6, 4, 0, 0), datetime.datetime(2015, 6, 5, 0, 0), datetime.datetime(2015, 6, 6, 0, 0), datetime.datetime(2015, 6, 7, 0, 0), datetime.datetime(2015, 6, 8, 0, 0), datetime.datetime(2015, 6, 9, 0, 0), datetime.datetime(2015, 6, 10, 0, 0), datetime.datetime(2015, 6, 11, 0, 0), datetime.datetime(2015, 6, 12, 0, 0), datetime.datetime(2015, 6, 13, 0, 0), datetime.datetime(2015, 6, 14, 0, 0), datetime.datetime(2015, 6, 15, 0, 0), datetime.datetime(2015, 6, 16, 0, 0), datetime.datetime(2015, 6, 17, 0, 0), datetime.datetime(2015, 6, 18, 0, 0), datetime.datetime(2015, 6, 19, 0, 0), datetime.datetime(2015, 6, 20, 0, 0), datetime.datetime(2015, 6, 21, 0, 0), datetime.datetime(2015, 6, 22, 0, 0), datetime.datetime(2015, 6, 23, 0, 0), datetime.datetime(2015, 6, 24, 0, 0), datetime.datetime(2015, 6, 25, 0, 0), datetime.datetime(2015, 6, 26, 0, 0), datetime.datetime(2015, 6, 27, 0, 0), datetime.datetime(2015, 6, 28, 0, 0), datetime.datetime(2015, 6, 29, 0, 0), datetime.datetime(2015, 6, 30, 0, 0), datetime.datetime(2015, 7, 1, 0, 0), datetime.datetime(2015, 7, 2, 0, 0), datetime.datetime(2015, 7, 3, 0, 0), datetime.datetime(2015, 7, 4, 0, 0), datetime.datetime(2015, 7, 5, 0, 0), datetime.datetime(2015, 7, 6, 0, 0), datetime.datetime(2015, 7, 7, 0, 0), datetime.datetime(2015, 7, 8, 0, 0), datetime.datetime(2015, 7, 9, 0, 0), datetime.datetime(2015, 7, 10, 0, 0), datetime.datetime(2015, 7, 11, 0, 0), datetime.datetime(2015, 7, 12, 0, 0), datetime.datetime(2015, 7, 13, 0, 0), datetime.datetime(2015, 7, 14, 0, 0), datetime.datetime(2015, 7, 15, 0, 0), datetime.datetime(2015, 7, 16, 0, 0), datetime.datetime(2015, 7, 17, 0, 0), datetime.datetime(2015, 7, 18, 0, 0), datetime.datetime(2015, 7, 19, 0, 0), datetime.datetime(2015, 7, 20, 0, 0), datetime.datetime(2015, 7, 21, 0, 0), datetime.datetime(2015, 7, 22, 0, 0), datetime.datetime(2015, 7, 23, 0, 0), datetime.datetime(2015, 7, 24, 0, 0), datetime.datetime(2015, 7, 25, 0, 0), datetime.datetime(2015, 7, 26, 0, 0), datetime.datetime(2015, 7, 27, 0, 0), datetime.datetime(2015, 7, 28, 0, 0), datetime.datetime(2015, 7, 29, 0, 0), datetime.datetime(2015, 7, 30, 0, 0), datetime.datetime(2015, 7, 31, 0, 0), datetime.datetime(2015, 8, 1, 0, 0), datetime.datetime(2015, 8, 2, 0, 0), datetime.datetime(2015, 8, 3, 0, 0), datetime.datetime(2015, 8, 4, 0, 0), datetime.datetime(2015, 8, 5, 0, 0), datetime.datetime(2015, 8, 6, 0, 0), datetime.datetime(2015, 8, 7, 0, 0), datetime.datetime(2015, 8, 8, 0, 0), datetime.datetime(2015, 8, 9, 0, 0), datetime.datetime(2015, 8, 10, 0, 0), datetime.datetime(2015, 8, 11, 0, 0), datetime.datetime(2015, 8, 12, 0, 0), datetime.datetime(2015, 8, 13, 0, 0), datetime.datetime(2015, 8, 14, 0, 0), datetime.datetime(2015, 8, 15, 0, 0), datetime.datetime(2015, 8, 16, 0, 0), datetime.datetime(2015, 8, 17, 0, 0), datetime.datetime(2015, 8, 18, 0, 0), datetime.datetime(2015, 8, 19, 0, 0), datetime.datetime(2015, 8, 20, 0, 0), datetime.datetime(2015, 8, 21, 0, 0), datetime.datetime(2015, 8, 22, 0, 0), datetime.datetime(2015, 8, 23, 0, 0), datetime.datetime(2015, 8, 24, 0, 0), datetime.datetime(2015, 8, 25, 0, 0), datetime.datetime(2015, 8, 26, 0, 0), datetime.datetime(2015, 8, 27, 0, 0), datetime.datetime(2015, 8, 28, 0, 0), datetime.datetime(2015, 8, 29, 0, 0), datetime.datetime(2015, 8, 30, 0, 0), datetime.datetime(2015, 8, 31, 0, 0), datetime.datetime(2015, 9, 1, 0, 0), datetime.datetime(2015, 9, 2, 0, 0), datetime.datetime(2015, 9, 3, 0, 0), datetime.datetime(2015, 9, 4, 0, 0), datetime.datetime(2015, 9, 5, 0, 0), datetime.datetime(2015, 9, 6, 0, 0), datetime.datetime(2015, 9, 7, 0, 0), datetime.datetime(2015, 9, 8, 0, 0), datetime.datetime(2015, 9, 9, 0, 0), datetime.datetime(2015, 9, 10, 0, 0), datetime.datetime(2015, 9, 11, 0, 0), datetime.datetime(2015, 9, 12, 0, 0), datetime.datetime(2015, 9, 13, 0, 0), datetime.datetime(2015, 9, 14, 0, 0), datetime.datetime(2015, 9, 15, 0, 0), datetime.datetime(2015, 9, 16, 0, 0), datetime.datetime(2015, 9, 17, 0, 0), datetime.datetime(2015, 9, 18, 0, 0), datetime.datetime(2015, 9, 19, 0, 0), datetime.datetime(2015, 9, 20, 0, 0), datetime.datetime(2015, 9, 21, 0, 0), datetime.datetime(2015, 9, 22, 0, 0), datetime.datetime(2015, 9, 23, 0, 0), datetime.datetime(2015, 9, 24, 0, 0), datetime.datetime(2015, 9, 25, 0, 0), datetime.datetime(2015, 9, 26, 0, 0), datetime.datetime(2015, 9, 27, 0, 0), datetime.datetime(2015, 9, 28, 0, 0), datetime.datetime(2015, 9, 29, 0, 0), datetime.datetime(2015, 9, 30, 0, 0), datetime.datetime(2015, 10, 1, 0, 0), datetime.datetime(2015, 10, 2, 0, 0), datetime.datetime(2015, 10, 3, 0, 0), datetime.datetime(2015, 10, 4, 0, 0), datetime.datetime(2015, 10, 5, 0, 0), datetime.datetime(2015, 10, 6, 0, 0), datetime.datetime(2015, 10, 7, 0, 0), datetime.datetime(2015, 10, 8, 0, 0), datetime.datetime(2015, 10, 9, 0, 0), datetime.datetime(2015, 10, 10, 0, 0), datetime.datetime(2015, 10, 11, 0, 0), datetime.datetime(2015, 10, 12, 0, 0), datetime.datetime(2015, 10, 13, 0, 0), datetime.datetime(2015, 10, 14, 0, 0), datetime.datetime(2015, 10, 15, 0, 0), datetime.datetime(2015, 10, 16, 0, 0), datetime.datetime(2015, 10, 17, 0, 0), datetime.datetime(2015, 10, 18, 0, 0), datetime.datetime(2015, 10, 19, 0, 0), datetime.datetime(2015, 10, 20, 0, 0), datetime.datetime(2015, 10, 21, 0, 0), datetime.datetime(2015, 10, 22, 0, 0), datetime.datetime(2015, 10, 23, 0, 0), datetime.datetime(2015, 10, 24, 0, 0), datetime.datetime(2015, 10, 25, 0, 0), datetime.datetime(2015, 10, 26, 0, 0), datetime.datetime(2015, 10, 27, 0, 0), datetime.datetime(2015, 10, 28, 0, 0), datetime.datetime(2015, 10, 29, 0, 0), datetime.datetime(2015, 10, 30, 0, 0), datetime.datetime(2015, 10, 31, 0, 0), datetime.datetime(2015, 11, 1, 0, 0), datetime.datetime(2015, 11, 2, 0, 0), datetime.datetime(2015, 11, 3, 0, 0), datetime.datetime(2015, 11, 4, 0, 0), datetime.datetime(2015, 11, 5, 0, 0), datetime.datetime(2015, 11, 6, 0, 0), datetime.datetime(2015, 11, 7, 0, 0), datetime.datetime(2015, 11, 8, 0, 0), datetime.datetime(2015, 11, 9, 0, 0), datetime.datetime(2015, 11, 10, 0, 0), datetime.datetime(2015, 11, 11, 0, 0), datetime.datetime(2015, 11, 12, 0, 0), datetime.datetime(2015, 11, 13, 0, 0), datetime.datetime(2015, 11, 14, 0, 0), datetime.datetime(2015, 11, 15, 0, 0), datetime.datetime(2015, 11, 16, 0, 0), datetime.datetime(2015, 11, 17, 0, 0), datetime.datetime(2015, 11, 18, 0, 0), datetime.datetime(2015, 11, 19, 0, 0), datetime.datetime(2015, 11, 20, 0, 0), datetime.datetime(2015, 11, 21, 0, 0), datetime.datetime(2015, 11, 22, 0, 0), datetime.datetime(2015, 11, 23, 0, 0), datetime.datetime(2015, 11, 24, 0, 0), datetime.datetime(2015, 11, 25, 0, 0), datetime.datetime(2015, 11, 26, 0, 0), datetime.datetime(2015, 11, 27, 0, 0), datetime.datetime(2015, 11, 28, 0, 0), datetime.datetime(2015, 11, 29, 0, 0), datetime.datetime(2015, 11, 30, 0, 0), datetime.datetime(2015, 12, 1, 0, 0), datetime.datetime(2015, 12, 2, 0, 0), datetime.datetime(2015, 12, 3, 0, 0), datetime.datetime(2015, 12, 4, 0, 0), datetime.datetime(2015, 12, 5, 0, 0), datetime.datetime(2015, 12, 6, 0, 0), datetime.datetime(2015, 12, 7, 0, 0), datetime.datetime(2015, 12, 8, 0, 0), datetime.datetime(2015, 12, 9, 0, 0), datetime.datetime(2015, 12, 10, 0, 0), datetime.datetime(2015, 12, 11, 0, 0), datetime.datetime(2015, 12, 12, 0, 0), datetime.datetime(2015, 12, 13, 0, 0), datetime.datetime(2015, 12, 14, 0, 0), datetime.datetime(2015, 12, 15, 0, 0), datetime.datetime(2015, 12, 16, 0, 0), datetime.datetime(2015, 12, 17, 0, 0), datetime.datetime(2015, 12, 18, 0, 0), datetime.datetime(2015, 12, 19, 0, 0), datetime.datetime(2015, 12, 20, 0, 0), datetime.datetime(2015, 12, 21, 0, 0), datetime.datetime(2015, 12, 22, 0, 0), datetime.datetime(2015, 12, 23, 0, 0), datetime.datetime(2015, 12, 24, 0, 0), datetime.datetime(2015, 12, 25, 0, 0), datetime.datetime(2015, 12, 26, 0, 0), datetime.datetime(2015, 12, 27, 0, 0), datetime.datetime(2015, 12, 28, 0, 0), datetime.datetime(2015, 12, 29, 0, 0), datetime.datetime(2015, 12, 30, 0, 0), datetime.datetime(2015, 12, 31, 0, 0), datetime.datetime(2016, 1, 1, 0, 0), datetime.datetime(2016, 1, 2, 0, 0), datetime.datetime(2016, 1, 3, 0, 0), datetime.datetime(2016, 1, 4, 0, 0), datetime.datetime(2016, 1, 5, 0, 0), datetime.datetime(2016, 1, 6, 0, 0), datetime.datetime(2016, 1, 7, 0, 0), datetime.datetime(2016, 1, 8, 0, 0), datetime.datetime(2016, 1, 9, 0, 0), datetime.datetime(2016, 1, 10, 0, 0), datetime.datetime(2016, 1, 11, 0, 0), datetime.datetime(2016, 1, 12, 0, 0), datetime.datetime(2016, 1, 13, 0, 0), datetime.datetime(2016, 1, 14, 0, 0), datetime.datetime(2016, 1, 15, 0, 0), datetime.datetime(2016, 1, 16, 0, 0), datetime.datetime(2016, 1, 17, 0, 0), datetime.datetime(2016, 1, 18, 0, 0), datetime.datetime(2016, 1, 19, 0, 0), datetime.datetime(2016, 1, 20, 0, 0), datetime.datetime(2016, 1, 21, 0, 0), datetime.datetime(2016, 1, 22, 0, 0), datetime.datetime(2016, 1, 23, 0, 0), datetime.datetime(2016, 1, 24, 0, 0), datetime.datetime(2016, 1, 25, 0, 0), datetime.datetime(2016, 1, 26, 0, 0), datetime.datetime(2016, 1, 27, 0, 0), datetime.datetime(2016, 1, 28, 0, 0), datetime.datetime(2016, 1, 29, 0, 0), datetime.datetime(2016, 1, 30, 0, 0), datetime.datetime(2016, 1, 31, 0, 0), datetime.datetime(2016, 2, 1, 0, 0), datetime.datetime(2016, 2, 2, 0, 0), datetime.datetime(2016, 2, 3, 0, 0), datetime.datetime(2016, 2, 4, 0, 0), datetime.datetime(2016, 2, 5, 0, 0), datetime.datetime(2016, 2, 6, 0, 0), datetime.datetime(2016, 2, 7, 0, 0), datetime.datetime(2016, 2, 8, 0, 0), datetime.datetime(2016, 2, 9, 0, 0), datetime.datetime(2016, 2, 10, 0, 0), datetime.datetime(2016, 2, 11, 0, 0), datetime.datetime(2016, 2, 12, 0, 0), datetime.datetime(2016, 2, 13, 0, 0), datetime.datetime(2016, 2, 14, 0, 0), datetime.datetime(2016, 2, 15, 0, 0), datetime.datetime(2016, 2, 16, 0, 0), datetime.datetime(2016, 2, 17, 0, 0), datetime.datetime(2016, 2, 18, 0, 0), datetime.datetime(2016, 2, 19, 0, 0), datetime.datetime(2016, 2, 20, 0, 0), datetime.datetime(2016, 2, 21, 0, 0), datetime.datetime(2016, 2, 22, 0, 0), datetime.datetime(2016, 2, 23, 0, 0), datetime.datetime(2016, 2, 24, 0, 0), datetime.datetime(2016, 2, 25, 0, 0), datetime.datetime(2016, 2, 26, 0, 0), datetime.datetime(2016, 2, 27, 0, 0), datetime.datetime(2016, 2, 28, 0, 0), datetime.datetime(2016, 2, 29, 0, 0), datetime.datetime(2016, 3, 1, 0, 0), datetime.datetime(2016, 3, 2, 0, 0), datetime.datetime(2016, 3, 3, 0, 0), datetime.datetime(2016, 3, 4, 0, 0), datetime.datetime(2016, 3, 5, 0, 0), datetime.datetime(2016, 3, 6, 0, 0), datetime.datetime(2016, 3, 7, 0, 0), datetime.datetime(2016, 3, 8, 0, 0), datetime.datetime(2016, 3, 9, 0, 0), datetime.datetime(2016, 3, 10, 0, 0), datetime.datetime(2016, 3, 11, 0, 0), datetime.datetime(2016, 3, 12, 0, 0), datetime.datetime(2016, 3, 13, 0, 0), datetime.datetime(2016, 3, 14, 0, 0), datetime.datetime(2016, 3, 15, 0, 0), datetime.datetime(2016, 3, 16, 0, 0), datetime.datetime(2016, 3, 17, 0, 0), datetime.datetime(2016, 3, 18, 0, 0), datetime.datetime(2016, 3, 19, 0, 0), datetime.datetime(2016, 3, 20, 0, 0), datetime.datetime(2016, 3, 21, 0, 0), datetime.datetime(2016, 3, 22, 0, 0), datetime.datetime(2016, 3, 23, 0, 0), datetime.datetime(2016, 3, 24, 0, 0), datetime.datetime(2016, 3, 25, 0, 0), datetime.datetime(2016, 3, 26, 0, 0), datetime.datetime(2016, 3, 27, 0, 0), datetime.datetime(2016, 3, 28, 0, 0), datetime.datetime(2016, 3, 29, 0, 0), datetime.datetime(2016, 3, 30, 0, 0), datetime.datetime(2016, 3, 31, 0, 0), datetime.datetime(2016, 4, 1, 0, 0), datetime.datetime(2016, 4, 2, 0, 0), datetime.datetime(2016, 4, 3, 0, 0), datetime.datetime(2016, 4, 4, 0, 0), datetime.datetime(2016, 4, 5, 0, 0), datetime.datetime(2016, 4, 6, 0, 0), datetime.datetime(2016, 4, 7, 0, 0), datetime.datetime(2016, 4, 8, 0, 0), datetime.datetime(2016, 4, 9, 0, 0), datetime.datetime(2016, 4, 10, 0, 0), datetime.datetime(2016, 4, 11, 0, 0), datetime.datetime(2016, 4, 12, 0, 0), datetime.datetime(2016, 4, 13, 0, 0), datetime.datetime(2016, 4, 14, 0, 0), datetime.datetime(2016, 4, 15, 0, 0), datetime.datetime(2016, 4, 16, 0, 0), datetime.datetime(2016, 4, 17, 0, 0), datetime.datetime(2016, 4, 18, 0, 0), datetime.datetime(2016, 4, 19, 0, 0), datetime.datetime(2016, 4, 20, 0, 0), datetime.datetime(2016, 4, 21, 0, 0), datetime.datetime(2016, 4, 22, 0, 0), datetime.datetime(2016, 4, 23, 0, 0), datetime.datetime(2016, 4, 24, 0, 0), datetime.datetime(2016, 4, 25, 0, 0), datetime.datetime(2016, 4, 26, 0, 0), datetime.datetime(2016, 4, 27, 0, 0), datetime.datetime(2016, 4, 28, 0, 0), datetime.datetime(2016, 4, 29, 0, 0), datetime.datetime(2016, 4, 30, 0, 0), datetime.datetime(2016, 5, 1, 0, 0), datetime.datetime(2016, 5, 2, 0, 0), datetime.datetime(2016, 5, 3, 0, 0), datetime.datetime(2016, 5, 4, 0, 0), datetime.datetime(2016, 5, 5, 0, 0), datetime.datetime(2016, 5, 6, 0, 0), datetime.datetime(2016, 5, 7, 0, 0), datetime.datetime(2016, 5, 8, 0, 0), datetime.datetime(2016, 5, 9, 0, 0), datetime.datetime(2016, 5, 10, 0, 0), datetime.datetime(2016, 5, 11, 0, 0), datetime.datetime(2016, 5, 12, 0, 0), datetime.datetime(2016, 5, 13, 0, 0), datetime.datetime(2016, 5, 14, 0, 0), datetime.datetime(2016, 5, 15, 0, 0), datetime.datetime(2016, 5, 16, 0, 0), datetime.datetime(2016, 5, 17, 0, 0), datetime.datetime(2016, 5, 18, 0, 0), datetime.datetime(2016, 5, 19, 0, 0), datetime.datetime(2016, 5, 20, 0, 0), datetime.datetime(2016, 5, 21, 0, 0), datetime.datetime(2016, 5, 22, 0, 0), datetime.datetime(2016, 5, 23, 0, 0), datetime.datetime(2016, 5, 24, 0, 0), datetime.datetime(2016, 5, 25, 0, 0), datetime.datetime(2016, 5, 26, 0, 0), datetime.datetime(2016, 5, 27, 0, 0), datetime.datetime(2016, 5, 28, 0, 0), datetime.datetime(2016, 5, 29, 0, 0), datetime.datetime(2016, 5, 30, 0, 0), datetime.datetime(2016, 5, 31, 0, 0), datetime.datetime(2016, 6, 1, 0, 0), datetime.datetime(2016, 6, 2, 0, 0), datetime.datetime(2016, 6, 3, 0, 0), datetime.datetime(2016, 6, 4, 0, 0), datetime.datetime(2016, 6, 5, 0, 0), datetime.datetime(2016, 6, 6, 0, 0), datetime.datetime(2016, 6, 7, 0, 0), datetime.datetime(2016, 6, 8, 0, 0), datetime.datetime(2016, 6, 9, 0, 0), datetime.datetime(2016, 6, 10, 0, 0), datetime.datetime(2016, 6, 11, 0, 0), datetime.datetime(2016, 6, 12, 0, 0), datetime.datetime(2016, 6, 13, 0, 0), datetime.datetime(2016, 6, 14, 0, 0), datetime.datetime(2016, 6, 15, 0, 0), datetime.datetime(2016, 6, 16, 0, 0), datetime.datetime(2016, 6, 17, 0, 0), datetime.datetime(2016, 6, 18, 0, 0), datetime.datetime(2016, 6, 19, 0, 0), datetime.datetime(2016, 6, 20, 0, 0), datetime.datetime(2016, 6, 21, 0, 0), datetime.datetime(2016, 6, 22, 0, 0), datetime.datetime(2016, 6, 23, 0, 0), datetime.datetime(2016, 6, 24, 0, 0), datetime.datetime(2016, 6, 25, 0, 0), datetime.datetime(2016, 6, 26, 0, 0), datetime.datetime(2016, 6, 27, 0, 0), datetime.datetime(2016, 6, 28, 0, 0), datetime.datetime(2016, 6, 29, 0, 0), datetime.datetime(2016, 6, 30, 0, 0), datetime.datetime(2016, 7, 1, 0, 0), datetime.datetime(2016, 7, 2, 0, 0), datetime.datetime(2016, 7, 3, 0, 0), datetime.datetime(2016, 7, 4, 0, 0), datetime.datetime(2016, 7, 5, 0, 0), datetime.datetime(2016, 7, 6, 0, 0), datetime.datetime(2016, 7, 7, 0, 0), datetime.datetime(2016, 7, 8, 0, 0), datetime.datetime(2016, 7, 9, 0, 0), datetime.datetime(2016, 7, 10, 0, 0), datetime.datetime(2016, 7, 11, 0, 0), datetime.datetime(2016, 7, 12, 0, 0), datetime.datetime(2016, 7, 13, 0, 0), datetime.datetime(2016, 7, 14, 0, 0), datetime.datetime(2016, 7, 15, 0, 0), datetime.datetime(2016, 7, 16, 0, 0), datetime.datetime(2016, 7, 17, 0, 0), datetime.datetime(2016, 7, 18, 0, 0), datetime.datetime(2016, 7, 19, 0, 0), datetime.datetime(2016, 7, 20, 0, 0), datetime.datetime(2016, 7, 21, 0, 0), datetime.datetime(2016, 7, 22, 0, 0), datetime.datetime(2016, 7, 23, 0, 0), datetime.datetime(2016, 7, 24, 0, 0), datetime.datetime(2016, 7, 25, 0, 0), datetime.datetime(2016, 7, 26, 0, 0), datetime.datetime(2016, 7, 27, 0, 0), datetime.datetime(2016, 7, 28, 0, 0), datetime.datetime(2016, 7, 29, 0, 0), datetime.datetime(2016, 7, 30, 0, 0), datetime.datetime(2016, 7, 31, 0, 0), datetime.datetime(2016, 8, 1, 0, 0), datetime.datetime(2016, 8, 2, 0, 0), datetime.datetime(2016, 8, 3, 0, 0), datetime.datetime(2016, 8, 4, 0, 0), datetime.datetime(2016, 8, 5, 0, 0), datetime.datetime(2016, 8, 6, 0, 0), datetime.datetime(2016, 8, 7, 0, 0), datetime.datetime(2016, 8, 8, 0, 0), datetime.datetime(2016, 8, 9, 0, 0), datetime.datetime(2016, 8, 10, 0, 0), datetime.datetime(2016, 8, 11, 0, 0), datetime.datetime(2016, 8, 12, 0, 0), datetime.datetime(2016, 8, 13, 0, 0), datetime.datetime(2016, 8, 14, 0, 0), datetime.datetime(2016, 8, 15, 0, 0), datetime.datetime(2016, 8, 16, 0, 0), datetime.datetime(2016, 8, 17, 0, 0), datetime.datetime(2016, 8, 18, 0, 0), datetime.datetime(2016, 8, 19, 0, 0), datetime.datetime(2016, 8, 20, 0, 0), datetime.datetime(2016, 8, 21, 0, 0), datetime.datetime(2016, 8, 22, 0, 0), datetime.datetime(2016, 8, 23, 0, 0), datetime.datetime(2016, 8, 24, 0, 0), datetime.datetime(2016, 8, 25, 0, 0), datetime.datetime(2016, 8, 26, 0, 0), datetime.datetime(2016, 8, 27, 0, 0), datetime.datetime(2016, 8, 28, 0, 0), datetime.datetime(2016, 8, 29, 0, 0), datetime.datetime(2016, 8, 30, 0, 0), datetime.datetime(2016, 8, 31, 0, 0), datetime.datetime(2016, 9, 1, 0, 0), datetime.datetime(2016, 9, 2, 0, 0), datetime.datetime(2016, 9, 3, 0, 0), datetime.datetime(2016, 9, 4, 0, 0), datetime.datetime(2016, 9, 5, 0, 0), datetime.datetime(2016, 9, 6, 0, 0), datetime.datetime(2016, 9, 7, 0, 0), datetime.datetime(2016, 9, 8, 0, 0), datetime.datetime(2016, 9, 9, 0, 0), datetime.datetime(2016, 9, 10, 0, 0), datetime.datetime(2016, 9, 11, 0, 0), datetime.datetime(2016, 9, 12, 0, 0), datetime.datetime(2016, 9, 13, 0, 0), datetime.datetime(2016, 9, 14, 0, 0), datetime.datetime(2016, 9, 15, 0, 0), datetime.datetime(2016, 9, 16, 0, 0), datetime.datetime(2016, 9, 17, 0, 0), datetime.datetime(2016, 9, 18, 0, 0), datetime.datetime(2016, 9, 19, 0, 0), datetime.datetime(2016, 9, 20, 0, 0), datetime.datetime(2016, 9, 21, 0, 0), datetime.datetime(2016, 9, 22, 0, 0), datetime.datetime(2016, 9, 23, 0, 0), datetime.datetime(2016, 9, 24, 0, 0), datetime.datetime(2016, 9, 25, 0, 0), datetime.datetime(2016, 9, 26, 0, 0), datetime.datetime(2016, 9, 27, 0, 0), datetime.datetime(2016, 9, 28, 0, 0), datetime.datetime(2016, 9, 29, 0, 0), datetime.datetime(2016, 9, 30, 0, 0), datetime.datetime(2016, 10, 1, 0, 0), datetime.datetime(2016, 10, 2, 0, 0), datetime.datetime(2016, 10, 3, 0, 0), datetime.datetime(2016, 10, 4, 0, 0), datetime.datetime(2016, 10, 5, 0, 0), datetime.datetime(2016, 10, 6, 0, 0), datetime.datetime(2016, 10, 7, 0, 0), datetime.datetime(2016, 10, 8, 0, 0), datetime.datetime(2016, 10, 9, 0, 0), datetime.datetime(2016, 10, 10, 0, 0), datetime.datetime(2016, 10, 11, 0, 0), datetime.datetime(2016, 10, 12, 0, 0), datetime.datetime(2016, 10, 13, 0, 0), datetime.datetime(2016, 10, 14, 0, 0), datetime.datetime(2016, 10, 15, 0, 0), datetime.datetime(2016, 10, 16, 0, 0), datetime.datetime(2016, 10, 17, 0, 0), datetime.datetime(2016, 10, 18, 0, 0), datetime.datetime(2016, 10, 19, 0, 0), datetime.datetime(2016, 10, 20, 0, 0), datetime.datetime(2016, 10, 21, 0, 0), datetime.datetime(2016, 10, 22, 0, 0), datetime.datetime(2016, 10, 23, 0, 0), datetime.datetime(2016, 10, 24, 0, 0), datetime.datetime(2016, 10, 25, 0, 0), datetime.datetime(2016, 10, 26, 0, 0), datetime.datetime(2016, 10, 27, 0, 0), datetime.datetime(2016, 10, 28, 0, 0), datetime.datetime(2016, 10, 29, 0, 0), datetime.datetime(2016, 10, 30, 0, 0), datetime.datetime(2016, 10, 31, 0, 0), datetime.datetime(2016, 11, 1, 0, 0), datetime.datetime(2016, 11, 2, 0, 0), datetime.datetime(2016, 11, 3, 0, 0), datetime.datetime(2016, 11, 4, 0, 0), datetime.datetime(2016, 11, 5, 0, 0), datetime.datetime(2016, 11, 6, 0, 0), datetime.datetime(2016, 11, 7, 0, 0), datetime.datetime(2016, 11, 8, 0, 0), datetime.datetime(2016, 11, 9, 0, 0), datetime.datetime(2016, 11, 10, 0, 0), datetime.datetime(2016, 11, 11, 0, 0), datetime.datetime(2016, 11, 12, 0, 0), datetime.datetime(2016, 11, 13, 0, 0), datetime.datetime(2016, 11, 14, 0, 0), datetime.datetime(2016, 11, 15, 0, 0), datetime.datetime(2016, 11, 16, 0, 0), datetime.datetime(2016, 11, 17, 0, 0), datetime.datetime(2016, 11, 18, 0, 0), datetime.datetime(2016, 11, 19, 0, 0), datetime.datetime(2016, 11, 20, 0, 0), datetime.datetime(2016, 11, 21, 0, 0), datetime.datetime(2016, 11, 22, 0, 0), datetime.datetime(2016, 11, 23, 0, 0), datetime.datetime(2016, 11, 24, 0, 0), datetime.datetime(2016, 11, 25, 0, 0), datetime.datetime(2016, 11, 26, 0, 0), datetime.datetime(2016, 11, 27, 0, 0), datetime.datetime(2016, 11, 28, 0, 0), datetime.datetime(2016, 11, 29, 0, 0), datetime.datetime(2016, 11, 30, 0, 0), datetime.datetime(2016, 12, 1, 0, 0), datetime.datetime(2016, 12, 2, 0, 0), datetime.datetime(2016, 12, 3, 0, 0), datetime.datetime(2016, 12, 4, 0, 0), datetime.datetime(2016, 12, 5, 0, 0), datetime.datetime(2016, 12, 6, 0, 0), datetime.datetime(2016, 12, 7, 0, 0), datetime.datetime(2016, 12, 8, 0, 0), datetime.datetime(2016, 12, 9, 0, 0), datetime.datetime(2016, 12, 10, 0, 0), datetime.datetime(2016, 12, 11, 0, 0), datetime.datetime(2016, 12, 12, 0, 0), datetime.datetime(2016, 12, 13, 0, 0), datetime.datetime(2016, 12, 14, 0, 0), datetime.datetime(2016, 12, 15, 0, 0), datetime.datetime(2016, 12, 16, 0, 0), datetime.datetime(2016, 12, 17, 0, 0), datetime.datetime(2016, 12, 18, 0, 0), datetime.datetime(2016, 12, 19, 0, 0), datetime.datetime(2016, 12, 20, 0, 0), datetime.datetime(2016, 12, 21, 0, 0), datetime.datetime(2016, 12, 22, 0, 0), datetime.datetime(2016, 12, 23, 0, 0), datetime.datetime(2016, 12, 24, 0, 0), datetime.datetime(2016, 12, 25, 0, 0), datetime.datetime(2016, 12, 26, 0, 0), datetime.datetime(2016, 12, 27, 0, 0), datetime.datetime(2016, 12, 28, 0, 0), datetime.datetime(2016, 12, 29, 0, 0), datetime.datetime(2016, 12, 30, 0, 0), datetime.datetime(2016, 12, 31, 0, 0), datetime.datetime(2017, 1, 1, 0, 0), datetime.datetime(2017, 1, 2, 0, 0), datetime.datetime(2017, 1, 3, 0, 0), datetime.datetime(2017, 1, 4, 0, 0), datetime.datetime(2017, 1, 5, 0, 0), datetime.datetime(2017, 1, 6, 0, 0), datetime.datetime(2017, 1, 7, 0, 0), datetime.datetime(2017, 1, 8, 0, 0), datetime.datetime(2017, 1, 9, 0, 0), datetime.datetime(2017, 1, 10, 0, 0), datetime.datetime(2017, 1, 11, 0, 0), datetime.datetime(2017, 1, 12, 0, 0), datetime.datetime(2017, 1, 13, 0, 0), datetime.datetime(2017, 1, 14, 0, 0), datetime.datetime(2017, 1, 15, 0, 0), datetime.datetime(2017, 1, 16, 0, 0), datetime.datetime(2017, 1, 17, 0, 0), datetime.datetime(2017, 1, 18, 0, 0), datetime.datetime(2017, 1, 19, 0, 0), datetime.datetime(2017, 1, 20, 0, 0), datetime.datetime(2017, 1, 21, 0, 0), datetime.datetime(2017, 1, 22, 0, 0), datetime.datetime(2017, 1, 23, 0, 0), datetime.datetime(2017, 1, 24, 0, 0), datetime.datetime(2017, 1, 25, 0, 0), datetime.datetime(2017, 1, 26, 0, 0), datetime.datetime(2017, 1, 27, 0, 0), datetime.datetime(2017, 1, 28, 0, 0), datetime.datetime(2017, 1, 29, 0, 0), datetime.datetime(2017, 1, 30, 0, 0), datetime.datetime(2017, 1, 31, 0, 0), datetime.datetime(2017, 2, 1, 0, 0), datetime.datetime(2017, 2, 2, 0, 0), datetime.datetime(2017, 2, 3, 0, 0), datetime.datetime(2017, 2, 4, 0, 0), datetime.datetime(2017, 2, 5, 0, 0), datetime.datetime(2017, 2, 6, 0, 0), datetime.datetime(2017, 2, 7, 0, 0), datetime.datetime(2017, 2, 8, 0, 0), datetime.datetime(2017, 2, 9, 0, 0), datetime.datetime(2017, 2, 10, 0, 0), datetime.datetime(2017, 2, 11, 0, 0), datetime.datetime(2017, 2, 12, 0, 0), datetime.datetime(2017, 2, 13, 0, 0), datetime.datetime(2017, 2, 14, 0, 0), datetime.datetime(2017, 2, 15, 0, 0), datetime.datetime(2017, 2, 16, 0, 0), datetime.datetime(2017, 2, 17, 0, 0), datetime.datetime(2017, 2, 18, 0, 0), datetime.datetime(2017, 2, 19, 0, 0), datetime.datetime(2017, 2, 20, 0, 0), datetime.datetime(2017, 2, 21, 0, 0), datetime.datetime(2017, 2, 22, 0, 0), datetime.datetime(2017, 2, 23, 0, 0), datetime.datetime(2017, 2, 24, 0, 0), datetime.datetime(2017, 2, 25, 0, 0), datetime.datetime(2017, 2, 26, 0, 0), datetime.datetime(2017, 2, 27, 0, 0), datetime.datetime(2017, 2, 28, 0, 0), datetime.datetime(2017, 3, 1, 0, 0), datetime.datetime(2017, 3, 2, 0, 0), datetime.datetime(2017, 3, 3, 0, 0), datetime.datetime(2017, 3, 4, 0, 0), datetime.datetime(2017, 3, 5, 0, 0), datetime.datetime(2017, 3, 6, 0, 0), datetime.datetime(2017, 3, 7, 0, 0), datetime.datetime(2017, 3, 8, 0, 0), datetime.datetime(2017, 3, 9, 0, 0), datetime.datetime(2017, 3, 10, 0, 0), datetime.datetime(2017, 3, 11, 0, 0), datetime.datetime(2017, 3, 12, 0, 0), datetime.datetime(2017, 3, 13, 0, 0), datetime.datetime(2017, 3, 14, 0, 0), datetime.datetime(2017, 3, 15, 0, 0), datetime.datetime(2017, 3, 16, 0, 0), datetime.datetime(2017, 3, 17, 0, 0), datetime.datetime(2017, 3, 18, 0, 0), datetime.datetime(2017, 3, 19, 0, 0), datetime.datetime(2017, 3, 20, 0, 0), datetime.datetime(2017, 3, 21, 0, 0), datetime.datetime(2017, 3, 22, 0, 0), datetime.datetime(2017, 3, 23, 0, 0), datetime.datetime(2017, 3, 24, 0, 0), datetime.datetime(2017, 3, 25, 0, 0), datetime.datetime(2017, 3, 26, 0, 0), datetime.datetime(2017, 3, 27, 0, 0), datetime.datetime(2017, 3, 28, 0, 0), datetime.datetime(2017, 3, 29, 0, 0), datetime.datetime(2017, 3, 30, 0, 0), datetime.datetime(2017, 3, 31, 0, 0), datetime.datetime(2017, 4, 1, 0, 0), datetime.datetime(2017, 4, 2, 0, 0), datetime.datetime(2017, 4, 3, 0, 0), datetime.datetime(2017, 4, 4, 0, 0), datetime.datetime(2017, 4, 5, 0, 0), datetime.datetime(2017, 4, 6, 0, 0), datetime.datetime(2017, 4, 7, 0, 0), datetime.datetime(2017, 4, 8, 0, 0), datetime.datetime(2017, 4, 9, 0, 0), datetime.datetime(2017, 4, 10, 0, 0), datetime.datetime(2017, 4, 11, 0, 0), datetime.datetime(2017, 4, 12, 0, 0), datetime.datetime(2017, 4, 13, 0, 0), datetime.datetime(2017, 4, 14, 0, 0), datetime.datetime(2017, 4, 15, 0, 0), datetime.datetime(2017, 4, 16, 0, 0), datetime.datetime(2017, 4, 17, 0, 0), datetime.datetime(2017, 4, 18, 0, 0), datetime.datetime(2017, 4, 19, 0, 0), datetime.datetime(2017, 4, 20, 0, 0), datetime.datetime(2017, 4, 21, 0, 0), datetime.datetime(2017, 4, 22, 0, 0), datetime.datetime(2017, 4, 23, 0, 0), datetime.datetime(2017, 4, 24, 0, 0), datetime.datetime(2017, 4, 25, 0, 0), datetime.datetime(2017, 4, 26, 0, 0), datetime.datetime(2017, 4, 27, 0, 0), datetime.datetime(2017, 4, 28, 0, 0), datetime.datetime(2017, 4, 29, 0, 0), datetime.datetime(2017, 4, 30, 0, 0), datetime.datetime(2017, 5, 1, 0, 0), datetime.datetime(2017, 5, 2, 0, 0), datetime.datetime(2017, 5, 3, 0, 0), datetime.datetime(2017, 5, 4, 0, 0), datetime.datetime(2017, 5, 5, 0, 0), datetime.datetime(2017, 5, 6, 0, 0), datetime.datetime(2017, 5, 7, 0, 0), datetime.datetime(2017, 5, 8, 0, 0), datetime.datetime(2017, 5, 9, 0, 0), datetime.datetime(2017, 5, 10, 0, 0), datetime.datetime(2017, 5, 11, 0, 0), datetime.datetime(2017, 5, 12, 0, 0), datetime.datetime(2017, 5, 13, 0, 0), datetime.datetime(2017, 5, 14, 0, 0), datetime.datetime(2017, 5, 15, 0, 0), datetime.datetime(2017, 5, 16, 0, 0), datetime.datetime(2017, 5, 17, 0, 0), datetime.datetime(2017, 5, 18, 0, 0), datetime.datetime(2017, 5, 19, 0, 0), datetime.datetime(2017, 5, 20, 0, 0), datetime.datetime(2017, 5, 21, 0, 0), datetime.datetime(2017, 5, 22, 0, 0), datetime.datetime(2017, 5, 23, 0, 0), datetime.datetime(2017, 5, 24, 0, 0), datetime.datetime(2017, 5, 25, 0, 0), datetime.datetime(2017, 5, 26, 0, 0), datetime.datetime(2017, 5, 27, 0, 0), datetime.datetime(2017, 5, 28, 0, 0), datetime.datetime(2017, 5, 29, 0, 0), datetime.datetime(2017, 5, 30, 0, 0), datetime.datetime(2017, 5, 31, 0, 0), datetime.datetime(2017, 6, 1, 0, 0), datetime.datetime(2017, 6, 2, 0, 0), datetime.datetime(2017, 6, 3, 0, 0), datetime.datetime(2017, 6, 4, 0, 0), datetime.datetime(2017, 6, 5, 0, 0), datetime.datetime(2017, 6, 6, 0, 0), datetime.datetime(2017, 6, 7, 0, 0), datetime.datetime(2017, 6, 8, 0, 0), datetime.datetime(2017, 6, 9, 0, 0), datetime.datetime(2017, 6, 10, 0, 0), datetime.datetime(2017, 6, 11, 0, 0), datetime.datetime(2017, 6, 12, 0, 0), datetime.datetime(2017, 6, 13, 0, 0), datetime.datetime(2017, 6, 14, 0, 0), datetime.datetime(2017, 6, 15, 0, 0), datetime.datetime(2017, 6, 16, 0, 0), datetime.datetime(2017, 6, 17, 0, 0), datetime.datetime(2017, 6, 18, 0, 0), datetime.datetime(2017, 6, 19, 0, 0), datetime.datetime(2017, 6, 20, 0, 0), datetime.datetime(2017, 6, 21, 0, 0), datetime.datetime(2017, 6, 22, 0, 0), datetime.datetime(2017, 6, 23, 0, 0), datetime.datetime(2017, 6, 24, 0, 0), datetime.datetime(2017, 6, 25, 0, 0), datetime.datetime(2017, 6, 26, 0, 0), datetime.datetime(2017, 6, 27, 0, 0), datetime.datetime(2017, 6, 28, 0, 0), datetime.datetime(2017, 6, 29, 0, 0), datetime.datetime(2017, 6, 30, 0, 0), datetime.datetime(2017, 7, 1, 0, 0), datetime.datetime(2017, 7, 2, 0, 0), datetime.datetime(2017, 7, 3, 0, 0), datetime.datetime(2017, 7, 4, 0, 0), datetime.datetime(2017, 7, 5, 0, 0), datetime.datetime(2017, 7, 6, 0, 0), datetime.datetime(2017, 7, 7, 0, 0), datetime.datetime(2017, 7, 8, 0, 0), datetime.datetime(2017, 7, 9, 0, 0), datetime.datetime(2017, 7, 10, 0, 0), datetime.datetime(2017, 7, 11, 0, 0), datetime.datetime(2017, 7, 12, 0, 0), datetime.datetime(2017, 7, 13, 0, 0), datetime.datetime(2017, 7, 14, 0, 0), datetime.datetime(2017, 7, 15, 0, 0), datetime.datetime(2017, 7, 16, 0, 0), datetime.datetime(2017, 7, 17, 0, 0), datetime.datetime(2017, 7, 18, 0, 0), datetime.datetime(2017, 7, 19, 0, 0), datetime.datetime(2017, 7, 20, 0, 0), datetime.datetime(2017, 7, 21, 0, 0), datetime.datetime(2017, 7, 22, 0, 0), datetime.datetime(2017, 7, 23, 0, 0), datetime.datetime(2017, 7, 24, 0, 0), datetime.datetime(2017, 7, 25, 0, 0), datetime.datetime(2017, 7, 26, 0, 0), datetime.datetime(2017, 7, 27, 0, 0), datetime.datetime(2017, 7, 28, 0, 0), datetime.datetime(2017, 7, 29, 0, 0), datetime.datetime(2017, 7, 30, 0, 0), datetime.datetime(2017, 7, 31, 0, 0), datetime.datetime(2017, 8, 1, 0, 0), datetime.datetime(2017, 8, 2, 0, 0), datetime.datetime(2017, 8, 3, 0, 0), datetime.datetime(2017, 8, 4, 0, 0), datetime.datetime(2017, 8, 5, 0, 0), datetime.datetime(2017, 8, 6, 0, 0), datetime.datetime(2017, 8, 7, 0, 0), datetime.datetime(2017, 8, 8, 0, 0), datetime.datetime(2017, 8, 9, 0, 0), datetime.datetime(2017, 8, 10, 0, 0), datetime.datetime(2017, 8, 11, 0, 0), datetime.datetime(2017, 8, 12, 0, 0), datetime.datetime(2017, 8, 13, 0, 0), datetime.datetime(2017, 8, 14, 0, 0), datetime.datetime(2017, 8, 15, 0, 0), datetime.datetime(2017, 8, 16, 0, 0), datetime.datetime(2017, 8, 17, 0, 0), datetime.datetime(2017, 8, 18, 0, 0), datetime.datetime(2017, 8, 19, 0, 0), datetime.datetime(2017, 8, 20, 0, 0), datetime.datetime(2017, 8, 21, 0, 0), datetime.datetime(2017, 8, 22, 0, 0), datetime.datetime(2017, 8, 23, 0, 0), datetime.datetime(2017, 8, 24, 0, 0), datetime.datetime(2017, 8, 25, 0, 0), datetime.datetime(2017, 8, 26, 0, 0), datetime.datetime(2017, 8, 27, 0, 0), datetime.datetime(2017, 8, 28, 0, 0), datetime.datetime(2017, 8, 29, 0, 0), datetime.datetime(2017, 8, 30, 0, 0), datetime.datetime(2017, 8, 31, 0, 0), datetime.datetime(2017, 9, 1, 0, 0), datetime.datetime(2017, 9, 2, 0, 0), datetime.datetime(2017, 9, 3, 0, 0), datetime.datetime(2017, 9, 4, 0, 0), datetime.datetime(2017, 9, 5, 0, 0), datetime.datetime(2017, 9, 6, 0, 0), datetime.datetime(2017, 9, 7, 0, 0), datetime.datetime(2017, 9, 8, 0, 0), datetime.datetime(2017, 9, 9, 0, 0), datetime.datetime(2017, 9, 10, 0, 0), datetime.datetime(2017, 9, 11, 0, 0), datetime.datetime(2017, 9, 12, 0, 0), datetime.datetime(2017, 9, 13, 0, 0), datetime.datetime(2017, 9, 14, 0, 0), datetime.datetime(2017, 9, 15, 0, 0), datetime.datetime(2017, 9, 16, 0, 0), datetime.datetime(2017, 9, 17, 0, 0), datetime.datetime(2017, 9, 18, 0, 0), datetime.datetime(2017, 9, 19, 0, 0), datetime.datetime(2017, 9, 20, 0, 0), datetime.datetime(2017, 9, 21, 0, 0), datetime.datetime(2017, 9, 22, 0, 0), datetime.datetime(2017, 9, 23, 0, 0), datetime.datetime(2017, 9, 24, 0, 0), datetime.datetime(2017, 9, 25, 0, 0), datetime.datetime(2017, 9, 26, 0, 0), datetime.datetime(2017, 9, 27, 0, 0), datetime.datetime(2017, 9, 28, 0, 0), datetime.datetime(2017, 9, 29, 0, 0), datetime.datetime(2017, 9, 30, 0, 0), datetime.datetime(2017, 10, 1, 0, 0), datetime.datetime(2017, 10, 2, 0, 0), datetime.datetime(2017, 10, 3, 0, 0), datetime.datetime(2017, 10, 4, 0, 0), datetime.datetime(2017, 10, 5, 0, 0), datetime.datetime(2017, 10, 6, 0, 0), datetime.datetime(2017, 10, 7, 0, 0), datetime.datetime(2017, 10, 8, 0, 0), datetime.datetime(2017, 10, 9, 0, 0), datetime.datetime(2017, 10, 10, 0, 0), datetime.datetime(2017, 10, 11, 0, 0), datetime.datetime(2017, 10, 12, 0, 0), datetime.datetime(2017, 10, 13, 0, 0), datetime.datetime(2017, 10, 14, 0, 0), datetime.datetime(2017, 10, 15, 0, 0), datetime.datetime(2017, 10, 16, 0, 0), datetime.datetime(2017, 10, 17, 0, 0), datetime.datetime(2017, 10, 18, 0, 0), datetime.datetime(2017, 10, 19, 0, 0), datetime.datetime(2017, 10, 20, 0, 0), datetime.datetime(2017, 10, 21, 0, 0), datetime.datetime(2017, 10, 22, 0, 0), datetime.datetime(2017, 10, 23, 0, 0), datetime.datetime(2017, 10, 24, 0, 0), datetime.datetime(2017, 10, 25, 0, 0), datetime.datetime(2017, 10, 26, 0, 0), datetime.datetime(2017, 10, 27, 0, 0), datetime.datetime(2017, 10, 28, 0, 0), datetime.datetime(2017, 10, 29, 0, 0), datetime.datetime(2017, 10, 30, 0, 0), datetime.datetime(2017, 10, 31, 0, 0), datetime.datetime(2017, 11, 1, 0, 0), datetime.datetime(2017, 11, 2, 0, 0), datetime.datetime(2017, 11, 3, 0, 0), datetime.datetime(2017, 11, 4, 0, 0), datetime.datetime(2017, 11, 5, 0, 0), datetime.datetime(2017, 11, 6, 0, 0), datetime.datetime(2017, 11, 7, 0, 0), datetime.datetime(2017, 11, 8, 0, 0), datetime.datetime(2017, 11, 9, 0, 0), datetime.datetime(2017, 11, 10, 0, 0), datetime.datetime(2017, 11, 11, 0, 0), datetime.datetime(2017, 11, 12, 0, 0), datetime.datetime(2017, 11, 13, 0, 0), datetime.datetime(2017, 11, 14, 0, 0), datetime.datetime(2017, 11, 15, 0, 0), datetime.datetime(2017, 11, 16, 0, 0), datetime.datetime(2017, 11, 17, 0, 0), datetime.datetime(2017, 11, 18, 0, 0), datetime.datetime(2017, 11, 19, 0, 0), datetime.datetime(2017, 11, 20, 0, 0), datetime.datetime(2017, 11, 21, 0, 0), datetime.datetime(2017, 11, 22, 0, 0), datetime.datetime(2017, 11, 23, 0, 0), datetime.datetime(2017, 11, 24, 0, 0), datetime.datetime(2017, 11, 25, 0, 0), datetime.datetime(2017, 11, 26, 0, 0), datetime.datetime(2017, 11, 27, 0, 0), datetime.datetime(2017, 11, 28, 0, 0), datetime.datetime(2017, 11, 29, 0, 0), datetime.datetime(2017, 11, 30, 0, 0), datetime.datetime(2017, 12, 1, 0, 0), datetime.datetime(2017, 12, 2, 0, 0), datetime.datetime(2017, 12, 3, 0, 0), datetime.datetime(2017, 12, 4, 0, 0), datetime.datetime(2017, 12, 5, 0, 0), datetime.datetime(2017, 12, 6, 0, 0), datetime.datetime(2017, 12, 7, 0, 0), datetime.datetime(2017, 12, 8, 0, 0), datetime.datetime(2017, 12, 9, 0, 0), datetime.datetime(2017, 12, 10, 0, 0), datetime.datetime(2017, 12, 11, 0, 0), datetime.datetime(2017, 12, 12, 0, 0), datetime.datetime(2017, 12, 13, 0, 0), datetime.datetime(2017, 12, 14, 0, 0), datetime.datetime(2017, 12, 15, 0, 0), datetime.datetime(2017, 12, 16, 0, 0), datetime.datetime(2017, 12, 17, 0, 0), datetime.datetime(2017, 12, 18, 0, 0), datetime.datetime(2017, 12, 19, 0, 0), datetime.datetime(2017, 12, 20, 0, 0), datetime.datetime(2017, 12, 21, 0, 0), datetime.datetime(2017, 12, 22, 0, 0), datetime.datetime(2017, 12, 23, 0, 0), datetime.datetime(2017, 12, 24, 0, 0), datetime.datetime(2017, 12, 25, 0, 0), datetime.datetime(2017, 12, 26, 0, 0), datetime.datetime(2017, 12, 27, 0, 0), datetime.datetime(2017, 12, 28, 0, 0), datetime.datetime(2017, 12, 29, 0, 0), datetime.datetime(2017, 12, 30, 0, 0), datetime.datetime(2017, 12, 31, 0, 0), datetime.datetime(2018, 1, 1, 0, 0), datetime.datetime(2018, 1, 2, 0, 0), datetime.datetime(2018, 1, 3, 0, 0), datetime.datetime(2018, 1, 4, 0, 0), datetime.datetime(2018, 1, 5, 0, 0), datetime.datetime(2018, 1, 6, 0, 0), datetime.datetime(2018, 1, 7, 0, 0), datetime.datetime(2018, 1, 8, 0, 0), datetime.datetime(2018, 1, 9, 0, 0), datetime.datetime(2018, 1, 10, 0, 0), datetime.datetime(2018, 1, 11, 0, 0), datetime.datetime(2018, 1, 12, 0, 0), datetime.datetime(2018, 1, 13, 0, 0), datetime.datetime(2018, 1, 14, 0, 0), datetime.datetime(2018, 1, 15, 0, 0), datetime.datetime(2018, 1, 16, 0, 0), datetime.datetime(2018, 1, 17, 0, 0), datetime.datetime(2018, 1, 18, 0, 0), datetime.datetime(2018, 1, 19, 0, 0), datetime.datetime(2018, 1, 20, 0, 0), datetime.datetime(2018, 1, 21, 0, 0), datetime.datetime(2018, 1, 22, 0, 0), datetime.datetime(2018, 1, 23, 0, 0), datetime.datetime(2018, 1, 24, 0, 0), datetime.datetime(2018, 1, 25, 0, 0), datetime.datetime(2018, 1, 26, 0, 0), datetime.datetime(2018, 1, 27, 0, 0), datetime.datetime(2018, 1, 28, 0, 0), datetime.datetime(2018, 1, 29, 0, 0), datetime.datetime(2018, 1, 30, 0, 0), datetime.datetime(2018, 1, 31, 0, 0), datetime.datetime(2018, 2, 1, 0, 0), datetime.datetime(2018, 2, 2, 0, 0), datetime.datetime(2018, 2, 3, 0, 0), datetime.datetime(2018, 2, 4, 0, 0), datetime.datetime(2018, 2, 5, 0, 0), datetime.datetime(2018, 2, 6, 0, 0), datetime.datetime(2018, 2, 7, 0, 0), datetime.datetime(2018, 2, 8, 0, 0), datetime.datetime(2018, 2, 9, 0, 0), datetime.datetime(2018, 2, 10, 0, 0), datetime.datetime(2018, 2, 11, 0, 0), datetime.datetime(2018, 2, 12, 0, 0), datetime.datetime(2018, 2, 13, 0, 0), datetime.datetime(2018, 2, 14, 0, 0), datetime.datetime(2018, 2, 15, 0, 0), datetime.datetime(2018, 2, 16, 0, 0), datetime.datetime(2018, 2, 17, 0, 0), datetime.datetime(2018, 2, 18, 0, 0), datetime.datetime(2018, 2, 19, 0, 0), datetime.datetime(2018, 2, 20, 0, 0), datetime.datetime(2018, 2, 21, 0, 0), datetime.datetime(2018, 2, 22, 0, 0), datetime.datetime(2018, 2, 23, 0, 0), datetime.datetime(2018, 2, 24, 0, 0), datetime.datetime(2018, 2, 25, 0, 0), datetime.datetime(2018, 2, 26, 0, 0), datetime.datetime(2018, 2, 27, 0, 0), datetime.datetime(2018, 2, 28, 0, 0), datetime.datetime(2018, 3, 1, 0, 0), datetime.datetime(2018, 3, 2, 0, 0), datetime.datetime(2018, 3, 3, 0, 0), datetime.datetime(2018, 3, 4, 0, 0), datetime.datetime(2018, 3, 5, 0, 0), datetime.datetime(2018, 3, 6, 0, 0), datetime.datetime(2018, 3, 7, 0, 0), datetime.datetime(2018, 3, 8, 0, 0), datetime.datetime(2018, 3, 9, 0, 0), datetime.datetime(2018, 3, 10, 0, 0), datetime.datetime(2018, 3, 11, 0, 0), datetime.datetime(2018, 3, 12, 0, 0), datetime.datetime(2018, 3, 13, 0, 0), datetime.datetime(2018, 3, 14, 0, 0), datetime.datetime(2018, 3, 15, 0, 0), datetime.datetime(2018, 3, 16, 0, 0), datetime.datetime(2018, 3, 17, 0, 0), datetime.datetime(2018, 3, 18, 0, 0), datetime.datetime(2018, 3, 19, 0, 0), datetime.datetime(2018, 3, 20, 0, 0), datetime.datetime(2018, 3, 21, 0, 0), datetime.datetime(2018, 3, 22, 0, 0), datetime.datetime(2018, 3, 23, 0, 0), datetime.datetime(2018, 3, 24, 0, 0), datetime.datetime(2018, 3, 25, 0, 0), datetime.datetime(2018, 3, 26, 0, 0), datetime.datetime(2018, 3, 27, 0, 0), datetime.datetime(2018, 3, 28, 0, 0), datetime.datetime(2018, 3, 29, 0, 0), datetime.datetime(2018, 3, 30, 0, 0), datetime.datetime(2018, 3, 31, 0, 0), datetime.datetime(2018, 4, 1, 0, 0), datetime.datetime(2018, 4, 2, 0, 0), datetime.datetime(2018, 4, 3, 0, 0), datetime.datetime(2018, 4, 4, 0, 0), datetime.datetime(2018, 4, 5, 0, 0), datetime.datetime(2018, 4, 6, 0, 0), datetime.datetime(2018, 4, 7, 0, 0), datetime.datetime(2018, 4, 8, 0, 0), datetime.datetime(2018, 4, 9, 0, 0), datetime.datetime(2018, 4, 10, 0, 0), datetime.datetime(2018, 4, 11, 0, 0), datetime.datetime(2018, 4, 12, 0, 0), datetime.datetime(2018, 4, 13, 0, 0), datetime.datetime(2018, 4, 14, 0, 0), datetime.datetime(2018, 4, 15, 0, 0), datetime.datetime(2018, 4, 16, 0, 0), datetime.datetime(2018, 4, 17, 0, 0), datetime.datetime(2018, 4, 18, 0, 0), datetime.datetime(2018, 4, 19, 0, 0), datetime.datetime(2018, 4, 20, 0, 0), datetime.datetime(2018, 4, 21, 0, 0), datetime.datetime(2018, 4, 22, 0, 0), datetime.datetime(2018, 4, 23, 0, 0), datetime.datetime(2018, 4, 24, 0, 0), datetime.datetime(2018, 4, 25, 0, 0), datetime.datetime(2018, 4, 26, 0, 0), datetime.datetime(2018, 4, 27, 0, 0), datetime.datetime(2018, 4, 28, 0, 0), datetime.datetime(2018, 4, 29, 0, 0), datetime.datetime(2018, 4, 30, 0, 0), datetime.datetime(2018, 5, 1, 0, 0), datetime.datetime(2018, 5, 2, 0, 0), datetime.datetime(2018, 5, 3, 0, 0), datetime.datetime(2018, 5, 4, 0, 0), datetime.datetime(2018, 5, 5, 0, 0), datetime.datetime(2018, 5, 6, 0, 0), datetime.datetime(2018, 5, 7, 0, 0), datetime.datetime(2018, 5, 8, 0, 0), datetime.datetime(2018, 5, 9, 0, 0), datetime.datetime(2018, 5, 10, 0, 0), datetime.datetime(2018, 5, 11, 0, 0), datetime.datetime(2018, 5, 12, 0, 0), datetime.datetime(2018, 5, 13, 0, 0), datetime.datetime(2018, 5, 14, 0, 0), datetime.datetime(2018, 5, 15, 0, 0), datetime.datetime(2018, 5, 16, 0, 0), datetime.datetime(2018, 5, 17, 0, 0), datetime.datetime(2018, 5, 18, 0, 0), datetime.datetime(2018, 5, 19, 0, 0), datetime.datetime(2018, 5, 20, 0, 0), datetime.datetime(2018, 5, 21, 0, 0), datetime.datetime(2018, 5, 22, 0, 0), datetime.datetime(2018, 5, 23, 0, 0), datetime.datetime(2018, 5, 24, 0, 0), datetime.datetime(2018, 5, 25, 0, 0), datetime.datetime(2018, 5, 26, 0, 0), datetime.datetime(2018, 5, 27, 0, 0), datetime.datetime(2018, 5, 28, 0, 0), datetime.datetime(2018, 5, 29, 0, 0), datetime.datetime(2018, 5, 30, 0, 0), datetime.datetime(2018, 5, 31, 0, 0), datetime.datetime(2018, 6, 1, 0, 0), datetime.datetime(2018, 6, 2, 0, 0), datetime.datetime(2018, 6, 3, 0, 0), datetime.datetime(2018, 6, 4, 0, 0), datetime.datetime(2018, 6, 5, 0, 0), datetime.datetime(2018, 6, 6, 0, 0), datetime.datetime(2018, 6, 7, 0, 0), datetime.datetime(2018, 6, 8, 0, 0), datetime.datetime(2018, 6, 9, 0, 0), datetime.datetime(2018, 6, 10, 0, 0), datetime.datetime(2018, 6, 11, 0, 0), datetime.datetime(2018, 6, 12, 0, 0), datetime.datetime(2018, 6, 13, 0, 0), datetime.datetime(2018, 6, 14, 0, 0), datetime.datetime(2018, 6, 15, 0, 0), datetime.datetime(2018, 6, 16, 0, 0), datetime.datetime(2018, 6, 17, 0, 0), datetime.datetime(2018, 6, 18, 0, 0), datetime.datetime(2018, 6, 19, 0, 0), datetime.datetime(2018, 6, 20, 0, 0), datetime.datetime(2018, 6, 21, 0, 0), datetime.datetime(2018, 6, 22, 0, 0), datetime.datetime(2018, 6, 23, 0, 0), datetime.datetime(2018, 6, 24, 0, 0), datetime.datetime(2018, 6, 25, 0, 0), datetime.datetime(2018, 6, 26, 0, 0), datetime.datetime(2018, 6, 27, 0, 0), datetime.datetime(2018, 6, 28, 0, 0), datetime.datetime(2018, 6, 29, 0, 0), datetime.datetime(2018, 6, 30, 0, 0), datetime.datetime(2018, 7, 1, 0, 0), datetime.datetime(2018, 7, 2, 0, 0), datetime.datetime(2018, 7, 3, 0, 0), datetime.datetime(2018, 7, 4, 0, 0), datetime.datetime(2018, 7, 5, 0, 0), datetime.datetime(2018, 7, 6, 0, 0), datetime.datetime(2018, 7, 7, 0, 0), datetime.datetime(2018, 7, 8, 0, 0), datetime.datetime(2018, 7, 9, 0, 0), datetime.datetime(2018, 7, 10, 0, 0), datetime.datetime(2018, 7, 11, 0, 0), datetime.datetime(2018, 7, 12, 0, 0), datetime.datetime(2018, 7, 13, 0, 0), datetime.datetime(2018, 7, 14, 0, 0), datetime.datetime(2018, 7, 15, 0, 0), datetime.datetime(2018, 7, 16, 0, 0), datetime.datetime(2018, 7, 17, 0, 0), datetime.datetime(2018, 7, 18, 0, 0), datetime.datetime(2018, 7, 19, 0, 0), datetime.datetime(2018, 7, 20, 0, 0), datetime.datetime(2018, 7, 21, 0, 0), datetime.datetime(2018, 7, 22, 0, 0), datetime.datetime(2018, 7, 23, 0, 0), datetime.datetime(2018, 7, 24, 0, 0), datetime.datetime(2018, 7, 25, 0, 0), datetime.datetime(2018, 7, 26, 0, 0), datetime.datetime(2018, 7, 27, 0, 0), datetime.datetime(2018, 7, 28, 0, 0), datetime.datetime(2018, 7, 29, 0, 0), datetime.datetime(2018, 7, 30, 0, 0), datetime.datetime(2018, 7, 31, 0, 0), datetime.datetime(2018, 8, 1, 0, 0), datetime.datetime(2018, 8, 2, 0, 0), datetime.datetime(2018, 8, 3, 0, 0), datetime.datetime(2018, 8, 4, 0, 0), datetime.datetime(2018, 8, 5, 0, 0), datetime.datetime(2018, 8, 6, 0, 0), datetime.datetime(2018, 8, 7, 0, 0), datetime.datetime(2018, 8, 8, 0, 0), datetime.datetime(2018, 8, 9, 0, 0), datetime.datetime(2018, 8, 10, 0, 0), datetime.datetime(2018, 8, 11, 0, 0), datetime.datetime(2018, 8, 12, 0, 0), datetime.datetime(2018, 8, 13, 0, 0), datetime.datetime(2018, 8, 14, 0, 0), datetime.datetime(2018, 8, 15, 0, 0), datetime.datetime(2018, 8, 16, 0, 0), datetime.datetime(2018, 8, 17, 0, 0), datetime.datetime(2018, 8, 18, 0, 0), datetime.datetime(2018, 8, 19, 0, 0), datetime.datetime(2018, 8, 20, 0, 0), datetime.datetime(2018, 8, 21, 0, 0), datetime.datetime(2018, 8, 22, 0, 0), datetime.datetime(2018, 8, 23, 0, 0), datetime.datetime(2018, 8, 24, 0, 0), datetime.datetime(2018, 8, 25, 0, 0), datetime.datetime(2018, 8, 26, 0, 0), datetime.datetime(2018, 8, 27, 0, 0), datetime.datetime(2018, 8, 28, 0, 0), datetime.datetime(2018, 8, 29, 0, 0), datetime.datetime(2018, 8, 30, 0, 0), datetime.datetime(2018, 8, 31, 0, 0), datetime.datetime(2018, 9, 1, 0, 0), datetime.datetime(2018, 9, 2, 0, 0), datetime.datetime(2018, 9, 3, 0, 0), datetime.datetime(2018, 9, 4, 0, 0), datetime.datetime(2018, 9, 5, 0, 0), datetime.datetime(2018, 9, 6, 0, 0), datetime.datetime(2018, 9, 7, 0, 0), datetime.datetime(2018, 9, 8, 0, 0), datetime.datetime(2018, 9, 9, 0, 0), datetime.datetime(2018, 9, 10, 0, 0), datetime.datetime(2018, 9, 11, 0, 0), datetime.datetime(2018, 9, 12, 0, 0), datetime.datetime(2018, 9, 13, 0, 0), datetime.datetime(2018, 9, 14, 0, 0), datetime.datetime(2018, 9, 15, 0, 0), datetime.datetime(2018, 9, 16, 0, 0), datetime.datetime(2018, 9, 17, 0, 0), datetime.datetime(2018, 9, 18, 0, 0), datetime.datetime(2018, 9, 19, 0, 0), datetime.datetime(2018, 9, 20, 0, 0), datetime.datetime(2018, 9, 21, 0, 0), datetime.datetime(2018, 9, 22, 0, 0), datetime.datetime(2018, 9, 23, 0, 0), datetime.datetime(2018, 9, 24, 0, 0), datetime.datetime(2018, 9, 25, 0, 0), datetime.datetime(2018, 9, 26, 0, 0), datetime.datetime(2018, 9, 27, 0, 0), datetime.datetime(2018, 9, 28, 0, 0), datetime.datetime(2018, 9, 29, 0, 0), datetime.datetime(2018, 9, 30, 0, 0), datetime.datetime(2018, 10, 1, 0, 0), datetime.datetime(2018, 10, 2, 0, 0), datetime.datetime(2018, 10, 3, 0, 0), datetime.datetime(2018, 10, 4, 0, 0), datetime.datetime(2018, 10, 5, 0, 0), datetime.datetime(2018, 10, 6, 0, 0), datetime.datetime(2018, 10, 7, 0, 0), datetime.datetime(2018, 10, 8, 0, 0), datetime.datetime(2018, 10, 9, 0, 0), datetime.datetime(2018, 10, 10, 0, 0), datetime.datetime(2018, 10, 11, 0, 0), datetime.datetime(2018, 10, 12, 0, 0), datetime.datetime(2018, 10, 13, 0, 0), datetime.datetime(2018, 10, 14, 0, 0), datetime.datetime(2018, 10, 15, 0, 0), datetime.datetime(2018, 10, 16, 0, 0), datetime.datetime(2018, 10, 17, 0, 0), datetime.datetime(2018, 10, 18, 0, 0), datetime.datetime(2018, 10, 19, 0, 0), datetime.datetime(2018, 10, 20, 0, 0), datetime.datetime(2018, 10, 21, 0, 0), datetime.datetime(2018, 10, 22, 0, 0), datetime.datetime(2018, 10, 23, 0, 0), datetime.datetime(2018, 10, 24, 0, 0), datetime.datetime(2018, 10, 25, 0, 0), datetime.datetime(2018, 10, 26, 0, 0), datetime.datetime(2018, 10, 27, 0, 0), datetime.datetime(2018, 10, 28, 0, 0), datetime.datetime(2018, 10, 29, 0, 0), datetime.datetime(2018, 10, 30, 0, 0), datetime.datetime(2018, 10, 31, 0, 0), datetime.datetime(2018, 11, 1, 0, 0), datetime.datetime(2018, 11, 2, 0, 0), datetime.datetime(2018, 11, 3, 0, 0), datetime.datetime(2018, 11, 4, 0, 0), datetime.datetime(2018, 11, 5, 0, 0), datetime.datetime(2018, 11, 6, 0, 0), datetime.datetime(2018, 11, 7, 0, 0), datetime.datetime(2018, 11, 8, 0, 0), datetime.datetime(2018, 11, 9, 0, 0), datetime.datetime(2018, 11, 10, 0, 0), datetime.datetime(2018, 11, 11, 0, 0), datetime.datetime(2018, 11, 12, 0, 0), datetime.datetime(2018, 11, 13, 0, 0), datetime.datetime(2018, 11, 14, 0, 0), datetime.datetime(2018, 11, 15, 0, 0), datetime.datetime(2018, 11, 16, 0, 0), datetime.datetime(2018, 11, 17, 0, 0), datetime.datetime(2018, 11, 18, 0, 0), datetime.datetime(2018, 11, 19, 0, 0), datetime.datetime(2018, 11, 20, 0, 0), datetime.datetime(2018, 11, 21, 0, 0), datetime.datetime(2018, 11, 22, 0, 0), datetime.datetime(2018, 11, 23, 0, 0), datetime.datetime(2018, 11, 24, 0, 0), datetime.datetime(2018, 11, 25, 0, 0), datetime.datetime(2018, 11, 26, 0, 0), datetime.datetime(2018, 11, 27, 0, 0), datetime.datetime(2018, 11, 28, 0, 0), datetime.datetime(2018, 11, 29, 0, 0), datetime.datetime(2018, 11, 30, 0, 0), datetime.datetime(2018, 12, 1, 0, 0), datetime.datetime(2018, 12, 2, 0, 0), datetime.datetime(2018, 12, 3, 0, 0), datetime.datetime(2018, 12, 4, 0, 0), datetime.datetime(2018, 12, 5, 0, 0), datetime.datetime(2018, 12, 6, 0, 0), datetime.datetime(2018, 12, 7, 0, 0), datetime.datetime(2018, 12, 8, 0, 0), datetime.datetime(2018, 12, 9, 0, 0), datetime.datetime(2018, 12, 10, 0, 0), datetime.datetime(2018, 12, 11, 0, 0), datetime.datetime(2018, 12, 12, 0, 0), datetime.datetime(2018, 12, 13, 0, 0), datetime.datetime(2018, 12, 14, 0, 0), datetime.datetime(2018, 12, 15, 0, 0), datetime.datetime(2018, 12, 16, 0, 0), datetime.datetime(2018, 12, 17, 0, 0), datetime.datetime(2018, 12, 18, 0, 0), datetime.datetime(2018, 12, 19, 0, 0), datetime.datetime(2018, 12, 20, 0, 0), datetime.datetime(2018, 12, 21, 0, 0), datetime.datetime(2018, 12, 22, 0, 0), datetime.datetime(2018, 12, 23, 0, 0), datetime.datetime(2018, 12, 24, 0, 0), datetime.datetime(2018, 12, 25, 0, 0), datetime.datetime(2018, 12, 26, 0, 0), datetime.datetime(2018, 12, 27, 0, 0), datetime.datetime(2018, 12, 28, 0, 0), datetime.datetime(2018, 12, 29, 0, 0), datetime.datetime(2018, 12, 30, 0, 0), datetime.datetime(2018, 12, 31, 0, 0), datetime.datetime(2019, 1, 1, 0, 0), datetime.datetime(2019, 1, 2, 0, 0), datetime.datetime(2019, 1, 3, 0, 0), datetime.datetime(2019, 1, 4, 0, 0), datetime.datetime(2019, 1, 5, 0, 0), datetime.datetime(2019, 1, 6, 0, 0), datetime.datetime(2019, 1, 7, 0, 0), datetime.datetime(2019, 1, 8, 0, 0), datetime.datetime(2019, 1, 9, 0, 0), datetime.datetime(2019, 1, 10, 0, 0), datetime.datetime(2019, 1, 11, 0, 0), datetime.datetime(2019, 1, 12, 0, 0), datetime.datetime(2019, 1, 13, 0, 0), datetime.datetime(2019, 1, 14, 0, 0), datetime.datetime(2019, 1, 15, 0, 0), datetime.datetime(2019, 1, 16, 0, 0), datetime.datetime(2019, 1, 17, 0, 0), datetime.datetime(2019, 1, 18, 0, 0), datetime.datetime(2019, 1, 19, 0, 0), datetime.datetime(2019, 1, 20, 0, 0), datetime.datetime(2019, 1, 21, 0, 0), datetime.datetime(2019, 1, 22, 0, 0), datetime.datetime(2019, 1, 23, 0, 0), datetime.datetime(2019, 1, 24, 0, 0), datetime.datetime(2019, 1, 25, 0, 0), datetime.datetime(2019, 1, 26, 0, 0), datetime.datetime(2019, 1, 27, 0, 0), datetime.datetime(2019, 1, 28, 0, 0), datetime.datetime(2019, 1, 29, 0, 0), datetime.datetime(2019, 1, 30, 0, 0), datetime.datetime(2019, 1, 31, 0, 0), datetime.datetime(2019, 2, 1, 0, 0), datetime.datetime(2019, 2, 2, 0, 0), datetime.datetime(2019, 2, 3, 0, 0), datetime.datetime(2019, 2, 4, 0, 0), datetime.datetime(2019, 2, 5, 0, 0), datetime.datetime(2019, 2, 6, 0, 0), datetime.datetime(2019, 2, 7, 0, 0), datetime.datetime(2019, 2, 8, 0, 0), datetime.datetime(2019, 2, 9, 0, 0), datetime.datetime(2019, 2, 10, 0, 0), datetime.datetime(2019, 2, 11, 0, 0), datetime.datetime(2019, 2, 12, 0, 0), datetime.datetime(2019, 2, 13, 0, 0), datetime.datetime(2019, 2, 14, 0, 0), datetime.datetime(2019, 2, 15, 0, 0), datetime.datetime(2019, 2, 16, 0, 0), datetime.datetime(2019, 2, 17, 0, 0), datetime.datetime(2019, 2, 18, 0, 0), datetime.datetime(2019, 2, 19, 0, 0), datetime.datetime(2019, 2, 20, 0, 0), datetime.datetime(2019, 2, 21, 0, 0), datetime.datetime(2019, 2, 22, 0, 0), datetime.datetime(2019, 2, 23, 0, 0), datetime.datetime(2019, 2, 24, 0, 0), datetime.datetime(2019, 2, 25, 0, 0), datetime.datetime(2019, 2, 26, 0, 0), datetime.datetime(2019, 2, 27, 0, 0), datetime.datetime(2019, 2, 28, 0, 0), datetime.datetime(2019, 3, 1, 0, 0), datetime.datetime(2019, 3, 2, 0, 0), datetime.datetime(2019, 3, 3, 0, 0), datetime.datetime(2019, 3, 4, 0, 0), datetime.datetime(2019, 3, 5, 0, 0), datetime.datetime(2019, 3, 6, 0, 0), datetime.datetime(2019, 3, 7, 0, 0), datetime.datetime(2019, 3, 8, 0, 0), datetime.datetime(2019, 3, 9, 0, 0), datetime.datetime(2019, 3, 10, 0, 0), datetime.datetime(2019, 3, 11, 0, 0), datetime.datetime(2019, 3, 12, 0, 0), datetime.datetime(2019, 3, 13, 0, 0), datetime.datetime(2019, 3, 14, 0, 0), datetime.datetime(2019, 3, 15, 0, 0), datetime.datetime(2019, 3, 16, 0, 0), datetime.datetime(2019, 3, 17, 0, 0), datetime.datetime(2019, 3, 18, 0, 0), datetime.datetime(2019, 3, 19, 0, 0), datetime.datetime(2019, 3, 20, 0, 0), datetime.datetime(2019, 3, 21, 0, 0), datetime.datetime(2019, 3, 22, 0, 0), datetime.datetime(2019, 3, 23, 0, 0), datetime.datetime(2019, 3, 24, 0, 0), datetime.datetime(2019, 3, 25, 0, 0), datetime.datetime(2019, 3, 26, 0, 0), datetime.datetime(2019, 3, 27, 0, 0), datetime.datetime(2019, 3, 28, 0, 0), datetime.datetime(2019, 3, 29, 0, 0), datetime.datetime(2019, 3, 30, 0, 0), datetime.datetime(2019, 3, 31, 0, 0), datetime.datetime(2019, 4, 1, 0, 0), datetime.datetime(2019, 4, 2, 0, 0), datetime.datetime(2019, 4, 3, 0, 0), datetime.datetime(2019, 4, 4, 0, 0), datetime.datetime(2019, 4, 5, 0, 0), datetime.datetime(2019, 4, 6, 0, 0), datetime.datetime(2019, 4, 7, 0, 0), datetime.datetime(2019, 4, 8, 0, 0), datetime.datetime(2019, 4, 9, 0, 0), datetime.datetime(2019, 4, 10, 0, 0), datetime.datetime(2019, 4, 11, 0, 0), datetime.datetime(2019, 4, 12, 0, 0), datetime.datetime(2019, 4, 13, 0, 0), datetime.datetime(2019, 4, 14, 0, 0), datetime.datetime(2019, 4, 15, 0, 0), datetime.datetime(2019, 4, 16, 0, 0), datetime.datetime(2019, 4, 17, 0, 0), datetime.datetime(2019, 4, 18, 0, 0), datetime.datetime(2019, 4, 19, 0, 0), datetime.datetime(2019, 4, 20, 0, 0), datetime.datetime(2019, 4, 21, 0, 0), datetime.datetime(2019, 4, 22, 0, 0), datetime.datetime(2019, 4, 23, 0, 0), datetime.datetime(2019, 4, 24, 0, 0), datetime.datetime(2019, 4, 25, 0, 0), datetime.datetime(2019, 4, 26, 0, 0), datetime.datetime(2019, 4, 27, 0, 0), datetime.datetime(2019, 4, 28, 0, 0), datetime.datetime(2019, 4, 29, 0, 0), datetime.datetime(2019, 4, 30, 0, 0), datetime.datetime(2019, 5, 1, 0, 0), datetime.datetime(2019, 5, 2, 0, 0), datetime.datetime(2019, 5, 3, 0, 0), datetime.datetime(2019, 5, 4, 0, 0), datetime.datetime(2019, 5, 5, 0, 0), datetime.datetime(2019, 5, 6, 0, 0), datetime.datetime(2019, 5, 7, 0, 0), datetime.datetime(2019, 5, 8, 0, 0), datetime.datetime(2019, 5, 9, 0, 0), datetime.datetime(2019, 5, 10, 0, 0), datetime.datetime(2019, 5, 11, 0, 0), datetime.datetime(2019, 5, 12, 0, 0), datetime.datetime(2019, 5, 13, 0, 0), datetime.datetime(2019, 5, 14, 0, 0), datetime.datetime(2019, 5, 15, 0, 0), datetime.datetime(2019, 5, 16, 0, 0), datetime.datetime(2019, 5, 17, 0, 0), datetime.datetime(2019, 5, 18, 0, 0), datetime.datetime(2019, 5, 19, 0, 0), datetime.datetime(2019, 5, 20, 0, 0), datetime.datetime(2019, 5, 21, 0, 0), datetime.datetime(2019, 5, 22, 0, 0), datetime.datetime(2019, 5, 23, 0, 0), datetime.datetime(2019, 5, 24, 0, 0), datetime.datetime(2019, 5, 25, 0, 0), datetime.datetime(2019, 5, 26, 0, 0), datetime.datetime(2019, 5, 27, 0, 0), datetime.datetime(2019, 5, 28, 0, 0), datetime.datetime(2019, 5, 29, 0, 0), datetime.datetime(2019, 5, 30, 0, 0), datetime.datetime(2019, 5, 31, 0, 0), datetime.datetime(2019, 6, 1, 0, 0), datetime.datetime(2019, 6, 2, 0, 0), datetime.datetime(2019, 6, 3, 0, 0), datetime.datetime(2019, 6, 4, 0, 0), datetime.datetime(2019, 6, 5, 0, 0), datetime.datetime(2019, 6, 6, 0, 0), datetime.datetime(2019, 6, 7, 0, 0), datetime.datetime(2019, 6, 8, 0, 0), datetime.datetime(2019, 6, 9, 0, 0), datetime.datetime(2019, 6, 10, 0, 0), datetime.datetime(2019, 6, 11, 0, 0), datetime.datetime(2019, 6, 12, 0, 0), datetime.datetime(2019, 6, 13, 0, 0), datetime.datetime(2019, 6, 14, 0, 0), datetime.datetime(2019, 6, 15, 0, 0), datetime.datetime(2019, 6, 16, 0, 0), datetime.datetime(2019, 6, 17, 0, 0), datetime.datetime(2019, 6, 18, 0, 0), datetime.datetime(2019, 6, 19, 0, 0), datetime.datetime(2019, 6, 20, 0, 0), datetime.datetime(2019, 6, 21, 0, 0), datetime.datetime(2019, 6, 22, 0, 0), datetime.datetime(2019, 6, 23, 0, 0), datetime.datetime(2019, 6, 24, 0, 0), datetime.datetime(2019, 6, 25, 0, 0), datetime.datetime(2019, 6, 26, 0, 0), datetime.datetime(2019, 6, 27, 0, 0), datetime.datetime(2019, 6, 28, 0, 0), datetime.datetime(2019, 6, 29, 0, 0), datetime.datetime(2019, 6, 30, 0, 0), datetime.datetime(2019, 7, 1, 0, 0), datetime.datetime(2019, 7, 2, 0, 0), datetime.datetime(2019, 7, 3, 0, 0), datetime.datetime(2019, 7, 4, 0, 0), datetime.datetime(2019, 7, 5, 0, 0), datetime.datetime(2019, 7, 6, 0, 0), datetime.datetime(2019, 7, 7, 0, 0), datetime.datetime(2019, 7, 8, 0, 0), datetime.datetime(2019, 7, 9, 0, 0), datetime.datetime(2019, 7, 10, 0, 0), datetime.datetime(2019, 7, 11, 0, 0), datetime.datetime(2019, 7, 12, 0, 0), datetime.datetime(2019, 7, 13, 0, 0), datetime.datetime(2019, 7, 14, 0, 0), datetime.datetime(2019, 7, 15, 0, 0), datetime.datetime(2019, 7, 16, 0, 0), datetime.datetime(2019, 7, 17, 0, 0), datetime.datetime(2019, 7, 18, 0, 0), datetime.datetime(2019, 7, 19, 0, 0), datetime.datetime(2019, 7, 20, 0, 0), datetime.datetime(2019, 7, 21, 0, 0), datetime.datetime(2019, 7, 22, 0, 0), datetime.datetime(2019, 7, 23, 0, 0), datetime.datetime(2019, 7, 24, 0, 0), datetime.datetime(2019, 7, 25, 0, 0), datetime.datetime(2019, 7, 26, 0, 0), datetime.datetime(2019, 7, 27, 0, 0), datetime.datetime(2019, 7, 28, 0, 0), datetime.datetime(2019, 7, 29, 0, 0), datetime.datetime(2019, 7, 30, 0, 0), datetime.datetime(2019, 7, 31, 0, 0), datetime.datetime(2019, 8, 1, 0, 0), datetime.datetime(2019, 8, 2, 0, 0), datetime.datetime(2019, 8, 3, 0, 0), datetime.datetime(2019, 8, 4, 0, 0), datetime.datetime(2019, 8, 5, 0, 0), datetime.datetime(2019, 8, 6, 0, 0), datetime.datetime(2019, 8, 7, 0, 0), datetime.datetime(2019, 8, 8, 0, 0), datetime.datetime(2019, 8, 9, 0, 0), datetime.datetime(2019, 8, 10, 0, 0), datetime.datetime(2019, 8, 11, 0, 0), datetime.datetime(2019, 8, 12, 0, 0), datetime.datetime(2019, 8, 13, 0, 0), datetime.datetime(2019, 8, 14, 0, 0), datetime.datetime(2019, 8, 15, 0, 0), datetime.datetime(2019, 8, 16, 0, 0), datetime.datetime(2019, 8, 17, 0, 0), datetime.datetime(2019, 8, 18, 0, 0), datetime.datetime(2019, 8, 19, 0, 0), datetime.datetime(2019, 8, 20, 0, 0), datetime.datetime(2019, 8, 21, 0, 0), datetime.datetime(2019, 8, 22, 0, 0), datetime.datetime(2019, 8, 23, 0, 0), datetime.datetime(2019, 8, 24, 0, 0), datetime.datetime(2019, 8, 25, 0, 0), datetime.datetime(2019, 8, 26, 0, 0), datetime.datetime(2019, 8, 27, 0, 0), datetime.datetime(2019, 8, 28, 0, 0), datetime.datetime(2019, 8, 29, 0, 0), datetime.datetime(2019, 8, 30, 0, 0), datetime.datetime(2019, 8, 31, 0, 0), datetime.datetime(2019, 9, 1, 0, 0), datetime.datetime(2019, 9, 2, 0, 0), datetime.datetime(2019, 9, 3, 0, 0), datetime.datetime(2019, 9, 4, 0, 0), datetime.datetime(2019, 9, 5, 0, 0), datetime.datetime(2019, 9, 6, 0, 0), datetime.datetime(2019, 9, 7, 0, 0), datetime.datetime(2019, 9, 8, 0, 0), datetime.datetime(2019, 9, 9, 0, 0), datetime.datetime(2019, 9, 10, 0, 0), datetime.datetime(2019, 9, 11, 0, 0), datetime.datetime(2019, 9, 12, 0, 0), datetime.datetime(2019, 9, 13, 0, 0), datetime.datetime(2019, 9, 14, 0, 0), datetime.datetime(2019, 9, 15, 0, 0), datetime.datetime(2019, 9, 16, 0, 0), datetime.datetime(2019, 9, 17, 0, 0), datetime.datetime(2019, 9, 18, 0, 0), datetime.datetime(2019, 9, 19, 0, 0), datetime.datetime(2019, 9, 20, 0, 0), datetime.datetime(2019, 9, 21, 0, 0), datetime.datetime(2019, 9, 22, 0, 0), datetime.datetime(2019, 9, 23, 0, 0), datetime.datetime(2019, 9, 24, 0, 0), datetime.datetime(2019, 9, 25, 0, 0), datetime.datetime(2019, 9, 26, 0, 0), datetime.datetime(2019, 9, 27, 0, 0), datetime.datetime(2019, 9, 28, 0, 0), datetime.datetime(2019, 9, 29, 0, 0), datetime.datetime(2019, 9, 30, 0, 0), datetime.datetime(2019, 10, 1, 0, 0), datetime.datetime(2019, 10, 2, 0, 0), datetime.datetime(2019, 10, 3, 0, 0), datetime.datetime(2019, 10, 4, 0, 0), datetime.datetime(2019, 10, 5, 0, 0), datetime.datetime(2019, 10, 6, 0, 0), datetime.datetime(2019, 10, 7, 0, 0), datetime.datetime(2019, 10, 8, 0, 0), datetime.datetime(2019, 10, 9, 0, 0), datetime.datetime(2019, 10, 10, 0, 0), datetime.datetime(2019, 10, 11, 0, 0), datetime.datetime(2019, 10, 12, 0, 0), datetime.datetime(2019, 10, 13, 0, 0), datetime.datetime(2019, 10, 14, 0, 0), datetime.datetime(2019, 10, 15, 0, 0), datetime.datetime(2019, 10, 16, 0, 0), datetime.datetime(2019, 10, 17, 0, 0), datetime.datetime(2019, 10, 18, 0, 0), datetime.datetime(2019, 10, 19, 0, 0), datetime.datetime(2019, 10, 20, 0, 0), datetime.datetime(2019, 10, 21, 0, 0), datetime.datetime(2019, 10, 22, 0, 0), datetime.datetime(2019, 10, 23, 0, 0), datetime.datetime(2019, 10, 24, 0, 0), datetime.datetime(2019, 10, 25, 0, 0), datetime.datetime(2019, 10, 26, 0, 0), datetime.datetime(2019, 10, 27, 0, 0), datetime.datetime(2019, 10, 28, 0, 0), datetime.datetime(2019, 10, 29, 0, 0), datetime.datetime(2019, 10, 30, 0, 0), datetime.datetime(2019, 10, 31, 0, 0), datetime.datetime(2019, 11, 1, 0, 0), datetime.datetime(2019, 11, 2, 0, 0), datetime.datetime(2019, 11, 3, 0, 0), datetime.datetime(2019, 11, 4, 0, 0), datetime.datetime(2019, 11, 5, 0, 0), datetime.datetime(2019, 11, 6, 0, 0), datetime.datetime(2019, 11, 7, 0, 0), datetime.datetime(2019, 11, 8, 0, 0), datetime.datetime(2019, 11, 9, 0, 0), datetime.datetime(2019, 11, 10, 0, 0), datetime.datetime(2019, 11, 11, 0, 0), datetime.datetime(2019, 11, 12, 0, 0), datetime.datetime(2019, 11, 13, 0, 0), datetime.datetime(2019, 11, 14, 0, 0), datetime.datetime(2019, 11, 15, 0, 0), datetime.datetime(2019, 11, 16, 0, 0), datetime.datetime(2019, 11, 17, 0, 0), datetime.datetime(2019, 11, 18, 0, 0), datetime.datetime(2019, 11, 19, 0, 0), datetime.datetime(2019, 11, 20, 0, 0), datetime.datetime(2019, 11, 21, 0, 0), datetime.datetime(2019, 11, 22, 0, 0), datetime.datetime(2019, 11, 23, 0, 0), datetime.datetime(2019, 11, 24, 0, 0), datetime.datetime(2019, 11, 25, 0, 0), datetime.datetime(2019, 11, 26, 0, 0), datetime.datetime(2019, 11, 27, 0, 0), datetime.datetime(2019, 11, 28, 0, 0), datetime.datetime(2019, 11, 29, 0, 0), datetime.datetime(2019, 11, 30, 0, 0), datetime.datetime(2019, 12, 1, 0, 0), datetime.datetime(2019, 12, 2, 0, 0), datetime.datetime(2019, 12, 3, 0, 0), datetime.datetime(2019, 12, 4, 0, 0), datetime.datetime(2019, 12, 5, 0, 0), datetime.datetime(2019, 12, 6, 0, 0), datetime.datetime(2019, 12, 7, 0, 0), datetime.datetime(2019, 12, 8, 0, 0), datetime.datetime(2019, 12, 9, 0, 0), datetime.datetime(2019, 12, 10, 0, 0), datetime.datetime(2019, 12, 11, 0, 0), datetime.datetime(2019, 12, 12, 0, 0), datetime.datetime(2019, 12, 13, 0, 0), datetime.datetime(2019, 12, 14, 0, 0), datetime.datetime(2019, 12, 15, 0, 0), datetime.datetime(2019, 12, 16, 0, 0), datetime.datetime(2019, 12, 17, 0, 0), datetime.datetime(2019, 12, 18, 0, 0), datetime.datetime(2019, 12, 19, 0, 0), datetime.datetime(2019, 12, 20, 0, 0), datetime.datetime(2019, 12, 21, 0, 0), datetime.datetime(2019, 12, 22, 0, 0), datetime.datetime(2019, 12, 23, 0, 0), datetime.datetime(2019, 12, 24, 0, 0), datetime.datetime(2019, 12, 25, 0, 0), datetime.datetime(2019, 12, 26, 0, 0), datetime.datetime(2019, 12, 27, 0, 0), datetime.datetime(2019, 12, 28, 0, 0), datetime.datetime(2019, 12, 29, 0, 0), datetime.datetime(2019, 12, 30, 0, 0), datetime.datetime(2019, 12, 31, 0, 0), datetime.datetime(2020, 1, 1, 0, 0), datetime.datetime(2020, 1, 2, 0, 0), datetime.datetime(2020, 1, 3, 0, 0), datetime.datetime(2020, 1, 4, 0, 0), datetime.datetime(2020, 1, 5, 0, 0), datetime.datetime(2020, 1, 6, 0, 0), datetime.datetime(2020, 1, 7, 0, 0), datetime.datetime(2020, 1, 8, 0, 0), datetime.datetime(2020, 1, 9, 0, 0), datetime.datetime(2020, 1, 10, 0, 0), datetime.datetime(2020, 1, 11, 0, 0), datetime.datetime(2020, 1, 12, 0, 0), datetime.datetime(2020, 1, 13, 0, 0), datetime.datetime(2020, 1, 14, 0, 0), datetime.datetime(2020, 1, 15, 0, 0), datetime.datetime(2020, 1, 16, 0, 0), datetime.datetime(2020, 1, 17, 0, 0), datetime.datetime(2020, 1, 18, 0, 0), datetime.datetime(2020, 1, 19, 0, 0), datetime.datetime(2020, 1, 20, 0, 0), datetime.datetime(2020, 1, 21, 0, 0), datetime.datetime(2020, 1, 22, 0, 0), datetime.datetime(2020, 1, 23, 0, 0), datetime.datetime(2020, 1, 24, 0, 0), datetime.datetime(2020, 1, 25, 0, 0), datetime.datetime(2020, 1, 26, 0, 0), datetime.datetime(2020, 1, 27, 0, 0), datetime.datetime(2020, 1, 28, 0, 0), datetime.datetime(2020, 1, 29, 0, 0), datetime.datetime(2020, 1, 30, 0, 0), datetime.datetime(2020, 1, 31, 0, 0), datetime.datetime(2020, 2, 1, 0, 0), datetime.datetime(2020, 2, 2, 0, 0), datetime.datetime(2020, 2, 3, 0, 0), datetime.datetime(2020, 2, 4, 0, 0), datetime.datetime(2020, 2, 5, 0, 0), datetime.datetime(2020, 2, 6, 0, 0), datetime.datetime(2020, 2, 7, 0, 0), datetime.datetime(2020, 2, 8, 0, 0), datetime.datetime(2020, 2, 9, 0, 0), datetime.datetime(2020, 2, 10, 0, 0), datetime.datetime(2020, 2, 11, 0, 0), datetime.datetime(2020, 2, 12, 0, 0), datetime.datetime(2020, 2, 13, 0, 0), datetime.datetime(2020, 2, 14, 0, 0), datetime.datetime(2020, 2, 15, 0, 0), datetime.datetime(2020, 2, 16, 0, 0), datetime.datetime(2020, 2, 17, 0, 0), datetime.datetime(2020, 2, 18, 0, 0), datetime.datetime(2020, 2, 19, 0, 0), datetime.datetime(2020, 2, 20, 0, 0), datetime.datetime(2020, 2, 21, 0, 0), datetime.datetime(2020, 2, 22, 0, 0), datetime.datetime(2020, 2, 23, 0, 0), datetime.datetime(2020, 2, 24, 0, 0), datetime.datetime(2020, 2, 25, 0, 0), datetime.datetime(2020, 2, 26, 0, 0), datetime.datetime(2020, 2, 27, 0, 0), datetime.datetime(2020, 2, 28, 0, 0), datetime.datetime(2020, 2, 29, 0, 0), datetime.datetime(2020, 3, 1, 0, 0), datetime.datetime(2020, 3, 2, 0, 0), datetime.datetime(2020, 3, 3, 0, 0), datetime.datetime(2020, 3, 4, 0, 0), datetime.datetime(2020, 3, 5, 0, 0), datetime.datetime(2020, 3, 6, 0, 0), datetime.datetime(2020, 3, 7, 0, 0), datetime.datetime(2020, 3, 8, 0, 0), datetime.datetime(2020, 3, 9, 0, 0), datetime.datetime(2020, 3, 10, 0, 0), datetime.datetime(2020, 3, 11, 0, 0), datetime.datetime(2020, 3, 12, 0, 0), datetime.datetime(2020, 3, 13, 0, 0), datetime.datetime(2020, 3, 14, 0, 0), datetime.datetime(2020, 3, 15, 0, 0), datetime.datetime(2020, 3, 16, 0, 0), datetime.datetime(2020, 3, 17, 0, 0), datetime.datetime(2020, 3, 18, 0, 0), datetime.datetime(2020, 3, 19, 0, 0), datetime.datetime(2020, 3, 20, 0, 0), datetime.datetime(2020, 3, 21, 0, 0), datetime.datetime(2020, 3, 22, 0, 0), datetime.datetime(2020, 3, 23, 0, 0), datetime.datetime(2020, 3, 24, 0, 0), datetime.datetime(2020, 3, 25, 0, 0), datetime.datetime(2020, 3, 26, 0, 0), datetime.datetime(2020, 3, 27, 0, 0), datetime.datetime(2020, 3, 28, 0, 0), datetime.datetime(2020, 3, 29, 0, 0), datetime.datetime(2020, 3, 30, 0, 0), datetime.datetime(2020, 3, 31, 0, 0), datetime.datetime(2020, 4, 1, 0, 0), datetime.datetime(2020, 4, 2, 0, 0), datetime.datetime(2020, 4, 3, 0, 0), datetime.datetime(2020, 4, 4, 0, 0), datetime.datetime(2020, 4, 5, 0, 0), datetime.datetime(2020, 4, 6, 0, 0), datetime.datetime(2020, 4, 7, 0, 0), datetime.datetime(2020, 4, 8, 0, 0), datetime.datetime(2020, 4, 9, 0, 0), datetime.datetime(2020, 4, 10, 0, 0), datetime.datetime(2020, 4, 11, 0, 0), datetime.datetime(2020, 4, 12, 0, 0), datetime.datetime(2020, 4, 13, 0, 0), datetime.datetime(2020, 4, 14, 0, 0), datetime.datetime(2020, 4, 15, 0, 0), datetime.datetime(2020, 4, 16, 0, 0), datetime.datetime(2020, 4, 17, 0, 0), datetime.datetime(2020, 4, 18, 0, 0), datetime.datetime(2020, 4, 19, 0, 0), datetime.datetime(2020, 4, 20, 0, 0), datetime.datetime(2020, 4, 21, 0, 0), datetime.datetime(2020, 4, 22, 0, 0), datetime.datetime(2020, 4, 23, 0, 0), datetime.datetime(2020, 4, 24, 0, 0), datetime.datetime(2020, 4, 25, 0, 0), datetime.datetime(2020, 4, 26, 0, 0), datetime.datetime(2020, 4, 27, 0, 0), datetime.datetime(2020, 4, 28, 0, 0), datetime.datetime(2020, 4, 29, 0, 0), datetime.datetime(2020, 4, 30, 0, 0), datetime.datetime(2020, 5, 1, 0, 0), datetime.datetime(2020, 5, 2, 0, 0), datetime.datetime(2020, 5, 3, 0, 0), datetime.datetime(2020, 5, 4, 0, 0), datetime.datetime(2020, 5, 5, 0, 0), datetime.datetime(2020, 5, 6, 0, 0), datetime.datetime(2020, 5, 7, 0, 0), datetime.datetime(2020, 5, 8, 0, 0), datetime.datetime(2020, 5, 9, 0, 0), datetime.datetime(2020, 5, 10, 0, 0), datetime.datetime(2020, 5, 11, 0, 0), datetime.datetime(2020, 5, 12, 0, 0), datetime.datetime(2020, 5, 13, 0, 0), datetime.datetime(2020, 5, 14, 0, 0), datetime.datetime(2020, 5, 15, 0, 0), datetime.datetime(2020, 5, 16, 0, 0), datetime.datetime(2020, 5, 17, 0, 0), datetime.datetime(2020, 5, 18, 0, 0), datetime.datetime(2020, 5, 19, 0, 0), datetime.datetime(2020, 5, 20, 0, 0), datetime.datetime(2020, 5, 21, 0, 0), datetime.datetime(2020, 5, 22, 0, 0), datetime.datetime(2020, 5, 23, 0, 0), datetime.datetime(2020, 5, 24, 0, 0), datetime.datetime(2020, 5, 25, 0, 0), datetime.datetime(2020, 5, 26, 0, 0), datetime.datetime(2020, 5, 27, 0, 0), datetime.datetime(2020, 5, 28, 0, 0), datetime.datetime(2020, 5, 29, 0, 0), datetime.datetime(2020, 5, 30, 0, 0), datetime.datetime(2020, 5, 31, 0, 0), datetime.datetime(2020, 6, 1, 0, 0), datetime.datetime(2020, 6, 2, 0, 0), datetime.datetime(2020, 6, 3, 0, 0), datetime.datetime(2020, 6, 4, 0, 0), datetime.datetime(2020, 6, 5, 0, 0), datetime.datetime(2020, 6, 6, 0, 0), datetime.datetime(2020, 6, 7, 0, 0), datetime.datetime(2020, 6, 8, 0, 0), datetime.datetime(2020, 6, 9, 0, 0), datetime.datetime(2020, 6, 10, 0, 0), datetime.datetime(2020, 6, 11, 0, 0), datetime.datetime(2020, 6, 12, 0, 0), datetime.datetime(2020, 6, 13, 0, 0), datetime.datetime(2020, 6, 14, 0, 0), datetime.datetime(2020, 6, 15, 0, 0), datetime.datetime(2020, 6, 16, 0, 0), datetime.datetime(2020, 6, 17, 0, 0), datetime.datetime(2020, 6, 18, 0, 0), datetime.datetime(2020, 6, 19, 0, 0), datetime.datetime(2020, 6, 20, 0, 0), datetime.datetime(2020, 6, 21, 0, 0), datetime.datetime(2020, 6, 22, 0, 0), datetime.datetime(2020, 6, 23, 0, 0), datetime.datetime(2020, 6, 24, 0, 0), datetime.datetime(2020, 6, 25, 0, 0), datetime.datetime(2020, 6, 26, 0, 0), datetime.datetime(2020, 6, 27, 0, 0), datetime.datetime(2020, 6, 28, 0, 0), datetime.datetime(2020, 6, 29, 0, 0), datetime.datetime(2020, 6, 30, 0, 0), datetime.datetime(2020, 7, 1, 0, 0), datetime.datetime(2020, 7, 2, 0, 0), datetime.datetime(2020, 7, 3, 0, 0), datetime.datetime(2020, 7, 4, 0, 0), datetime.datetime(2020, 7, 5, 0, 0), datetime.datetime(2020, 7, 6, 0, 0), datetime.datetime(2020, 7, 7, 0, 0), datetime.datetime(2020, 7, 8, 0, 0), datetime.datetime(2020, 7, 9, 0, 0), datetime.datetime(2020, 7, 10, 0, 0), datetime.datetime(2020, 7, 11, 0, 0), datetime.datetime(2020, 7, 12, 0, 0), datetime.datetime(2020, 7, 13, 0, 0), datetime.datetime(2020, 7, 14, 0, 0), datetime.datetime(2020, 7, 15, 0, 0), datetime.datetime(2020, 7, 16, 0, 0), datetime.datetime(2020, 7, 17, 0, 0), datetime.datetime(2020, 7, 18, 0, 0), datetime.datetime(2020, 7, 19, 0, 0), datetime.datetime(2020, 7, 20, 0, 0), datetime.datetime(2020, 7, 21, 0, 0), datetime.datetime(2020, 7, 22, 0, 0), datetime.datetime(2020, 7, 23, 0, 0), datetime.datetime(2020, 7, 24, 0, 0), datetime.datetime(2020, 7, 25, 0, 0), datetime.datetime(2020, 7, 26, 0, 0), datetime.datetime(2020, 7, 27, 0, 0), datetime.datetime(2020, 7, 28, 0, 0), datetime.datetime(2020, 7, 29, 0, 0), datetime.datetime(2020, 7, 30, 0, 0), datetime.datetime(2020, 7, 31, 0, 0), datetime.datetime(2020, 8, 1, 0, 0), datetime.datetime(2020, 8, 2, 0, 0), datetime.datetime(2020, 8, 3, 0, 0), datetime.datetime(2020, 8, 4, 0, 0), datetime.datetime(2020, 8, 5, 0, 0), datetime.datetime(2020, 8, 6, 0, 0), datetime.datetime(2020, 8, 7, 0, 0), datetime.datetime(2020, 8, 8, 0, 0), datetime.datetime(2020, 8, 9, 0, 0), datetime.datetime(2020, 8, 10, 0, 0), datetime.datetime(2020, 8, 11, 0, 0), datetime.datetime(2020, 8, 12, 0, 0), datetime.datetime(2020, 8, 13, 0, 0), datetime.datetime(2020, 8, 14, 0, 0), datetime.datetime(2020, 8, 15, 0, 0), datetime.datetime(2020, 8, 16, 0, 0), datetime.datetime(2020, 8, 17, 0, 0), datetime.datetime(2020, 8, 18, 0, 0), datetime.datetime(2020, 8, 19, 0, 0), datetime.datetime(2020, 8, 20, 0, 0), datetime.datetime(2020, 8, 21, 0, 0), datetime.datetime(2020, 8, 22, 0, 0), datetime.datetime(2020, 8, 23, 0, 0), datetime.datetime(2020, 8, 24, 0, 0), datetime.datetime(2020, 8, 25, 0, 0), datetime.datetime(2020, 8, 26, 0, 0), datetime.datetime(2020, 8, 27, 0, 0), datetime.datetime(2020, 8, 28, 0, 0), datetime.datetime(2020, 8, 29, 0, 0), datetime.datetime(2020, 8, 30, 0, 0), datetime.datetime(2020, 8, 31, 0, 0), datetime.datetime(2020, 9, 1, 0, 0), datetime.datetime(2020, 9, 2, 0, 0), datetime.datetime(2020, 9, 3, 0, 0), datetime.datetime(2020, 9, 4, 0, 0), datetime.datetime(2020, 9, 5, 0, 0), datetime.datetime(2020, 9, 6, 0, 0), datetime.datetime(2020, 9, 7, 0, 0), datetime.datetime(2020, 9, 8, 0, 0), datetime.datetime(2020, 9, 9, 0, 0), datetime.datetime(2020, 9, 10, 0, 0), datetime.datetime(2020, 9, 11, 0, 0), datetime.datetime(2020, 9, 12, 0, 0), datetime.datetime(2020, 9, 13, 0, 0), datetime.datetime(2020, 9, 14, 0, 0), datetime.datetime(2020, 9, 15, 0, 0), datetime.datetime(2020, 9, 16, 0, 0), datetime.datetime(2020, 9, 17, 0, 0), datetime.datetime(2020, 9, 18, 0, 0), datetime.datetime(2020, 9, 19, 0, 0), datetime.datetime(2020, 9, 20, 0, 0), datetime.datetime(2020, 9, 21, 0, 0), datetime.datetime(2020, 9, 22, 0, 0), datetime.datetime(2020, 9, 23, 0, 0), datetime.datetime(2020, 9, 24, 0, 0), datetime.datetime(2020, 9, 25, 0, 0), datetime.datetime(2020, 9, 26, 0, 0), datetime.datetime(2020, 9, 27, 0, 0), datetime.datetime(2020, 9, 28, 0, 0), datetime.datetime(2020, 9, 29, 0, 0), datetime.datetime(2020, 9, 30, 0, 0), datetime.datetime(2020, 10, 1, 0, 0), datetime.datetime(2020, 10, 2, 0, 0), datetime.datetime(2020, 10, 3, 0, 0), datetime.datetime(2020, 10, 4, 0, 0), datetime.datetime(2020, 10, 5, 0, 0), datetime.datetime(2020, 10, 6, 0, 0), datetime.datetime(2020, 10, 7, 0, 0), datetime.datetime(2020, 10, 8, 0, 0), datetime.datetime(2020, 10, 9, 0, 0), datetime.datetime(2020, 10, 10, 0, 0), datetime.datetime(2020, 10, 11, 0, 0), datetime.datetime(2020, 10, 12, 0, 0), datetime.datetime(2020, 10, 13, 0, 0), datetime.datetime(2020, 10, 14, 0, 0), datetime.datetime(2020, 10, 15, 0, 0), datetime.datetime(2020, 10, 16, 0, 0), datetime.datetime(2020, 10, 17, 0, 0), datetime.datetime(2020, 10, 18, 0, 0), datetime.datetime(2020, 10, 19, 0, 0), datetime.datetime(2020, 10, 20, 0, 0), datetime.datetime(2020, 10, 21, 0, 0), datetime.datetime(2020, 10, 22, 0, 0), datetime.datetime(2020, 10, 23, 0, 0), datetime.datetime(2020, 10, 24, 0, 0), datetime.datetime(2020, 10, 25, 0, 0), datetime.datetime(2020, 10, 26, 0, 0), datetime.datetime(2020, 10, 27, 0, 0), datetime.datetime(2020, 10, 28, 0, 0), datetime.datetime(2020, 10, 29, 0, 0), datetime.datetime(2020, 10, 30, 0, 0), datetime.datetime(2020, 10, 31, 0, 0), datetime.datetime(2020, 11, 1, 0, 0), datetime.datetime(2020, 11, 2, 0, 0), datetime.datetime(2020, 11, 3, 0, 0), datetime.datetime(2020, 11, 4, 0, 0), datetime.datetime(2020, 11, 5, 0, 0), datetime.datetime(2020, 11, 6, 0, 0), datetime.datetime(2020, 11, 7, 0, 0), datetime.datetime(2020, 11, 8, 0, 0), datetime.datetime(2020, 11, 9, 0, 0), datetime.datetime(2020, 11, 10, 0, 0), datetime.datetime(2020, 11, 11, 0, 0), datetime.datetime(2020, 11, 12, 0, 0), datetime.datetime(2020, 11, 13, 0, 0), datetime.datetime(2020, 11, 14, 0, 0), datetime.datetime(2020, 11, 15, 0, 0), datetime.datetime(2020, 11, 16, 0, 0), datetime.datetime(2020, 11, 17, 0, 0), datetime.datetime(2020, 11, 18, 0, 0), datetime.datetime(2020, 11, 19, 0, 0), datetime.datetime(2020, 11, 20, 0, 0), datetime.datetime(2020, 11, 21, 0, 0), datetime.datetime(2020, 11, 22, 0, 0), datetime.datetime(2020, 11, 23, 0, 0), datetime.datetime(2020, 11, 24, 0, 0), datetime.datetime(2020, 11, 25, 0, 0), datetime.datetime(2020, 11, 26, 0, 0), datetime.datetime(2020, 11, 27, 0, 0), datetime.datetime(2020, 11, 28, 0, 0), datetime.datetime(2020, 11, 29, 0, 0), datetime.datetime(2020, 11, 30, 0, 0), datetime.datetime(2020, 12, 1, 0, 0), datetime.datetime(2020, 12, 2, 0, 0), datetime.datetime(2020, 12, 3, 0, 0), datetime.datetime(2020, 12, 4, 0, 0), datetime.datetime(2020, 12, 5, 0, 0), datetime.datetime(2020, 12, 6, 0, 0), datetime.datetime(2020, 12, 7, 0, 0), datetime.datetime(2020, 12, 8, 0, 0), datetime.datetime(2020, 12, 9, 0, 0), datetime.datetime(2020, 12, 10, 0, 0), datetime.datetime(2020, 12, 11, 0, 0), datetime.datetime(2020, 12, 12, 0, 0), datetime.datetime(2020, 12, 13, 0, 0), datetime.datetime(2020, 12, 14, 0, 0), datetime.datetime(2020, 12, 15, 0, 0), datetime.datetime(2020, 12, 16, 0, 0), datetime.datetime(2020, 12, 17, 0, 0), datetime.datetime(2020, 12, 18, 0, 0), datetime.datetime(2020, 12, 19, 0, 0), datetime.datetime(2020, 12, 20, 0, 0), datetime.datetime(2020, 12, 21, 0, 0), datetime.datetime(2020, 12, 22, 0, 0), datetime.datetime(2020, 12, 23, 0, 0), datetime.datetime(2020, 12, 24, 0, 0), datetime.datetime(2020, 12, 25, 0, 0), datetime.datetime(2020, 12, 26, 0, 0), datetime.datetime(2020, 12, 27, 0, 0), datetime.datetime(2020, 12, 28, 0, 0), datetime.datetime(2020, 12, 29, 0, 0), datetime.datetime(2020, 12, 30, 0, 0), datetime.datetime(2020, 12, 31, 0, 0), datetime.datetime(2021, 1, 1, 0, 0), datetime.datetime(2021, 1, 2, 0, 0), datetime.datetime(2021, 1, 3, 0, 0), datetime.datetime(2021, 1, 4, 0, 0), datetime.datetime(2021, 1, 5, 0, 0), datetime.datetime(2021, 1, 6, 0, 0), datetime.datetime(2021, 1, 7, 0, 0), datetime.datetime(2021, 1, 8, 0, 0), datetime.datetime(2021, 1, 9, 0, 0), datetime.datetime(2021, 1, 10, 0, 0), datetime.datetime(2021, 1, 11, 0, 0), datetime.datetime(2021, 1, 12, 0, 0), datetime.datetime(2021, 1, 13, 0, 0), datetime.datetime(2021, 1, 14, 0, 0), datetime.datetime(2021, 1, 15, 0, 0), datetime.datetime(2021, 1, 16, 0, 0), datetime.datetime(2021, 1, 17, 0, 0), datetime.datetime(2021, 1, 18, 0, 0), datetime.datetime(2021, 1, 19, 0, 0), datetime.datetime(2021, 1, 20, 0, 0), datetime.datetime(2021, 1, 21, 0, 0), datetime.datetime(2021, 1, 22, 0, 0), datetime.datetime(2021, 1, 23, 0, 0), datetime.datetime(2021, 1, 24, 0, 0), datetime.datetime(2021, 1, 25, 0, 0), datetime.datetime(2021, 1, 26, 0, 0), datetime.datetime(2021, 1, 27, 0, 0), datetime.datetime(2021, 1, 28, 0, 0), datetime.datetime(2021, 1, 29, 0, 0), datetime.datetime(2021, 1, 30, 0, 0), datetime.datetime(2021, 1, 31, 0, 0), datetime.datetime(2021, 2, 1, 0, 0), datetime.datetime(2021, 2, 2, 0, 0), datetime.datetime(2021, 2, 3, 0, 0), datetime.datetime(2021, 2, 4, 0, 0), datetime.datetime(2021, 2, 5, 0, 0), datetime.datetime(2021, 2, 6, 0, 0), datetime.datetime(2021, 2, 7, 0, 0), datetime.datetime(2021, 2, 8, 0, 0), datetime.datetime(2021, 2, 9, 0, 0), datetime.datetime(2021, 2, 10, 0, 0), datetime.datetime(2021, 2, 11, 0, 0), datetime.datetime(2021, 2, 12, 0, 0), datetime.datetime(2021, 2, 13, 0, 0), datetime.datetime(2021, 2, 14, 0, 0), datetime.datetime(2021, 2, 15, 0, 0), datetime.datetime(2021, 2, 16, 0, 0), datetime.datetime(2021, 2, 17, 0, 0), datetime.datetime(2021, 2, 18, 0, 0), datetime.datetime(2021, 2, 19, 0, 0), datetime.datetime(2021, 2, 20, 0, 0), datetime.datetime(2021, 2, 21, 0, 0), datetime.datetime(2021, 2, 22, 0, 0), datetime.datetime(2021, 2, 23, 0, 0), datetime.datetime(2021, 2, 24, 0, 0), datetime.datetime(2021, 2, 25, 0, 0), datetime.datetime(2021, 2, 26, 0, 0), datetime.datetime(2021, 2, 27, 0, 0), datetime.datetime(2021, 2, 28, 0, 0), datetime.datetime(2021, 3, 1, 0, 0), datetime.datetime(2021, 3, 2, 0, 0), datetime.datetime(2021, 3, 3, 0, 0), datetime.datetime(2021, 3, 4, 0, 0), datetime.datetime(2021, 3, 5, 0, 0), datetime.datetime(2021, 3, 6, 0, 0), datetime.datetime(2021, 3, 7, 0, 0), datetime.datetime(2021, 3, 8, 0, 0), datetime.datetime(2021, 3, 9, 0, 0), datetime.datetime(2021, 3, 10, 0, 0), datetime.datetime(2021, 3, 11, 0, 0), datetime.datetime(2021, 3, 12, 0, 0), datetime.datetime(2021, 3, 13, 0, 0), datetime.datetime(2021, 3, 14, 0, 0), datetime.datetime(2021, 3, 15, 0, 0), datetime.datetime(2021, 3, 16, 0, 0), datetime.datetime(2021, 3, 17, 0, 0), datetime.datetime(2021, 3, 18, 0, 0), datetime.datetime(2021, 3, 19, 0, 0), datetime.datetime(2021, 3, 20, 0, 0), datetime.datetime(2021, 3, 21, 0, 0), datetime.datetime(2021, 3, 22, 0, 0), datetime.datetime(2021, 3, 23, 0, 0), datetime.datetime(2021, 3, 24, 0, 0), datetime.datetime(2021, 3, 25, 0, 0), datetime.datetime(2021, 3, 26, 0, 0), datetime.datetime(2021, 3, 27, 0, 0), datetime.datetime(2021, 3, 28, 0, 0), datetime.datetime(2021, 3, 29, 0, 0), datetime.datetime(2021, 3, 30, 0, 0), datetime.datetime(2021, 3, 31, 0, 0), datetime.datetime(2021, 4, 1, 0, 0), datetime.datetime(2021, 4, 2, 0, 0), datetime.datetime(2021, 4, 3, 0, 0), datetime.datetime(2021, 4, 4, 0, 0), datetime.datetime(2021, 4, 5, 0, 0), datetime.datetime(2021, 4, 6, 0, 0), datetime.datetime(2021, 4, 7, 0, 0), datetime.datetime(2021, 4, 8, 0, 0), datetime.datetime(2021, 4, 9, 0, 0), datetime.datetime(2021, 4, 10, 0, 0), datetime.datetime(2021, 4, 11, 0, 0), datetime.datetime(2021, 4, 12, 0, 0), datetime.datetime(2021, 4, 13, 0, 0), datetime.datetime(2021, 4, 14, 0, 0), datetime.datetime(2021, 4, 15, 0, 0), datetime.datetime(2021, 4, 16, 0, 0), datetime.datetime(2021, 4, 17, 0, 0), datetime.datetime(2021, 4, 18, 0, 0), datetime.datetime(2021, 4, 19, 0, 0), datetime.datetime(2021, 4, 20, 0, 0), datetime.datetime(2021, 4, 21, 0, 0), datetime.datetime(2021, 4, 22, 0, 0), datetime.datetime(2021, 4, 23, 0, 0), datetime.datetime(2021, 4, 24, 0, 0), datetime.datetime(2021, 4, 25, 0, 0), datetime.datetime(2021, 4, 26, 0, 0), datetime.datetime(2021, 4, 27, 0, 0), datetime.datetime(2021, 4, 28, 0, 0), datetime.datetime(2021, 4, 29, 0, 0), datetime.datetime(2021, 4, 30, 0, 0), datetime.datetime(2021, 5, 1, 0, 0), datetime.datetime(2021, 5, 2, 0, 0), datetime.datetime(2021, 5, 3, 0, 0), datetime.datetime(2021, 5, 4, 0, 0), datetime.datetime(2021, 5, 5, 0, 0), datetime.datetime(2021, 5, 6, 0, 0), datetime.datetime(2021, 5, 7, 0, 0), datetime.datetime(2021, 5, 8, 0, 0), datetime.datetime(2021, 5, 9, 0, 0), datetime.datetime(2021, 5, 10, 0, 0), datetime.datetime(2021, 5, 11, 0, 0), datetime.datetime(2021, 5, 12, 0, 0), datetime.datetime(2021, 5, 13, 0, 0), datetime.datetime(2021, 5, 14, 0, 0), datetime.datetime(2021, 5, 15, 0, 0), datetime.datetime(2021, 5, 16, 0, 0), datetime.datetime(2021, 5, 17, 0, 0), datetime.datetime(2021, 5, 18, 0, 0)]\n"
          ],
          "name": "stdout"
        }
      ]
    },
    {
      "cell_type": "code",
      "metadata": {
        "colab": {
          "base_uri": "https://localhost:8080/"
        },
        "id": "0U6DC13KB5DI",
        "outputId": "a457988e-4a99-4fb0-a5be-8dbbce0886e4"
      },
      "source": [
        "print(btc_price)"
      ],
      "execution_count": null,
      "outputs": [
        {
          "output_type": "stream",
          "text": [
            "[123.65499, 125.455, 108.58483, 118.67466, 121.33866, 120.65533, 121.795, 123.033, 124.049, 125.96116, 125.27966, 125.9275, 126.38333, 135.24199, 133.20333, 142.76333, 137.92333, 142.95166, 152.55183, 160.33883, 164.31499, 177.63333, 188.29716, 200.70166, 180.355, 175.03166, 177.6965, 187.15983, 192.75666, 197.4, 196.02499, 198.04883, 198.93233, 200.543, 210.3075, 225.02, 248.25333, 262.32666, 294.48699, 331.10325, 285.8875, 304.97974, 338.137, 357.48, 402.954, 409.10375, 420.21649, 437.29725, 510.6025, 693.65, 531.54249, 574.71599, 681.33, 774.18, 746.19374, 768.8475, 789.36475, 893.1815, 934.355, 1068.363, 1154.92593, 1099.51926, 1019.78966, 1028.845, 1071.2848, 1139.33083, 1004.61633, 759.43041, 689.81, 841.83966, 916.77599, 967.42866, 866.29003, 911.23204, 889.81946, 848.9975, 868.95316, 653.80483, 654.06266, 553.69166, 693.05883, 649.38965, 595.95883, 647.68316, 671.58116, 659.84333, 702.00083, 758.01016, 734.01166, 717.92623, 752.82022, 744.17249, 768.40783, 769.09849, 804.02719, 813.31748, 871.11583, 970.65083, 962.46447, 855.75933, 860.84166, 847.5325, 892.26115, 916.69666, 873.27168, 863.69888, 853.25666, 874.07416, 842.19173, 834.86666, 838.42916, 881.87583, 873.28916, 874.13266, 864.56116, 838.14997, 834.57416, 858.12641, 887.08337, 830.53133, 832.89496, 832.87399, 841.48914, 847.36383, 854.7225, 856.03366, 847.70697, 844.28836, 802.75333, 748.43559, 692.66914, 668.86463, 700.44843, 694.3125, 665.7975, 645.615, 578.4125, 641.91, 656.2725, 611.04499, 634.99, 618.79, 619.8425, 545.7625, 561.535, 622.22, 572.7675, 501.155, 550.6025, 573.1025, 567.2925, 551.73, 560.195, 567.7, 666.1475, 660.84, 662.0225, 651.285, 612.33, 611.1625, 637.615, 626.0, 633.74749, 631.755, 636.41414, 628.18751, 632.95333, 630.34833, 617.24333, 616.86665, 601.015, 581.33333, 570.36168, 562.95333, 557.16833, 573.34998, 572.49161, 570.54833, 509.70665, 499.24998, 486.80845, 472.4783, 464.88, 480.16581, 427.87498, 432.99716, 453.87148, 462.445, 456.46948, 452.81, 450.48083, 426.98333, 374.59166, 438.24666, 423.51566, 409.03166, 455.28316, 517.09666, 522.455, 490.8785, 469.38332, 507.80663, 505.09665, 497.65001, 487.84, 487.11333, 469.08816, 448.77834, 452.14829, 426.78166, 432.60498, 444.85668, 454.55666, 453.59833, 441.97833, 438.29035, 432.78748, 418.61831, 428.42593, 442.57666, 439.04, 449.04333, 449.74166, 434.27, 437.0, 438.88, 445.045, 443.18, 445.60666, 445.15666, 444.73833, 455.65333, 489.86999, 490.18666, 522.31, 512.30833, 533.92999, 579.59333, 581.51, 572.44833, 562.4, 571.845, 612.12666, 638.16333, 634.98333, 660.24666, 627.79833, 642.89166, 652.52666, 648.60166, 652.59166, 652.11, 644.085, 642.00666, 632.55, 585.48333, 588.52333, 570.28833, 589.06666, 592.25666, 610.41333, 601.88666, 594.09333, 582.04499, 599.57, 592.405, 584.64166, 575.905, 571.76666, 582.43166, 597.66833, 598.73333, 597.51333, 647.12249, 637.85625, 642.65125, 643.95124, 628.41625, 631.03, 631.29875, 621.24249, 620.72, 621.3075, 616.83124, 634.35749, 627.69, 621.42499, 618.73875, 619.8075, 614.68875, 623.49749, 623.99625, 623.00625, 617.96124, 622.10749, 618.4475, 617.6875, 602.93125, 597.585, 592.96375, 580.11, 585.44875, 580.5175, 564.57, 583.39, 593.80625, 581.52, 585.80125, 582.33375, 582.52125, 583.62375, 595.80875, 585.39625, 586.05875, 588.7525, 566.31625, 565.55125, 534.54, 511.4725, 487.56625, 516.62625, 489.4675, 455.91625, 472.91, 519.015, 508.12875, 507.51, 501.63125, 503.32125, 504.62625, 513.39125, 514.62375, 506.025, 504.70625, 502.055, 474.5425, 477.98375, 476.88375, 475.65, 485.65125, 480.9075, 481.88375, 473.58625, 468.5775, 474.29125, 479.4175, 473.6725, 471.5325, 475.37875, 475.02125, 471.08375, 464.55375, 449.95875, 425.4475, 410.08, 405.79625, 399.0975, 399.5025, 427.8125, 416.12, 410.15, 403.4975, 398.84, 377.97875, 376.08375, 387.94, 381.7475, 372.0575, 360.7525, 335.98125, 308.07875, 337.23375, 326.2325, 351.34625, 368.59625, 359.2025, 356.99875, 371.15625, 392.7825, 396.34625, 392.56625, 376.26875, 378.675, 390.95875, 381.72375, 380.0575, 382.93875, 376.59, 351.7825, 353.6325, 345.1925, 350.9775, 349.79625, 348.9025, 335.53625, 343.55875, 338.0105, 325.22633, 331.60083, 324.71833, 332.45666, 336.585, 346.775, 344.81166, 343.065, 358.50166, 368.07666, 376.99666, 442.10666, 389.00333, 394.92666, 377.08, 400.47166, 384.93, 375.83333, 376.16, 348.565, 352.42, 356.8, 367.83, 381.20666, 375.498, 372.819, 368.983, 375.44, 376.851, 376.13218, 377.862, 382.452, 376.382, 368.3618, 373.414, 373.744, 373.155, 357.884, 348.898, 341.041, 348.272, 346.742, 347.348, 348.674, 338.547, 330.536, 317.405, 306.45999, 319.196, 321.89299, 320.03499, 328.701, 332.053, 321.386, 318.563, 320.868, 316.009, 315.64, 313.994, 309.903, 317.204, 314.49899, 311.14099, 277.853, 270.813, 272.0175, 283.84125, 290.485, 281.03625, 286.688, 277.64999, 268.10199, 243.081, 219.128, 193.3511, 220.5745, 209.1655, 195.59467, 212.2711, 211.5401, 212.28249, 230.6754, 226.30419, 231.4242, 251.606, 283.59769, 258.5374, 257.447, 235.948, 233.141, 226.94116, 216.66066, 229.80441, 237.65175, 225.83858, 226.554, 219.75625, 225.46666, 225.73291, 222.78408, 220.16725, 223.00366, 218.72833, 223.96716, 237.65716, 256.21758, 230.1355, 235.71275, 242.93183, 237.1035, 241.07183, 245.70566, 245.145, 235.14141, 238.93183, 238.15225, 235.67716, 251.28908, 251.03416, 251.9314, 258.8485, 270.7625, 278.1172, 269.2606, 274.8977, 270.86109, 276.72789, 277.98519, 294.1886, 289.7149, 292.8678, 293.224, 282.644, 283.0809, 290.61579, 290.542, 283.7507, 252.44789, 263.4741, 259.913, 259.3943, 267.5549, 265.273, 246.6733, 245.6489, 246.5497, 248.4467, 246.728, 245.1133, 247.2639, 243.3028, 246.96, 252.0578, 253.4334, 252.0256, 260.3589, 252.0909, 252.8629, 244.0449, 240.9478, 236.4388, 236.5542, 235.522, 222.6009, 220.9126, 226.0171, 227.9255, 223.317, 223.4062, 223.9214, 224.9815, 235.50369, 234.15749, 233.40079, 228.92379, 219.94549, 219.19029, 227.3867, 225.3545, 225.9976, 236.6827, 233.8511, 236.2378, 240.3646, 235.6033, 235.6017, 230.4207, 237.059, 244.6989, 241.516, 239.4036, 240.00079, 241.3529, 235.5478, 237.5737, 236.657, 236.339, 236.2319, 233.3119, 232.7193, 234.204, 235.86329, 240.1588, 239.7985, 240.9415, 237.6588, 237.1844, 237.6708, 237.2277, 236.1404, 233.3328, 230.8331, 223.415, 226.6168, 225.444, 223.9665, 224.2525, 225.8403, 223.69459, 228.1884, 229.2025, 229.9599, 229.9082, 230.6695, 233.1445, 234.7473, 237.39899, 248.7435, 247.2359, 249.0733, 240.7897, 244.15625, 244.9588, 247.1273, 243.371, 240.9204, 242.31912, 242.28812, 250.382, 249.42725, 258.38549, 261.71749, 259.62937, 255.52675, 253.87887, 261.42899, 267.60762, 270.07587, 264.356, 267.943, 269.24925, 286.53662, 301.03837, 304.9905, 290.93137, 288.48787, 287.55762, 276.97924, 278.33337, 275.30687, 274.28387, 279.45925, 274.87242, 276.2095, 276.24491, 287.55583, 287.83983, 291.20091, 293.15058, 292.99425, 288.61658, 286.74491, 282.33741, 278.68258, 279.48591, 283.49091, 284.24366, 280.9375, 275.92866, 278.2765, 261.75225, 265.0825, 264.87516, 270.22325, 264.14299, 262.01758, 265.3955, 261.20058, 258.0065, 256.44841, 230.38424, 232.06483, 234.56375, 233.03691, 231.21275, 227.23233, 203.18133, 219.81583, 224.53608, 224.18875, 230.93575, 230.58541, 227.18083, 229.02966, 226.28841, 228.35299, 227.14741, 229.66691, 240.70116, 239.88, 242.01891, 244.31383, 237.99466, 240.56366, 239.81675, 235.053, 229.15808, 230.51091, 230.98066, 229.58975, 233.2385, 232.50008, 231.33733, 230.75433, 227.79358, 231.30983, 231.09508, 233.74475, 234.92466, 234.32908, 237.21116, 238.56625, 238.06125, 237.15191, 238.06358, 237.63516, 238.99883, 238.82433, 240.63075, 246.49633, 244.49816, 243.25675, 244.96533, 245.07, 247.65041, 244.57641, 249.45908, 254.64216, 255.72741, 267.53983, 270.04041, 264.98625, 264.92575, 270.49541, 267.46908, 274.25325, 279.97908, 286.86941, 284.286, 287.83091, 300.53566, 304.32691, 326.55691, 327.58425, 311.70274, 325.64666, 369.51133, 432.46133, 434.31683, 359.586, 377.64099, 387.775, 370.652, 376.948, 311.702, 320.036, 337.893, 334.125, 333.951, 320.06, 337.759, 333.33299, 334.02499, 315.63099, 321.482, 326.365, 322.606, 320.993, 318.337, 332.471, 349.138, 354.954, 356.806, 375.204, 377.798, 352.128, 366.788, 358.443, 369.956, 394.861, 391.618, 395.59299, 421.424, 415.076, 421.813, 467.831, 435.091, 437.021, 453.676, 445.805, 451.102, 456.425, 464.218, 460.238, 435.64099, 438.276, 437.994, 456.572, 455.743, 447.606, 419.338, 427.817, 422.741, 431.029, 424.962, 432.358, 433.773, 431.985, 431.691, 433.732, 427.164, 441.021, 457.168, 452.368, 445.327, 450.312, 446.614, 431.156, 431.41, 416.29, 372.737, 383.138, 380.817, 382.738, 378.775, 417.439, 403.271, 388.219, 388.538, 397.885, 390.715, 392.389, 381.356, 369.133, 376.952, 378.174, 372.157, 372.453, 372.762, 370.433, 386.954, 377.889, 376.44, 376.924, 372.434, 374.764, 379.186, 378.576, 388.87, 397.23, 405.621, 401.663, 407.017, 417.492, 421.956, 422.054, 439.61, 436.14, 438.745, 419.896, 422.617, 421.244, 433.401, 425.502, 438.28, 436.426, 434.001, 419.254, 421.597, 407.722, 397.883, 407.276, 414.213, 410.739, 411.672, 416.708, 415.04, 411.637, 414.208, 416.034, 414.167, 417.138, 417.154, 407.473, 409.24, 407.496, 415.125, 417.318, 415.837, 414.75699, 416.851, 416.233, 424.297, 423.597, 414.613, 414.458, 416.012, 418.785, 418.93999, 418.593, 422.044, 422.29499, 420.553, 421.616, 415.751, 418.078, 421.192, 426.383, 426.84399, 425.494, 426.279, 429.775, 430.453, 429.318, 428.522, 435.926, 443.758, 446.776, 447.233, 455.152, 458.626, 464.429, 466.064, 441.304, 446.236, 454.375, 449.108, 453.067, 443.681, 449.157, 447.73999, 447.58599, 458.864, 459.937, 458.708, 460.954, 454.39399, 451.155, 453.701, 456.039, 456.093, 457.64099, 454.278, 454.064, 453.494, 440.231, 442.953, 442.892, 440.551, 444.489, 447.035, 448.278, 467.262, 489.847, 516.051, 529.917, 537.23299, 528.04999, 538.568, 537.185, 571.139, 579.343, 578.84899, 585.399, 576.226, 580.43599, 574.953, 583.87, 633.205, 682.226, 695.155, 685.442, 732.357, 773.25, 736.386, 747.831, 758.903, 702.696, 657.013, 581.249, 657.08999, 687.168, 657.22399, 644.091, 655.94399, 634.357, 635.093, 683.293, 678.567, 690.179, 670.741, 679.351, 676.872, 671.814, 640.476, 654.85299, 649.356, 656.747, 648.136, 663.443, 654.018, 663.638, 666.56499, 665.113, 681.239, 673.832, 673.008, 662.034, 666.747, 654.725, 654.895, 660.284, 655.418, 650.82899, 656.91599, 655.427, 656.681, 635.588, 621.37299, 601.227, 555.926, 578.52374, 570.33875, 574.87375, 588.51625, 589.66125, 586.715, 585.23875, 594.81625, 581.9625, 584.87375, 581.65, 571.9625, 567.60749, 575.54125, 572.37249, 573.01625, 573.08, 581.35375, 579.6675, 585.5075, 577.98749, 574.5825, 575.0625, 575.3425, 568.78875, 574.49749, 571.94125, 573.78125, 572.96, 570.1, 572.52125, 596.45375, 606.0525, 604.465, 609.4325, 613.67499, 623.6, 620.59875, 622.03375, 604.8275, 607.03625, 606.885, 606.8975, 605.52125, 606.04625, 605.08, 609.37249, 606.7175, 595.93375, 596.225, 595.0175, 602.4075, 601.36875, 598.9075, 605.0175, 602.885, 603.58124, 604.52125, 610.58375, 613.23749, 611.88874, 609.495, 608.125, 610.57, 610.23375, 617.445, 614.59625, 615.91625, 618.3275, 637.21624, 637.73625, 635.88375, 638.975, 638.605, 636.635, 637.01625, 634.605, 626.36875, 629.61249, 630.61875, 650.895, 647.69375, 652.235, 657.05625, 684.3775, 684.2975, 700.135, 704.91, 693.89625, 708.955, 725.6925, 741.84875, 701.21875, 702.175, 705.47875, 705.47125, 706.13375, 728.36125, 719.2525, 714.57125, 715.7725, 694.72125, 704.62125, 711.39625, 710.9275, 745.92625, 738.665, 748.8075, 752.5525, 730.365, 734.84, 745.97875, 739.81875, 730.3125, 737.4025, 727.445, 731.9, 731.12625, 731.64, 744.1025, 766.5925, 769.915, 764.3575, 760.1, 754.82625, 758.35375, 763.23625, 766.8725, 773.2825, 765.9525, 769.8275, 774.38625, 778.35625, 776.9825, 776.415, 786.9725, 789.24625, 791.0, 789.2325, 805.79625, 842.63875, 910.9325, 910.2475, 870.13125, 905.45625, 900.36625, 948.89875, 971.645, 954.84375, 952.455, 964.325, 1009.97375, 1028.33375, 1047.09999, 1140.385, 985.93875, 837.83625, 923.52375, 889.33875, 905.22625, 910.60625, 772.66125, 784.89375, 820.68875, 821.19625, 830.74, 848.58125, 890.29375, 888.0625, 896.16375, 920.58875, 934.7775, 920.365, 912.2125, 898.55, 901.05, 912.84375, 919.795, 920.82875, 916.91125, 921.35125, 973.065, 982.8275, 1020.09, 1011.215, 1029.40124, 1019.3125, 1029.40875, 1067.70875, 1072.205, 974.95875, 997.2275, 1004.71375, 1004.85375, 994.58, 1003.59, 1018.41125, 1038.86625, 1058.315, 1052.84375, 1046.66249, 1079.5825, 1112.86375, 1122.515, 1193.501, 1182.429, 1139.848, 1189.366, 1189.94699, 1193.611, 1221.05, 1269.776, 1285.376, 1260.668, 1273.24699, 1280.30499, 1206.357, 1153.06, 1200.557, 1147.625, 1186.351, 1235.553, 1242.806, 1245.892, 1247.67099, 1126.08199, 1062.07, 1000.24599, 1036.226, 1065.481, 1091.333, 1036.099, 1013.844, 921.808, 962.508, 968.293, 1035.32199, 1011.969, 1041.374, 1048.86299, 1077.557, 1082.37, 1140.037, 1148.092, 1139.86, 1150.685, 1177.284, 1196.896, 1187.03299, 1213.801, 1206.74, 1226.896, 1216.269, 1187.136, 1186.10899, 1189.55, 1184.2, 1211.73799, 1218.666, 1227.981, 1261.702, 1255.25125, 1232.7575, 1243.43, 1251.5775, 1269.69625, 1289.7475, 1335.825, 1319.7, 1311.58874, 1370.79, 1416.61, 1448.88625, 1506.7725, 1543.31, 1536.1525, 1554.6025, 1564.065, 1644.72875, 1695.83125, 1748.35375, 1774.52, 1634.6075, 1774.805, 1747.04375, 1665.0325, 1744.44125, 1796.89625, 1913.13875, 1983.97875, 2074.69625, 2114.98875, 2196.66874, 2348.55249, 2581.85375, 2460.95375, 2232.2875, 2234.83374, 2195.785, 2315.73625, 2170.98124, 2402.125, 2477.1725, 2475.2975, 2526.31125, 2605.125, 2855.03, 2900.8525, 2737.9025, 2826.03875, 2846.00625, 2910.33625, 3007.0125, 2697.0775, 2780.1825, 2518.54875, 2438.61749, 2520.78375, 2680.1025, 2611.67999, 2667.5475, 2805.0975, 2702.00375, 2763.29125, 2740.5925, 2598.15875, 2630.59499, 2513.42999, 2556.1675, 2591.2675, 2547.3225, 2479.05499, 2424.69875, 2513.74125, 2640.06125, 2588.67875, 2634.17375, 2598.57, 2514.3625, 2586.0425, 2524.12624, 2352.265, 2292.91375, 2437.55375, 2337.67875, 2109.37375, 2045.5725, 1986.9425, 2189.23999, 2354.8925, 2349.355, 2740.56875, 2738.775, 2831.67875, 2772.3675, 2768.8025, 2540.20874, 2570.195, 2699.72125, 2719.69, 2714.70375, 2718.6175, 2867.65375, 2739.70875, 2740.07125, 2811.71, 3123.41125, 3254.71, 3274.6375, 3474.7625, 3416.185, 3364.41125, 3451.8525, 3705.43, 4104.015, 4036.7575, 4462.67625, 4118.9025, 4322.42125, 4311.685, 4180.23875, 4139.38125, 4110.94125, 3911.27625, 4162.79249, 4178.75625, 4396.03125, 4359.9025, 4381.39625, 4340.46, 4442.6575, 4664.64375, 4676.1425, 4783.17, 4864.285, 4672.56875, 4593.1825, 4160.535, 4517.57, 4543.1025, 4628.6025, 4280.975, 4194.21875, 4307.82625, 4295.76124, 3944.58375, 3817.0575, 3358.10875, 3772.68375, 3608.595, 3764.6175, 3976.3875, 3863.18625, 3827.685, 3690.99125, 3612.1625, 3772.8475, 3753.435, 3920.99125, 3939.515, 4220.28, 4062.20375, 4207.825, 4300.55125, 4414.1775, 4424.4725, 4307.555, 4186.78374, 4325.23625, 4370.16875, 4446.17249, 4624.34875, 4789.30125, 4741.70875, 4858.60499, 5728.5475, 5666.97875, 5779.07375, 5607.01, 5643.55375, 5495.03875, 5627.08625, 5686.52625, 6098.115, 5949.07875, 5969.795, 5649.005, 5550.85875, 5776.87875, 5923.70625, 5737.1025, 5741.7225, 6151.325, 6130.56375, 6424.515, 6879.365, 7199.2375, 7210.46875, 7376.7425, 7231.93, 7123.89375, 7356.50625, 7342.82375, 7250.77, 6773.695, 6075.30125, 5969.13, 6666.27125, 6867.42625, 7259.3, 7924.1825, 7598.2775, 7787.45625, 7954.7675, 7879.06, 8150.6325, 8208.75375, 8094.445, 8190.87125, 8851.305, 9573.9675, 9713.09625, 10295.6225, 10542.6625, 9706.10375, 10923.20125, 10973.54375, 11382.20875, 11597.23125, 12230.365, 13734.52, 16403.42125, 15732.1, 13152.52875, 16299.2975, 16374.8975, 16678.28749, 16246.13875, 17221.65125, 17436.5975, 19166.97874, 18640.2625, 18984.7675, 16862.57125, 16925.0175, 14182.46499, 14694.5825, 14103.21875, 13387.34875, 14652.3675, 15846.07375, 14362.40375, 14867.5725, 13643.695, 13062.145, 13439.4175, 13337.62125, 14881.545, 15104.45, 14953.8525, 16576.69625, 16735.10625, 15632.41125, 15242.93625, 14122.825, 13269.5975, 13633.36375, 14165.90625, 14217.3625, 13519.92625, 12915.11625, 10870.16875, 11340.65, 11137.36875, 11742.94125, 12486.06625, 11508.62, 10872.9025, 10830.9275, 11629.375, 11524.345, 11005.615, 11452.23, 11412.79375, 10917.15125, 9914.4725, 9970.30875, 8715.59499, 8285.50124, 9192.045, 8136.39, 6332.37, 7270.5075, 7987.28125, 8086.7725, 8930.13875, 8045.44, 8478.92499, 8766.8525, 8693.2525, 9659.2875, 10110.83875, 10474.77125, 10855.9375, 10537.00625, 11416.03875, 10928.02, 10727.9525, 9809.72125, 10412.36875, 9585.285, 9627.71625, 10272.9025, 10903.01875, 10352.04625, 11100.2925, 11305.1225, 11171.8175, 11558.475, 11246.7475, 10735.88625, 9552.75875, 8980.19249, 9251.2925, 8680.6075, 9433.47374, 9047.5125, 9260.70875, 7895.98875, 8039.6025, 8206.555, 7667.99, 8189.49125, 8597.3375, 9028.2975, 9023.7175, 8411.6525, 8881.98625, 8548.8125, 8429.33124, 7854.6375, 7863.255, 7866.36, 6861.325, 6970.36375, 6926.875, 6986.835, 7182.12, 7295.89, 6769.48375, 6766.5925, 6854.92125, 6964.4325, 7125.53875, 6789.2675, 6824.49375, 6941.63875, 7823.55875, 8040.88125, 8083.57375, 8160.4125, 8030.57, 7937.61, 8188.71875, 8333.81374, 8866.67, 8830.05875, 8868.16124, 9191.82, 9373.3025, 8807.515, 9153.64125, 9144.38375, 9444.1425, 9268.7175, 8949.87624, 9029.47875, 9228.8525, 9572.69875, 9817.5975, 9845.54375, 9326.76125, 9424.99124, 9039.02875, 9327.04999, 8920.25625, 8408.35875, 8442.23875, 8398.86249, 8711.38875, 8159.25625, 8360.22875, 7996.82125, 8237.3425, 8250.395, 8493.13125, 8324.025, 7951.51375, 7614.96375, 7599.9525, 7436.835, 7296.79625, 7383.2175, 7118.42375, 7491.61125, 7363.27625, 7490.62125, 7518.333328931, 7630.403388155, 7716.1450680606, 7505.5892769261, 7624.1879705558, 7658.57, 7684.93, 7618.11, 7495.1, 6770.31, 6780.3408026703, 6525.329181606, 6321.6559647806, 6601.3241577351, 6397.4411699407, 6529.5440149899, 6482.8686968609, 6711.6496699796, 6731.7101466428, 6736.8677212375, 6729.9259369514, 6099.445277341, 6198.7008235859, 6142.3925697055, 6244.3284549671, 6148.4227054114, 6140.1914995488, 5954.5265818138, 6189.3092519378, 6343.8921999592, 6373.2778541204, 6629.7495948521, 6482.8305936314, 6589.6327930083, 6538.6824323422, 6596.53, 6570.4275920965, 6744.9886791676, 6694.5308510827, 6364.3875895982, 6360.4466681956, 6144.8101179498, 6215.59, 6254.6781291793, 6366.3499035552, 6671.6259190668, 7315.5510403376, 7359.7370183427, 7484.6396703854, 7357.4456773198, 7424.7342378111, 7411.2005247349, 7730.2474798128, 8325.8015336658, 8271.5979196832, 7925.2473958792, 8254.2773483423, 8184.6955351747, 8201.8900899474, 8166.3883602012, 7700.8341285235, 7588.5861802231, 7547.3149505122, 7423.0743779862, 7396.0411215425, 7411.5152993623, 7402.3366337439, 6748.4414841816, 6460.1531550102, 6482.9734487615, 6092.5331036604, 6391.5992583652, 6338.7389567451, 6260.1929950271, 6123.4476006082, 6332.6068999281, 6273.8880695393, 6566.5952833952, 6396.9463686172, 6516.6683821435, 6299.3953331255, 6470.7335666523, 6355.8818088457, 6503.8323619614, 6675.3606827832, 6725.0323269894, 6689.8226825962, 6756.6289258733, 7084.2936167368, 7059.2312352573, 6938.9145822993, 7028.447311566, 7198.0584362259, 7282.8585138311, 7260.2515925593, 7361.2718642376, 6913.1150129363, 6471.493883654, 6400.2687056583, 6181.7442069566, 6253.9372013424, 6275.0831321787, 6275.6695882724, 6277.4944091253, 6283.1841998225, 6285.9824663114, 6280.3101068801, 6281.4093556542, 6273.2200825643, 6278.5954861797, 6282.6107265937, 6288.0701702962, 6317.6996850165, 6293.8364208374, 6289.6213269847, 6466.9945639118, 6391.3859805928, 6509.7766212475, 6698.4160468789, 6502.6881513173, 6576.6143197, 6647.3879467315, 6603.7543420461, 6576.3542289419, 6481.2457703264, 6594.9357857858, 6630.5752970678, 6595.2603262611, 6591.6863183363, 6662.8684995573, 6663.021070746, 6619.4958451381, 6285.859202643, 6309.1989214047, 6331.1311540774, 6361.4170162729, 6721.5875032778, 6724.8330778968, 6444.7470095938, 6374.6488625469, 6372.6868170702, 6407.4790849086, 6412.5304907339, 6396.8801542538, 6396.252324044, 6407.667175231, 6405.5007258241, 6392.1793373833, 6436.355483928, 6429.6871414323, 6266.1896827178, 6276.4644997238, 6321.713671307, 6341.0948126498, 6360.1412719216, 6344.7389429436, 6405.1397546807, 6396.3521235412, 6425.9178018185, 6514.4894527375, 6412.524289058, 6343.6325037562, 6365.655231516, 6327.4806461044, 6327.1546960646, 6282.4386771629, 5524.8010934193, 5511.1528335321, 5448.6006335653, 5497.4112787322, 5553.014895008, 4800.3428974568, 4246.3127740611, 4478.2995582941, 4405.7440313629, 4329.9172203207, 3728.8726484882, 3951.20502915, 3640.5571648024, 3792.1923641199, 4174.31997237, 4218.6083631146, 3952.4478953992, 4178.60382773, 4118.5182417699, 3847.0327374089, 3889.2921196935, 3713.5733827508, 3578.2066240384, 3391.8741459694, 3452.6161853921, 3507.3063671956, 3419.7337684576, 3360.9466282566, 3414.8337488292, 3263.5479129873, 3212.207080727, 3194.96227244, 3200.6424680869, 3478.461202649, 3562.8949463603, 3709.3167592101, 4065.7999528499, 3824.7397939051, 3862.7263286473, 3949.7943416583, 4054.2962598168, 3767.3500239009, 3807.1530224727, 3587.1982229208, 3865.5293004371, 3725.48, 3832.4, 3689.5646203364, 3715.5644411293, 3882.304754348, 3795.5927412969, 3812.3811076791, 3809.9143429619, 4014.1331870739, 3989.6317409326, 3992.9861439065, 3995.3251931641, 3617.3462911588, 3606.1648903844, 3611.5282378524, 3497.6693915005, 3654.3470673605, 3568.7512587366, 3593.7217397683, 3623.717336702, 3605.8551868777, 3690.9085636878, 3544.2217242808, 3528.4635294479, 3581.5519472363, 3549.770799097, 3562.9204764613, 3566.6661636996, 3563.2780095528, 3539.6209472447, 3425.2621611882, 3395.0186452497, 3441.0322154158, 3420.633226576, 3439.8056988758, 3433.0352852216, 3404.499313399, 3412.2304311019, 3419.7678987458, 3367.5190315823, 3360.534075862, 3591.0221518825, 3617.4646801319, 3621.1540027134, 3593.1831765659, 3579.3418810265, 3569.5548327757, 3558.3968581047, 3566.2477646317, 3596.4051912371, 3606.1519884106, 3865.3181649793, 3904.4829202328, 3924.7398439211, 3889.7584851849, 3933.6075896328, 4105.1127585961, 3763.6205157956, 3819.8653414425, 3797.5817895103, 3772.9363353275, 3799.678542951, 3811.6119793671, 3804.4191701095, 3782.6641011218, 3689.8628931904, 3832.0808847342, 3848.9563696825, 3859.8399833296, 3828.3719040694, 3898.8684595605, 3899.6558689562, 3851.2491896498, 3866.2959463248, 3846.2744415121, 3855.7443626577, 3892.0523011383, 3985.8512364813, 3970.3890446061, 3974.4157640954, 3996.037130764, 4027.7873954939, 3974.8114294551, 3987.3052249052, 3977.707443288, 3968.4387009854, 3913.7817170518, 3915.3753197805, 4018.5905096995, 4008.3708718477, 4080.2601141916, 4081.2216046987, 4094.7047913777, 4135.1849399747, 4818.7706353498, 5102.1507526415, 4875.5994313973, 5030.9332705867, 5028.3210819427, 5198.1731702888, 5260.2050430865, 5179.997649218, 5283.543757825, 5049.6058235388, 5077.5158640878, 5066.8670401606, 5158.3874010066, 5045.6751659083, 5184.2044677779, 5220.9599338197, 5276.5589823291, 5266.6612458779, 5292.1483296981, 5276.5583181647, 5398.4334166027, 5552.5219105461, 5432.9910174238, 5132.227526274, 5151.5745281681, 5200.1932393191, 5152.5457396305, 5151.4334996793, 5277.4444688896, 5297.9424922151, 5405.8780670084, 5697.6790537992, 5812.3317793033, 5713.0350518135, 5706.0084207883, 5899.5296934602, 5932.4413913918, 6159.6859018287, 6387.829450439, 7254.8055361621, 6992.7066614624, 7906.9408350528, 7928.4174163467, 8177.4535191838, 7820.0762428219, 7243.650538964, 7295.6497288231, 8221.2593953546, 7917.0124987984, 7961.1287431622, 7723.9038796248, 7903.8469103955, 8038.5067907549, 8089.5701634982, 8653.1423680221, 8800.3466061527, 8719.3314849999, 8672.4001072907, 8287.0402563223, 8513.2038819334, 8588.4795049694, 8744.2655607165, 8474.0482291229, 7645.5725139007, 7790.3211349552, 7730.8817258862, 8030.2560794416, 7949.425798625, 7600.9224920885, 7954.0062377205, 7903.6252503798, 8151.7886797815, 8256.7200994618, 8667.7879539941, 8836.1684129096, 9061.5404606385, 9346.9750871976, 9012.4878496522, 9259.1236383919, 9559.9006885716, 9906.407965055, 10461.4121688088, 10843.5709747797, 10996.4597495353, 11665.4096837335, 12444.9258599878, 11086.2688286526, 12316.9530120207, 12024.0809722046, 10932.3105071733, 10454.6838183291, 10800.1301399504, 11942.2402247929, 11645.5246063376, 10946.2090547386, 11219.0460004352, 11422.1144680283, 12335.9993946484, 12575.904067439, 12054.1837934894, 11324.1446969751, 11802.9599635884, 11279.6027356333, 10506.3958273087, 10934.4827395525, 9490.4105157548, 9733.1321340919, 10603.3488731713, 10466.2609381509, 10983.2160020296, 10551.1316333347, 10285.6392306749, 10027.5326122485, 9771.5047613175, 9897.4293515161, 9812.2263505784, 9440.1400373076, 9495.855261405, 9506.704273142, 9572.735371803, 10005.2944733245, 10385.2006061246, 10513.9114715942, 10831.2598554087, 10985.8075416287, 11811.7870541507, 11310.187223605, 11956.0472230184, 11817.4554825164, 11827.5745716918, 11278.2812549022, 11485.3657829898, 11391.9686539038, 10869.3791128623, 10211.4985816982, 10386.5395500195, 10388.4505925604, 10212.1014417394, 10335.3728385716, 10774.8103058331, 10818.5070076193, 10064.9167944793, 10161.1647494901, 10364.2813536875, 10171.4974606754, 10068.922419922, 10312.2150398496, 10122.1965329581, 9743.1620510451, 9487.9764335192, 9590.7363369227, 9624.9839105321, 9780.6678970327, 10381.8559592516, 10691.31129913, 10555.0469008368, 10576.3178915251, 10334.0238858467, 10495.2273642085, 10402.7965306911, 10332.9421881057, 10082.9468264833, 10152.7529840771, 10396.7672047403, 10299.4769604855, 10351.2320218437, 10302.1907136783, 10301.6596516938, 10231.4215119596, 10168.2877093815, 10223.5055788024, 10138.3352052234, 9984.520515967, 10031.8667089936, 9719.7186961077, 8688.9735259572, 8438.7085524873, 8103.2108995944, 8195.2106969967, 8146.4140320046, 8085.7132904218, 8241.3414700027, 8333.6891904217, 8273.4640176573, 8203.8438327979, 8163.9026381024, 8137.1466890387, 7853.6933048347, 8236.2083793045, 8201.6378181926, 8572.3808124348, 8582.1445177037, 8320.1715813968, 8328.6042603935, 8282.1773258265, 8337.8189985374, 8162.44, 8003.8203947876, 8058.0580811125, 7970.2394756046, 7943.3471070605, 8200.3187633988, 8200.2460994923, 8073.4095438836, 7420.4158364928, 7460.6174159279, 8591.2238974163, 9171.3065318558, 9578.3675560737, 9458.2233596272, 9455.7246926058, 9225.9954793378, 9131.4106303055, 9197.6323446207, 9290.8966023936, 9202.41545055, 9369.6280811552, 9326.5996237841, 9335.7524023305, 9226.4858208826, 8794.3586445233, 8798.0420546256, 9081.1868784913, 8711.5343391679, 8760.8927181435, 8749.520591019, 8656.970922354, 8500.6435581622, 8469.2608988992, 8537.3396519676, 8205.8063659942, 8118.4885358003, 8074.8431736099, 7612.7405735024, 7262.1105349483, 7303.4057585242, 7041.7329364242, 7211.8618087461, 7141.0694486947, 7523.4806726005, 7390.207469227, 7729.265938935, 7542.2356086361, 7381.9630078152, 7333.4329304881, 7315.3677645579, 7213.7337617194, 7398.7870496069, 7511.8805831153, 7532.1235130864, 7550.2391998746, 7333.0960431601, 7239.762575441, 7198.0666770463, 7190.2723692612, 7238.8743229875, 7087.0249853497, 7112.7314761241, 6883.4963937703, 6584.0288433458, 7424.0154002314, 7147.5683237876, 7139.9333705301, 7286.3350811573, 7236.9862046092, 7166.1723785327, 7235.6266504955, 7212.8093952216, 7183.7065360296, 7227.2937116818, 7311.560643923, 7385.464847913, 7251.2767943228, 7179.9578192867, 7174.7440119511, 6955.4875796712, 7291.2195053189, 7337.6366701377, 7347.4332644392, 7713.8607536496, 8039.6037008183, 8067.6063690564, 7808.7013638165, 8087.4528852359, 8078.9935319903, 8149.3137171468, 8116.9610079465, 8735.1424391365, 8843.6757322237, 8711.6375778988, 8925.2990284456, 8939.8643002492, 8638.1814404614, 8652.6837629859, 8708.786013433, 8635.0743569587, 8384.0887767671, 8451.2322960209, 8347.567505406, 8562.307470442, 8881.9623914604, 9131.1149880642, 9320.9784062486, 9545.0779565894, 9388.8807518859, 9363.1933827575, 9385.2603858419, 9269.7070348447, 9177.8946372066, 9625.4566372011, 9681.3774113095, 9795.3440659492, 9927.7782564213, 10132.706499106, 9838.9000162764, 10236.6351482326, 10364.9262882252, 10218.0997373046, 10367.5279981077, 9926.353690569, 9876.2349632052, 9636.6240948155, 10189.9959829746, 9701.0371914987, 9631.4849459561, 9670.8586543715, 9689.0867428481, 9919.5514478418, 9640.4695050585, 9392.8696287195, 8787.9783631624, 8784.9953524383, 8778.4705108021, 8639.5914172977, 8548.9483224221, 8923.0443982559, 8791.1120581303, 8756.9610624113, 9078.5787771302, 9126.6368222216, 8925.2134877789, 8166.3138940249, 7875.7508752183, 7959.2282742121, 7955.3062841815, 5800.2089048343, 5672.6812010316, 5304.149952186, 5355.1873735338, 4944.7023359837, 5465.582594124, 5363.8228532507, 6301.0634040737, 6185.2798385235, 6187.0537502172, 5884.3401334651, 6455.4546882515, 6784.3180114254, 6706.9850891337, 6721.4953923809, 6682.7800491951, 6229.4883428258, 5922.4898350924, 6483.7394455297, 6446.4213468415, 6537.3364615033, 6850.5587116906, 6776.370093566, 6855.9332644576, 6805.3622868989, 7278.2439697658, 7175.6674765579, 7367.2933984502, 7321.8166138877, 6866.3981890103, 6873.848495157, 7043.4388635241, 6889.8637723481, 6887.554907833, 6718.7999502834, 7166.5828171387, 7065.0823890422, 7277.1405855631, 7185.87030343, 6856.1464345446, 6904.4757726979, 7118.3887479246, 7562.0328317455, 7497.8617638281, 7542.3034007032, 7624.8537859232, 7776.5075425684, 7761.7587840758, 8773.1064879583, 8767.6726233679, 8853.7744840141, 8963.057557797, 8904.713816537, 8887.5058925872, 8978.2835871237, 9371.6842727917, 9900.678866615, 9917.2484143422, 9617.5181949278, 8786.655181651, 8608.125245038, 8815.2312449023, 9330.986484701, 9757.2965855933, 9362.6355569661, 9418.9185505051, 9684.7019593528, 9723.6801504531, 9719.4808544776, 9540.8865665842, 9141.150637421, 9192.8451358053, 9220.0758874664, 9048.7151191611, 8905.7816045384, 8835.7272240409, 9112.9791755927, 9507.5246646633, 9425.2818691896, 9688.324390372, 9427.6700841394, 10268.5819847333, 9516.1354430882, 9667.0607542595, 9811.367094602, 9659.6612981892, 9677.0509945125, 9737.458558786, 9791.9278997681, 9786.1420204782, 9874.967047524, 9260.8326409877, 9464.2280968215, 9458.6597544046, 9351.9537280097, 9441.7689955465, 9510.6606372934, 9457.6270744096, 9398.6420936216, 9279.7607651662, 9353.0781961865, 9289.104491444, 9680.9471278957, 9609.6802455253, 9311.1363183171, 9252.6333717662, 9171.7320857653, 9022.1537680028, 9101.8500573564, 9188.0613754617, 9148.4448585576, 9236.3167704303, 9097.7973663897, 9094.3245610188, 9124.653534398, 9055.4644825162, 9278.8056370407, 9244.4158145353, 9471.7599734203, 9236.1432537083, 9243.1752591504, 9229.85975494, 9286.737042085, 9238.9937548587, 9260.4709801845, 9211.0264328947, 9133.7778303426, 9160.4105914881, 9176.6863901004, 9190.2715341962, 9172.5883325719, 9395.0644458829, 9530.7908853474, 9617.3778613786, 9568.9747259614, 9708.9491400965, 9938.9512228609, 11187.7797269617, 10939.6701415471, 11284.4589868467, 11118.918412434, 11373.3172566418, 11766.7482970949, 11139.0983803526, 11261.8063317402, 11228.0263240165, 11653.4075855619, 11796.8173649898, 11639.9354101265, 11744.9120755023, 11673.1232375366, 11832.2273081293, 11340.5823406437, 11549.5463143706, 11752.1686562261, 11783.2834112599, 11895.6269498904, 11896.9471701861, 12399.1118846619, 12071.738909085, 11749.8295087584, 11833.8973486966, 11583.1389426341, 11674.6243539052, 11666.4101222366, 11744.0126966495, 11378.7260298071, 11458.8225964867, 11302.1209644988, 11482.2256865058, 11515.0444306934, 11657.0039342288, 11678.3732554192, 11964.2086724627, 11427.7026049712, 10712.9206460713, 10563.896938616, 10042.8548543675, 10207.6050029603, 10381.7761069335, 10043.1964412914, 10268.460915747, 10341.0159838502, 10380.5395972283, 10436.3654083593, 10313.06857949, 10680.2975611652, 10829.5053071986, 11033.3835264817, 10937.1112591004, 10933.9311623986, 11048.8792781597, 10852.9101389415, 10526.2028872017, 10531.1645626345, 10260.0330124118, 10672.956808056, 10729.0696074184, 10741.4764675217, 10752.3454497531, 10863.0657239052, 10764.2843707196, 10741.5795494951, 10626.6009564965, 10567.330195233, 10555.0286787811, 10660.6111826447, 10756.4045849204, 10589.6263935253, 10645.7547867781, 10897.5954315054, 11052.3950836712, 11360.8527168674, 11334.0267420322, 11666.2117003214, 11443.7327918222, 11395.54736637, 11504.5490067109, 11355.1604394509, 11358.7063796297, 11471.002547787, 11776.5929973295, 11936.3629133377, 13102.9344615485, 13140.669284056, 12933.8235654933, 13081.6725594906, 13008.4532577537, 13033.5242700816, 13721.2822248459, 13282.2603479223, 13467.7317828145, 13573.7105031536, 13891.2168331626, 13730.1973109361, 13633.6982168925, 13832.9384097683, 14163.9768155039, 15424.527676687, 15540.5965908122, 14783.9816785334, 15500.3342547421, 15283.7801387338, 15374.0443857602, 15820.4952410758, 16253.3102719418, 16347.0449203531, 15991.833024404, 15918.0801281116, 16752.0029899638, 17593.4864149334, 17834.6365337098, 17954.8580090953, 18612.870672181, 18591.8566047532, 18629.995537256, 18469.2004694785, 19045.7364656531, 18746.9348067039, 17187.4062763281, 17023.9614000906, 17814.7802784355, 18114.4143492772, 19382.3605858664, 18980.9774501247, 19184.8978477411, 19464.5317045601, 18813.1247602864, 19045.0202725986, 19113.9333950879, 19107.5997953098, 18682.4578332067, 18543.0070492215, 18359.4766003421, 18137.3193746116, 18882.2601710641, 19060.2769012786, 19251.2240047093, 19443.4763528278, 21310.6562622307, 22895.9762375501, 23008.7762567449, 23890.8226488694, 23537.3698908908, 23177.2709979948, 23433.9807581397, 23224.4541378534, 23623.8855332302, 24581.0061712681, 26381.2962329223, 26389.2902649448, 26718.0294634041, 26975.7295645207, 28768.8362075267, 29111.5215671239, 29333.6051206224, 32154.1673632745, 33002.5364270397, 31431.6122797216, 34433.6065138377, 36275.7563476709, 39713.5078567171, 40519.4485975339, 40258.923988658, 38709.7653748751, 34409.6423752223, 34214.6102620504, 37017.0075034547, 38435.8635146613, 36751.5849736892, 36016.7796059422, 36375.8113792618, 36346.6095022257, 36577.5196463886, 35004.5326268831, 30606.1826756533, 33368.3659318948, 32070.0974252022, 32285.726132437, 32500.2559626891, 32324.5556507343, 30534.9993730199, 33408.2183373915, 34842.5573931247, 34622.3732315285, 33087.3698645166, 33613.320764309, 35632.9019515192, 37397.426364087, 37256.2521108726, 37851.5965900821, 40302.7997928393, 38461.6814033048, 44716.6854690563, 46674.851688109, 45237.475689253, 47500.8975242038, 47884.1828622953, 47005.1906488965, 49151.167576322, 48125.9921954072, 48840.4144745814, 52165.3025552208, 51728.5087967282, 55719.2043616996, 54801.6486439949, 57128.6426064698, 54181.9146491937, 48172.8774769266, 48745.4329843392, 48291.4120833455, 45752.1149194059, 46642.6060765784, 45092.8065726007, 49248.914013312, 47900.7768783279, 50811.855174443, 48259.4870766621, 49149.7308288371, 48879.1519041557, 50594.6985745107, 51503.2581321815, 54458.0378114244, 56915.1739350527, 57636.7579619661, 57306.166262989, 60743.0418249111, 60197.9019918003, 56300.3341086303, 56639.7839496711, 58567.2837810578, 57983.094743574, 58451.7314659458, 58593.6024540601, 57796.4673712199, 54329.3586346314, 54794.2977137099, 52787.7455257516, 52173.8679802456, 54483.0457323, 56234.3561050027, 55343.9258153269, 57627.6792491031, 58734.4754337222, 58724.6645166272, 58984.6129299288, 58821.6269944414, 57517.7987731414, 58177.4027637323, 58843.5595402095, 58040.1876018833, 56508.9428638801, 57880.9056838598, 58171.9090187021, 59295.950044014, 59822.9016774304, 59853.1972422704, 63223.8843907858, 62926.5571759009, 63346.7890351052, 61965.7825980957, 60574.4447282273, 56850.8301656893, 56224.1015877117, 56608.7697483925, 54144.4274760563, 51965.0595594061, 50669.1443821756, 50733.7695036374, 48542.9522029844, 53558.7078446195, 55123.8619814166, 54591.5153255436, 53260.2953411529, 57302.6464240813, 57677.9752218988, 56427.0431250152, 57255.3068375553, 53658.8431208163, 57252.7021845011, 56583.8498791665, 57107.1206718864, 58788.2096789273, 58102.1914262342, 55715.5466512869, 56573.5554719043, 52147.8211869823, 49764.1320815975, 50032.6931367648, 47885.6252547166, 45604.6157536131, 43144.4712908603]\n"
          ],
          "name": "stdout"
        }
      ]
    },
    {
      "cell_type": "code",
      "metadata": {
        "colab": {
          "base_uri": "https://localhost:8080/",
          "height": 476
        },
        "id": "jVqT1sktCH6f",
        "outputId": "1e40aef5-c6cd-4af1-f12e-deeff39a85ee"
      },
      "source": [
        "import numpy as np\n",
        "import matplotlib.pyplot as plt\n",
        "plt.figure(figsize = (10,7))\n",
        "plt.plot(timesteps, btc_price)\n",
        "plt.title(\"BTC Price\")\n",
        "plt.xlabel(\"Date\")\n",
        "plt.ylabel(\"Price\")"
      ],
      "execution_count": null,
      "outputs": [
        {
          "output_type": "execute_result",
          "data": {
            "text/plain": [
              "Text(0, 0.5, 'Price')"
            ]
          },
          "metadata": {
            "tags": []
          },
          "execution_count": 12
        },
        {
          "output_type": "display_data",
          "data": {
            "image/png": "[encoded data removed]",
            "text/plain": [
              "<Figure size 720x504 with 1 Axes>"
            ]
          },
          "metadata": {
            "tags": [],
            "needs_background": "light"
          }
        }
      ]
    },
    {
      "cell_type": "markdown",
      "metadata": {
        "id": "fMtzcFeSDxTx"
      },
      "source": [
        "# Train Test Split 1"
      ]
    },
    {
      "cell_type": "code",
      "metadata": {
        "id": "JN8nzykID1Pg"
      },
      "source": [
        "# btc_df"
      ],
      "execution_count": null,
      "outputs": []
    },
    {
      "cell_type": "code",
      "metadata": {
        "id": "9vYD1qUzHyPj"
      },
      "source": [
        "# timesteps = btc_df.index.to_numpy()"
      ],
      "execution_count": null,
      "outputs": []
    },
    {
      "cell_type": "code",
      "metadata": {
        "id": "HwQfKhfaH2dS"
      },
      "source": [
        "# prices = btc_df[\"Price\"].to_numpy()"
      ],
      "execution_count": null,
      "outputs": []
    },
    {
      "cell_type": "code",
      "metadata": {
        "id": "vrO-L-g3H8Rx"
      },
      "source": [
        "# timesteps[:5], prices[:5]"
      ],
      "execution_count": null,
      "outputs": []
    },
    {
      "cell_type": "code",
      "metadata": {
        "id": "pbjjyJl7IDWw"
      },
      "source": [
        "# from sklearn.model_selection import train_test_split"
      ],
      "execution_count": null,
      "outputs": []
    },
    {
      "cell_type": "code",
      "metadata": {
        "id": "CBXkZBCeIIWh"
      },
      "source": [
        "# X_train, X_test, y_train, y_test = train_test_split(timesteps, prices, test_size=0.2, random_state=42)"
      ],
      "execution_count": null,
      "outputs": []
    },
    {
      "cell_type": "markdown",
      "metadata": {
        "id": "Z8U4UjkUJS0q"
      },
      "source": [
        "#Train Test Split 2\n",
        "\n",
        "We cannot randomize our split when we are using time series. We waqnt to SIMULATE a future prediction, by making the train data a cut version of the data, and the test part will be the final part of the data.\n",
        "\n",
        "NO RANDOMIZATION!!!"
      ]
    },
    {
      "cell_type": "code",
      "metadata": {
        "id": "608oaLR-JUdh"
      },
      "source": [
        "timesteps = btc_df.index.to_numpy()\n",
        "prices = btc_df[\"Price\"].to_numpy()\n"
      ],
      "execution_count": null,
      "outputs": []
    },
    {
      "cell_type": "code",
      "metadata": {
        "id": "FoPIu3LpKBMR"
      },
      "source": [
        "split = int(0.8 * len(prices))"
      ],
      "execution_count": null,
      "outputs": []
    },
    {
      "cell_type": "code",
      "metadata": {
        "colab": {
          "base_uri": "https://localhost:8080/"
        },
        "id": "rkQG3B0BKHuR",
        "outputId": "f55a08fd-ac69-499a-fbe2-1d39b9bedcdb"
      },
      "source": [
        "split"
      ],
      "execution_count": null,
      "outputs": [
        {
          "output_type": "execute_result",
          "data": {
            "text/plain": [
              "2229"
            ]
          },
          "metadata": {
            "tags": []
          },
          "execution_count": 21
        }
      ]
    },
    {
      "cell_type": "code",
      "metadata": {
        "id": "V-oNMZBuKKxx"
      },
      "source": [
        "X_train = timesteps[:split]\n",
        "y_train = prices[:split]"
      ],
      "execution_count": null,
      "outputs": []
    },
    {
      "cell_type": "code",
      "metadata": {
        "id": "DiQ1cLbmKVeR"
      },
      "source": [
        "X_test = timesteps[split:]\n",
        "y_test = prices[split:]"
      ],
      "execution_count": null,
      "outputs": []
    },
    {
      "cell_type": "code",
      "metadata": {
        "colab": {
          "base_uri": "https://localhost:8080/"
        },
        "id": "yG4BfMjHKaZA",
        "outputId": "26359fac-940b-4bc3-9a18-37ee15bf143e"
      },
      "source": [
        "#plot\n",
        "plt.figure(figsize = (10, 7))\n",
        "plt.scatter(X_train, y_train, s=5, label = \"Train\")\n",
        "plt.scatter(X_test, y_test,s=5, label = \"Test\")\n",
        "plt.legend()\n"
      ],
      "execution_count": null,
      "outputs": [
        {
          "output_type": "execute_result",
          "data": {
            "text/plain": [
              "<matplotlib.legend.Legend at 0x7ff984f6cfd0>"
            ]
          },
          "metadata": {
            "tags": []
          },
          "execution_count": 24
        },
        {
          "output_type": "display_data",
          "data": {
            "image/png": "[encoded data removed]",
            "text/plain": [
              "<Figure size 720x504 with 1 Axes>"
            ]
          },
          "metadata": {
            "tags": [],
            "needs_background": "light"
          }
        }
      ]
    },
    {
      "cell_type": "code",
      "metadata": {
        "id": "foMFJAW2K2JS"
      },
      "source": [
        ""
      ],
      "execution_count": null,
      "outputs": []
    },
    {
      "cell_type": "markdown",
      "metadata": {
        "id": "fXU0y5uAU28W"
      },
      "source": [
        "# PLOTTING FUNCTION"
      ]
    },
    {
      "cell_type": "code",
      "metadata": {
        "id": "YNiSpu9BU4tT"
      },
      "source": [
        "import matplotlib.pyplot as plt\n",
        "\n",
        "def plot_time_series(timestep, values,  format = \".\", start = 0, end = None, label = None):\n",
        "  plt.plot(timestep[start:end], values[start:end], format, label = label)\n",
        "  plt.xlabel(\"Time\")\n",
        "  plt.ylabel(\"Price\")\n",
        "\n",
        "  if label:\n",
        "    plt.legend(fontsize = 14)\n",
        "  plt.grid(True)\n"
      ],
      "execution_count": null,
      "outputs": []
    },
    {
      "cell_type": "code",
      "metadata": {
        "colab": {
          "base_uri": "https://localhost:8080/",
          "height": 442
        },
        "id": "jytPVUWLV5Ps",
        "outputId": "d5111b68-61ee-435c-a3b6-5a056a46babc"
      },
      "source": [
        "plt.figure(figsize = (10, 7))\n",
        "plot_time_series(X_train, y_train, label = \"Train Data\")\n",
        "plot_time_series(X_test, y_test, label = \"Test Data\")\n"
      ],
      "execution_count": null,
      "outputs": [
        {
          "output_type": "display_data",
          "data": {
            "image/png": "[encoded data removed]",
            "text/plain": [
              "<Figure size 720x504 with 1 Axes>"
            ]
          },
          "metadata": {
            "tags": [],
            "needs_background": "light"
          }
        }
      ]
    },
    {
      "cell_type": "code",
      "metadata": {
        "colab": {
          "base_uri": "https://localhost:8080/"
        },
        "id": "L4UxWyukWIOE",
        "outputId": "7ffcac79-3072-4c5f-91ff-879af468bf91"
      },
      "source": [
        "X_train.shape, y_train.shape"
      ],
      "execution_count": null,
      "outputs": [
        {
          "output_type": "execute_result",
          "data": {
            "text/plain": [
              "((2229,), (2229,))"
            ]
          },
          "metadata": {
            "tags": []
          },
          "execution_count": 27
        }
      ]
    },
    {
      "cell_type": "code",
      "metadata": {
        "id": "Y-7W8splW8Dj"
      },
      "source": [
        ""
      ],
      "execution_count": null,
      "outputs": []
    },
    {
      "cell_type": "markdown",
      "metadata": {
        "id": "rUe6-5JlXvrj"
      },
      "source": [
        "# Model 0: Naive Forecast\n",
        "\n",
        "Horizon: number of timesteps we predict                                                     \n",
        "Window: number of timesteps in the past we use to predict the horizon.\n",
        "\n",
        "Eg. use past 7 days to predict next day's weather.\n",
        "\n",
        "window = 7 days                                      \n",
        "horizon = 1 day"
      ]
    },
    {
      "cell_type": "code",
      "metadata": {
        "id": "W-oLeG3VXx7D"
      },
      "source": [
        "naive_forecast = y_test[:-1]"
      ],
      "execution_count": null,
      "outputs": []
    },
    {
      "cell_type": "code",
      "metadata": {
        "colab": {
          "base_uri": "https://localhost:8080/"
        },
        "id": "MocPM5JIknCK",
        "outputId": "a683067b-9428-4e8b-a183-06450bdfa053"
      },
      "source": [
        "naive_forecast[-5:], naive_forecast[:5]"
      ],
      "execution_count": null,
      "outputs": [
        {
          "output_type": "execute_result",
          "data": {
            "text/plain": [
              "(array([52147.82118698, 49764.1320816 , 50032.69313676, 47885.62525472,\n",
              "        45604.61575361]),\n",
              " array([9226.48582088, 8794.35864452, 8798.04205463, 9081.18687849,\n",
              "        8711.53433917]))"
            ]
          },
          "metadata": {
            "tags": []
          },
          "execution_count": 29
        }
      ]
    },
    {
      "cell_type": "code",
      "metadata": {
        "colab": {
          "base_uri": "https://localhost:8080/",
          "height": 442
        },
        "id": "5c2-Bpwrk19h",
        "outputId": "5d9d256c-5d10-472f-dcd6-806033b86053"
      },
      "source": [
        "plt.figure(figsize = (10,7))\n",
        "plot_time_series(X_train, y_train, label = \"Train\")\n",
        "plot_time_series(X_test, y_test, label = \"Test\")\n",
        "plot_time_series(X_test[1:], naive_forecast, label = \"naive forecast\", format = \"-\")\n",
        "\n"
      ],
      "execution_count": null,
      "outputs": [
        {
          "output_type": "display_data",
          "data": {
            "image/png": "[encoded data removed]",
            "text/plain": [
              "<Figure size 720x504 with 1 Axes>"
            ]
          },
          "metadata": {
            "tags": [],
            "needs_background": "light"
          }
        }
      ]
    },
    {
      "cell_type": "markdown",
      "metadata": {
        "id": "NZ_0Zrs05Zys"
      },
      "source": [
        "# Evaluating Metrics:\n",
        "\n",
        "* MAE = Mean Absolute Error; basic metric\n",
        "* MSE = Mean Squared Error; outliers make a GIANT impact\n",
        "* RMSE = Root Mean Squared error; square root of MSE, similar to MAE\n",
        "* MAPE/sMAPE = Mean Absolute Percentage Error; Don't use pls\n",
        "* MASE = Mean Absolute Scaled Error. > 1 means worse than naive, < 1 means better than naive. Use instead of MAPE"
      ]
    },
    {
      "cell_type": "code",
      "metadata": {
        "id": "55x5cRFc5cUb"
      },
      "source": [
        "import tensorflow as tf"
      ],
      "execution_count": null,
      "outputs": []
    },
    {
      "cell_type": "code",
      "metadata": {
        "id": "DdAwNijiPm2v"
      },
      "source": [
        "#implement MASE\n",
        "\n",
        "def mase(y_true, y_pred):\n",
        "  mae = tf.reduce_mean(tf.abs(y_true - y_pred))\n",
        "\n",
        "  mae_naive_no_season = tf.reduce_mean(tf.abs(y_true[1:] - y_true[:-1])) # the mae for the naive model\n",
        "\n",
        "\n",
        "  return mae / mae_naive_no_season"
      ],
      "execution_count": null,
      "outputs": []
    },
    {
      "cell_type": "code",
      "metadata": {
        "colab": {
          "base_uri": "https://localhost:8080/"
        },
        "id": "OesiTa96Qgzd",
        "outputId": "7ef48e24-eb2e-4996-e431-8d11fd39649d"
      },
      "source": [
        "mase(y_true=y_test[1:], y_pred = naive_forecast) #correct if it equals to 1"
      ],
      "execution_count": null,
      "outputs": [
        {
          "output_type": "execute_result",
          "data": {
            "text/plain": [
              "<tf.Tensor: shape=(), dtype=float64, numpy=0.9995699939182624>"
            ]
          },
          "metadata": {
            "tags": []
          },
          "execution_count": 33
        }
      ]
    },
    {
      "cell_type": "code",
      "metadata": {
        "id": "PKEhKkcgQ6st"
      },
      "source": [
        "def time_series_evaluate(y_true, y_pred):\n",
        "\n",
        "  y_true = tf.cast(y_true, dtype = tf.float32)\n",
        "  y_pred = tf.cast(y_pred, dtype = tf.float32)\n",
        "\n",
        "\n",
        "  mae = tf.reduce_mean(tf.abs(y_true - y_pred))\n",
        "\n",
        "  mae_naive_no_season = tf.reduce_mean(tf.abs(y_true[1:] - y_true[:-1])) # the mae for the naive model\n",
        "\n",
        "  mase = mae / mae_naive_no_season\n",
        "\n",
        "  mse = tf.keras.metrics.mean_squared_error(y_true, y_pred)\n",
        "\n",
        "  rmse = tf.sqrt(mse)\n",
        "\n",
        "  mape = tf.keras.metrics.mean_absolute_percentage_error(y_true, y_pred)\n",
        "\n",
        "  return {\n",
        "      \"MAE\": mae.numpy(),\n",
        "      \"MSE\": mse.numpy(),\n",
        "      \"RMSE\": rmse.numpy(),\n",
        "      \"MAPE\": mape.numpy(),\n",
        "      \"MASE\": mase.numpy()\n",
        "  }\n"
      ],
      "execution_count": null,
      "outputs": []
    },
    {
      "cell_type": "code",
      "metadata": {
        "id": "XRwBbBETUMoP"
      },
      "source": [
        "naive_results = time_series_evaluate(y_true=y_test[1:], y_pred = naive_forecast)"
      ],
      "execution_count": null,
      "outputs": []
    },
    {
      "cell_type": "code",
      "metadata": {
        "id": "XBUrjYYZUaVN"
      },
      "source": [
        ""
      ],
      "execution_count": null,
      "outputs": []
    },
    {
      "cell_type": "markdown",
      "metadata": {
        "id": "IcvPIQI1Z4N5"
      },
      "source": [
        "# Formatting Data"
      ]
    },
    {
      "cell_type": "code",
      "metadata": {
        "id": "TvAnrJo-dJJm"
      },
      "source": [
        "price = btc_df[\"Price\"].to_numpy()\n"
      ],
      "execution_count": null,
      "outputs": []
    },
    {
      "cell_type": "code",
      "metadata": {
        "colab": {
          "base_uri": "https://localhost:8080/"
        },
        "id": "yIfqMglPZ6ZP",
        "outputId": "ce419d84-ed00-4d23-cd77-d2f48c64e318"
      },
      "source": [
        "price[:7], price[7]"
      ],
      "execution_count": null,
      "outputs": [
        {
          "output_type": "execute_result",
          "data": {
            "text/plain": [
              "(array([123.65499, 125.455  , 108.58483, 118.67466, 121.33866, 120.65533,\n",
              "        121.795  ]), 123.03299999999999)"
            ]
          },
          "metadata": {
            "tags": []
          },
          "execution_count": 37
        }
      ]
    },
    {
      "cell_type": "code",
      "metadata": {
        "id": "qBSERvrmdMVu"
      },
      "source": [
        "HORIZON = 1\n",
        "WINDOW = 7"
      ],
      "execution_count": null,
      "outputs": []
    },
    {
      "cell_type": "code",
      "metadata": {
        "id": "iLlzJT4Jdfef"
      },
      "source": [
        "def get_label_window(x, horizon = HORIZON):\n",
        "  # input: [1, 2, 3, 4, 5, 6, 7] -> output: ([1, 2, 3, 4, 5, 6, 7], [8])\n",
        "\n",
        "  return x[:, :-horizon], x[:, -horizon]\n"
      ],
      "execution_count": null,
      "outputs": []
    },
    {
      "cell_type": "code",
      "metadata": {
        "id": "YXsog1qJelA_"
      },
      "source": [
        "test_window, test_label = get_label_window(tf.expand_dims(tf.range(8)+1, axis = 0))"
      ],
      "execution_count": null,
      "outputs": []
    },
    {
      "cell_type": "code",
      "metadata": {
        "colab": {
          "base_uri": "https://localhost:8080/"
        },
        "id": "858V7Fmbeyvu",
        "outputId": "80a897f0-9f62-4edc-cd41-b3b958c8b017"
      },
      "source": [
        "test_window, test_label"
      ],
      "execution_count": null,
      "outputs": [
        {
          "output_type": "execute_result",
          "data": {
            "text/plain": [
              "(<tf.Tensor: shape=(1, 7), dtype=int32, numpy=array([[1, 2, 3, 4, 5, 6, 7]], dtype=int32)>,\n",
              " <tf.Tensor: shape=(1,), dtype=int32, numpy=array([8], dtype=int32)>)"
            ]
          },
          "metadata": {
            "tags": []
          },
          "execution_count": 41
        }
      ]
    },
    {
      "cell_type": "code",
      "metadata": {
        "id": "q9DoYV3_e64F"
      },
      "source": [
        "x = tf.expand_dims(tf.range(8)+1, axis = 0)"
      ],
      "execution_count": null,
      "outputs": []
    },
    {
      "cell_type": "code",
      "metadata": {
        "colab": {
          "base_uri": "https://localhost:8080/"
        },
        "id": "nYEOTG8Ve8H_",
        "outputId": "4523ca93-f6c5-42d3-c535-da352eb45baa"
      },
      "source": [
        "x"
      ],
      "execution_count": null,
      "outputs": [
        {
          "output_type": "execute_result",
          "data": {
            "text/plain": [
              "<tf.Tensor: shape=(1, 8), dtype=int32, numpy=array([[1, 2, 3, 4, 5, 6, 7, 8]], dtype=int32)>"
            ]
          },
          "metadata": {
            "tags": []
          },
          "execution_count": 43
        }
      ]
    },
    {
      "cell_type": "code",
      "metadata": {
        "colab": {
          "base_uri": "https://localhost:8080/"
        },
        "id": "_UpzDBxbe8e_",
        "outputId": "3e1c19af-faaa-4791-b870-40a134e3a9e8"
      },
      "source": [
        "x[:, :-HORIZON], x[:, -HORIZON]"
      ],
      "execution_count": null,
      "outputs": [
        {
          "output_type": "execute_result",
          "data": {
            "text/plain": [
              "(<tf.Tensor: shape=(1, 7), dtype=int32, numpy=array([[1, 2, 3, 4, 5, 6, 7]], dtype=int32)>,\n",
              " <tf.Tensor: shape=(1,), dtype=int32, numpy=array([8], dtype=int32)>)"
            ]
          },
          "metadata": {
            "tags": []
          },
          "execution_count": 44
        }
      ]
    },
    {
      "cell_type": "code",
      "metadata": {
        "id": "OGbVMxoifgm-"
      },
      "source": [
        "import numpy as np\n",
        "def make_windows(x, window_size = WINDOW, horizon = HORIZON):\n",
        "  window_step = np.expand_dims(np.arange(window_size + horizon), axis=0)\n",
        "\n",
        "  window_indexes = window_step + np.expand_dims(np.arange(len(x) - (window_size + horizon - 1)), axis = 0).T\n",
        "\n",
        "  windowed_array = x[window_indexes]\n",
        "\n",
        "  windows, labels = get_label_window(windowed_array)\n",
        "\n",
        "  return windows, labels"
      ],
      "execution_count": null,
      "outputs": []
    },
    {
      "cell_type": "code",
      "metadata": {
        "id": "DuQlAHiHshAQ"
      },
      "source": [
        "windows, labels = make_windows(price)"
      ],
      "execution_count": null,
      "outputs": []
    },
    {
      "cell_type": "code",
      "metadata": {
        "colab": {
          "base_uri": "https://localhost:8080/"
        },
        "id": "esiEHPyqs6cR",
        "outputId": "43a5a858-0dc2-450b-d605-aaf35199b572"
      },
      "source": [
        "labels[-5:]"
      ],
      "execution_count": null,
      "outputs": [
        {
          "output_type": "execute_result",
          "data": {
            "text/plain": [
              "array([49764.1320816 , 50032.69313676, 47885.62525472, 45604.61575361,\n",
              "       43144.47129086])"
            ]
          },
          "metadata": {
            "tags": []
          },
          "execution_count": 47
        }
      ]
    },
    {
      "cell_type": "code",
      "metadata": {
        "colab": {
          "base_uri": "https://localhost:8080/"
        },
        "id": "62PO34AQuNwN",
        "outputId": "1e8b5f94-1ada-4ce8-a610-000bc1cc6213"
      },
      "source": [
        "windows[-5:]"
      ],
      "execution_count": null,
      "outputs": [
        {
          "output_type": "execute_result",
          "data": {
            "text/plain": [
              "array([[56583.84987917, 57107.12067189, 58788.20967893, 58102.19142623,\n",
              "        55715.54665129, 56573.5554719 , 52147.82118698],\n",
              "       [57107.12067189, 58788.20967893, 58102.19142623, 55715.54665129,\n",
              "        56573.5554719 , 52147.82118698, 49764.1320816 ],\n",
              "       [58788.20967893, 58102.19142623, 55715.54665129, 56573.5554719 ,\n",
              "        52147.82118698, 49764.1320816 , 50032.69313676],\n",
              "       [58102.19142623, 55715.54665129, 56573.5554719 , 52147.82118698,\n",
              "        49764.1320816 , 50032.69313676, 47885.62525472],\n",
              "       [55715.54665129, 56573.5554719 , 52147.82118698, 49764.1320816 ,\n",
              "        50032.69313676, 47885.62525472, 45604.61575361]])"
            ]
          },
          "metadata": {
            "tags": []
          },
          "execution_count": 48
        }
      ]
    },
    {
      "cell_type": "code",
      "metadata": {
        "id": "hnqyGl6ru_Q2"
      },
      "source": [
        "split = int(len(windows) * (1-0.2))\n",
        "X_train = windows[:split]\n",
        "y_train = labels[:split]\n",
        "X_test = windows[split:]\n",
        "y_test = labels[split:]"
      ],
      "execution_count": null,
      "outputs": []
    },
    {
      "cell_type": "code",
      "metadata": {
        "colab": {
          "base_uri": "https://localhost:8080/"
        },
        "id": "B9e2hRov_AWU",
        "outputId": "3e4ccf86-53eb-4097-f3a7-1e605ae4a3e3"
      },
      "source": [
        "len(X_train), split, len(X_test)"
      ],
      "execution_count": null,
      "outputs": [
        {
          "output_type": "execute_result",
          "data": {
            "text/plain": [
              "(2224, 2224, 556)"
            ]
          },
          "metadata": {
            "tags": []
          },
          "execution_count": 50
        }
      ]
    },
    {
      "cell_type": "markdown",
      "metadata": {
        "id": "6h4D5EbO_4No"
      },
      "source": [
        "# Callbacks"
      ]
    },
    {
      "cell_type": "code",
      "metadata": {
        "id": "XtWGowD6_RaT"
      },
      "source": [
        "import os\n",
        "\n",
        "def make_model_checkpoint(name, path = \"/content/model_exp/\"):\n",
        "  return tf.keras.callbacks.ModelCheckpoint(os.path.join(path, name), save_best_only = True, verbose = 0)\n"
      ],
      "execution_count": null,
      "outputs": []
    },
    {
      "cell_type": "code",
      "metadata": {
        "id": "8sA9LHUxBVQl"
      },
      "source": [
        "reduce_lr = tf.keras.callbacks.ReduceLROnPlateau(factor = 0.2, patience = 3, min_lr = 10e-7)"
      ],
      "execution_count": null,
      "outputs": []
    },
    {
      "cell_type": "code",
      "metadata": {
        "id": "TJkFgDxTBemz"
      },
      "source": [
        ""
      ],
      "execution_count": null,
      "outputs": []
    },
    {
      "cell_type": "markdown",
      "metadata": {
        "id": "Qwz-loXOBou_"
      },
      "source": [
        "#Make Model 1: Dense\n",
        "\n",
        "* Window = 7\n",
        "* Horizon = 1"
      ]
    },
    {
      "cell_type": "code",
      "metadata": {
        "id": "JBleusMdBxQj"
      },
      "source": [
        "import tensorflow as tf\n",
        "from tensorflow.keras import layers\n",
        "\n",
        "tf.random.set_seed(42)"
      ],
      "execution_count": null,
      "outputs": []
    },
    {
      "cell_type": "code",
      "metadata": {
        "id": "TQMqT1tWD7Ll"
      },
      "source": [
        "model_1 = tf.keras.Sequential([\n",
        "  layers.Dense(1024, activation = \"relu\"),\n",
        "\n",
        "  layers.Dense(HORIZON, activation = \"linear\")\n",
        "], name = \"model_1\")\n",
        "\n",
        "model_1.compile(loss = \"mae\",\n",
        "              optimizer = \"Adam\",\n",
        "              metrics = [\"mae\"])"
      ],
      "execution_count": null,
      "outputs": []
    },
    {
      "cell_type": "code",
      "metadata": {
        "colab": {
          "base_uri": "https://localhost:8080/"
        },
        "id": "VyYaNvWkEoUz",
        "outputId": "e80c4c0e-e70b-448e-ea31-5403761a6721"
      },
      "source": [
        "history_1 = model_1.fit(x = X_train, y = y_train, epochs = 100, validation_data = (X_test, y_test), batch_size=128,\n",
        "                        callbacks = [make_model_checkpoint(\"model_1\")], verbose = 0)"
      ],
      "execution_count": null,
      "outputs": [
        {
          "output_type": "stream",
          "text": [
            "INFO:tensorflow:Assets written to: /content/model_exp/model_1/assets\n",
            "INFO:tensorflow:Assets written to: /content/model_exp/model_1/assets\n",
            "INFO:tensorflow:Assets written to: /content/model_exp/model_1/assets\n",
            "INFO:tensorflow:Assets written to: /content/model_exp/model_1/assets\n",
            "INFO:tensorflow:Assets written to: /content/model_exp/model_1/assets\n",
            "INFO:tensorflow:Assets written to: /content/model_exp/model_1/assets\n",
            "INFO:tensorflow:Assets written to: /content/model_exp/model_1/assets\n",
            "INFO:tensorflow:Assets written to: /content/model_exp/model_1/assets\n",
            "INFO:tensorflow:Assets written to: /content/model_exp/model_1/assets\n",
            "INFO:tensorflow:Assets written to: /content/model_exp/model_1/assets\n",
            "INFO:tensorflow:Assets written to: /content/model_exp/model_1/assets\n",
            "INFO:tensorflow:Assets written to: /content/model_exp/model_1/assets\n",
            "INFO:tensorflow:Assets written to: /content/model_exp/model_1/assets\n",
            "INFO:tensorflow:Assets written to: /content/model_exp/model_1/assets\n",
            "INFO:tensorflow:Assets written to: /content/model_exp/model_1/assets\n",
            "INFO:tensorflow:Assets written to: /content/model_exp/model_1/assets\n",
            "INFO:tensorflow:Assets written to: /content/model_exp/model_1/assets\n",
            "INFO:tensorflow:Assets written to: /content/model_exp/model_1/assets\n",
            "INFO:tensorflow:Assets written to: /content/model_exp/model_1/assets\n",
            "INFO:tensorflow:Assets written to: /content/model_exp/model_1/assets\n"
          ],
          "name": "stdout"
        }
      ]
    },
    {
      "cell_type": "code",
      "metadata": {
        "id": "HgZnOvMFFbG0"
      },
      "source": [
        "new_model_1 = tf.keras.models.load_model(\"/content/model_exp/model_1\")"
      ],
      "execution_count": null,
      "outputs": []
    },
    {
      "cell_type": "code",
      "metadata": {
        "colab": {
          "base_uri": "https://localhost:8080/"
        },
        "id": "_zg9dYB9F4wl",
        "outputId": "6cd29162-dd67-4423-e557-91665949c442"
      },
      "source": [
        "new_model_1.evaluate(X_test, y_test)\n",
        "\n",
        "#567.67 mae"
      ],
      "execution_count": null,
      "outputs": [
        {
          "output_type": "stream",
          "text": [
            "18/18 [==============================] - 0s 2ms/step - loss: 563.9283 - mae: 563.9283\n"
          ],
          "name": "stdout"
        },
        {
          "output_type": "execute_result",
          "data": {
            "text/plain": [
              "[563.9283447265625, 563.9283447265625]"
            ]
          },
          "metadata": {
            "tags": []
          },
          "execution_count": 57
        }
      ]
    },
    {
      "cell_type": "code",
      "metadata": {
        "colab": {
          "base_uri": "https://localhost:8080/"
        },
        "id": "V4oNzqRWF8qM",
        "outputId": "e5d2eb09-91aa-4d15-c13a-aafa51a06d41"
      },
      "source": [
        "naive_results"
      ],
      "execution_count": null,
      "outputs": [
        {
          "output_type": "execute_result",
          "data": {
            "text/plain": [
              "{'MAE': 567.9802,\n",
              " 'MAPE': 2.516525,\n",
              " 'MASE': 0.99957,\n",
              " 'MSE': 1147547.0,\n",
              " 'RMSE': 1071.2362}"
            ]
          },
          "metadata": {
            "tags": []
          },
          "execution_count": 58
        }
      ]
    },
    {
      "cell_type": "markdown",
      "metadata": {
        "id": "qtd175caMka_"
      },
      "source": [
        "# Making Predictions"
      ]
    },
    {
      "cell_type": "code",
      "metadata": {
        "id": "oLyLxQtLMmlU"
      },
      "source": [
        "def make_preds(model, inputs):\n",
        "  preds = model.predict(inputs)\n",
        "  return tf.squeeze(preds)"
      ],
      "execution_count": null,
      "outputs": []
    },
    {
      "cell_type": "code",
      "metadata": {
        "id": "XcTY4oRLNSNm"
      },
      "source": [
        "model_1_preds = make_preds(new_model_1, X_test)"
      ],
      "execution_count": null,
      "outputs": []
    },
    {
      "cell_type": "code",
      "metadata": {
        "id": "ri0bzhpXNa71"
      },
      "source": [
        "model_1_results = time_series_evaluate(y_test, model_1_preds)"
      ],
      "execution_count": null,
      "outputs": []
    },
    {
      "cell_type": "code",
      "metadata": {
        "colab": {
          "base_uri": "https://localhost:8080/"
        },
        "id": "Kz5tg-DANzjF",
        "outputId": "95e4ece0-b3c0-4ad9-913e-14cb5b047ee2"
      },
      "source": [
        "model_1_results"
      ],
      "execution_count": null,
      "outputs": [
        {
          "output_type": "execute_result",
          "data": {
            "text/plain": [
              "{'MAE': 563.9283,\n",
              " 'MAPE': 2.5159616,\n",
              " 'MASE': 0.9906658,\n",
              " 'MSE': 1155212.4,\n",
              " 'RMSE': 1074.8081}"
            ]
          },
          "metadata": {
            "tags": []
          },
          "execution_count": 62
        }
      ]
    },
    {
      "cell_type": "code",
      "metadata": {
        "colab": {
          "base_uri": "https://localhost:8080/"
        },
        "id": "VvHDtT6nN0t1",
        "outputId": "aa537f9b-f99f-4374-d43c-9382f372c3af"
      },
      "source": [
        "naive_results"
      ],
      "execution_count": null,
      "outputs": [
        {
          "output_type": "execute_result",
          "data": {
            "text/plain": [
              "{'MAE': 567.9802,\n",
              " 'MAPE': 2.516525,\n",
              " 'MASE': 0.99957,\n",
              " 'MSE': 1147547.0,\n",
              " 'RMSE': 1071.2362}"
            ]
          },
          "metadata": {
            "tags": []
          },
          "execution_count": 63
        }
      ]
    },
    {
      "cell_type": "code",
      "metadata": {
        "colab": {
          "base_uri": "https://localhost:8080/",
          "height": 442
        },
        "id": "TmbKRd4oOQKF",
        "outputId": "2f7c5340-47e0-4166-8ac2-d353eb74ede9"
      },
      "source": [
        "offset = 300\n",
        "\n",
        "plt.figure(figsize = (10,7))\n",
        "\n",
        "time_check = timesteps[split:]\n",
        "\n",
        "plot_time_series(timesteps[-556:], tf.squeeze(y_test), start = offset, label = \"test data\")\n",
        "plot_time_series(timesteps[-len(X_test):], model_1_preds, start = offset, label = \"predicted data\", format = \"-\")\n"
      ],
      "execution_count": null,
      "outputs": [
        {
          "output_type": "display_data",
          "data": {
            "image/png": "[encoded data removed]",
            "text/plain": [
              "<Figure size 720x504 with 1 Axes>"
            ]
          },
          "metadata": {
            "tags": [],
            "needs_background": "light"
          }
        }
      ]
    },
    {
      "cell_type": "markdown",
      "metadata": {
        "id": "wsc4gioXWCC6"
      },
      "source": [
        "#Model 2: Dense\n",
        "\n",
        "* Window = 30\n",
        "* Horizon = 1"
      ]
    },
    {
      "cell_type": "code",
      "metadata": {
        "id": "xPR2r4hcWKuC"
      },
      "source": [
        "HORIZON = 1\n",
        "WINDOW = 30"
      ],
      "execution_count": null,
      "outputs": []
    },
    {
      "cell_type": "code",
      "metadata": {
        "id": "kZ5OVE_wWHZ2"
      },
      "source": [
        "big_windows, big_labels = make_windows(price, window_size = WINDOW, horizon=HORIZON)"
      ],
      "execution_count": null,
      "outputs": []
    },
    {
      "cell_type": "code",
      "metadata": {
        "colab": {
          "base_uri": "https://localhost:8080/"
        },
        "id": "wzx_vdgzWwM2",
        "outputId": "23ecb33e-a275-49ec-938c-89e20714f0f9"
      },
      "source": [
        "big_windows.shape"
      ],
      "execution_count": null,
      "outputs": [
        {
          "output_type": "execute_result",
          "data": {
            "text/plain": [
              "(2757, 30)"
            ]
          },
          "metadata": {
            "tags": []
          },
          "execution_count": 67
        }
      ]
    },
    {
      "cell_type": "code",
      "metadata": {
        "id": "WtRUGEM6W6Pm"
      },
      "source": [
        "split = int(len(big_windows) * (0.8))\n",
        "X_train = big_windows[:split]\n",
        "y_train = big_labels[:split]\n",
        "X_test = big_windows[split:]\n",
        "y_test = big_labels[split:]"
      ],
      "execution_count": null,
      "outputs": []
    },
    {
      "cell_type": "code",
      "metadata": {
        "colab": {
          "base_uri": "https://localhost:8080/"
        },
        "id": "6DIJduZFXB9V",
        "outputId": "25258523-b0d4-4913-bfaa-bac5bf9b0253"
      },
      "source": [
        "len(X_train), split, len(X_test)"
      ],
      "execution_count": null,
      "outputs": [
        {
          "output_type": "execute_result",
          "data": {
            "text/plain": [
              "(2205, 2205, 552)"
            ]
          },
          "metadata": {
            "tags": []
          },
          "execution_count": 69
        }
      ]
    },
    {
      "cell_type": "code",
      "metadata": {
        "id": "5LzR2N7EXEjG"
      },
      "source": [
        "tf.random.set_seed(42)"
      ],
      "execution_count": null,
      "outputs": []
    },
    {
      "cell_type": "code",
      "metadata": {
        "id": "VRyIv3kR9ArR"
      },
      "source": [
        "model_2 = tf.keras.Sequential([\n",
        "  layers.Dense(1024, activation = \"relu\"),\n",
        "\n",
        "  layers.Dense(HORIZON, activation = \"linear\")\n",
        "], name = \"model_2\")\n",
        "\n",
        "model_2.compile(loss = \"mae\",\n",
        "              optimizer = \"Adam\",\n",
        "              metrics = [\"mae\"])"
      ],
      "execution_count": null,
      "outputs": []
    },
    {
      "cell_type": "code",
      "metadata": {
        "colab": {
          "base_uri": "https://localhost:8080/"
        },
        "id": "GsdvmUo59K7h",
        "outputId": "11a7d598-1a8a-4579-a5fd-ac8990c2cd60"
      },
      "source": [
        "history_2 = model_2.fit(x = X_train, y = y_train, epochs = 100, validation_data = (X_test, y_test), batch_size=128,\n",
        "                        callbacks = [make_model_checkpoint(\"model_2\")], verbose = 0)"
      ],
      "execution_count": null,
      "outputs": [
        {
          "output_type": "stream",
          "text": [
            "INFO:tensorflow:Assets written to: /content/model_exp/model_2/assets\n",
            "INFO:tensorflow:Assets written to: /content/model_exp/model_2/assets\n",
            "INFO:tensorflow:Assets written to: /content/model_exp/model_2/assets\n",
            "INFO:tensorflow:Assets written to: /content/model_exp/model_2/assets\n",
            "INFO:tensorflow:Assets written to: /content/model_exp/model_2/assets\n",
            "INFO:tensorflow:Assets written to: /content/model_exp/model_2/assets\n",
            "INFO:tensorflow:Assets written to: /content/model_exp/model_2/assets\n",
            "INFO:tensorflow:Assets written to: /content/model_exp/model_2/assets\n",
            "INFO:tensorflow:Assets written to: /content/model_exp/model_2/assets\n",
            "INFO:tensorflow:Assets written to: /content/model_exp/model_2/assets\n",
            "INFO:tensorflow:Assets written to: /content/model_exp/model_2/assets\n",
            "INFO:tensorflow:Assets written to: /content/model_exp/model_2/assets\n",
            "INFO:tensorflow:Assets written to: /content/model_exp/model_2/assets\n",
            "INFO:tensorflow:Assets written to: /content/model_exp/model_2/assets\n",
            "INFO:tensorflow:Assets written to: /content/model_exp/model_2/assets\n"
          ],
          "name": "stdout"
        }
      ]
    },
    {
      "cell_type": "code",
      "metadata": {
        "id": "wGEotUHQ9UDh"
      },
      "source": [
        "new_model_2 = tf.keras.models.load_model(\"/content/model_exp/model_2\")\n"
      ],
      "execution_count": null,
      "outputs": []
    },
    {
      "cell_type": "code",
      "metadata": {
        "colab": {
          "base_uri": "https://localhost:8080/"
        },
        "id": "GWoaw3me9w-w",
        "outputId": "516bd758-ab92-4c7f-eb7b-60acc97f8606"
      },
      "source": [
        "new_model_2.evaluate(X_test, y_test)"
      ],
      "execution_count": null,
      "outputs": [
        {
          "output_type": "stream",
          "text": [
            "18/18 [==============================] - 0s 2ms/step - loss: 596.5988 - mae: 596.5988\n"
          ],
          "name": "stdout"
        },
        {
          "output_type": "execute_result",
          "data": {
            "text/plain": [
              "[596.5987548828125, 596.5987548828125]"
            ]
          },
          "metadata": {
            "tags": []
          },
          "execution_count": 74
        }
      ]
    },
    {
      "cell_type": "code",
      "metadata": {
        "id": "TpUDxVcx99iT"
      },
      "source": [
        "model_2_preds = make_preds(new_model_2, X_test)\n"
      ],
      "execution_count": null,
      "outputs": []
    },
    {
      "cell_type": "code",
      "metadata": {
        "id": "kjYUGQRk9_Qg"
      },
      "source": [
        "model_2_results = time_series_evaluate(y_test, model_2_preds)\n"
      ],
      "execution_count": null,
      "outputs": []
    },
    {
      "cell_type": "code",
      "metadata": {
        "colab": {
          "base_uri": "https://localhost:8080/"
        },
        "id": "_twqkBGc-C6h",
        "outputId": "45a573f4-3397-4b6e-f924-842032867589"
      },
      "source": [
        "model_2_results, model_1_results"
      ],
      "execution_count": null,
      "outputs": [
        {
          "output_type": "execute_result",
          "data": {
            "text/plain": [
              "({'MAE': 596.5987,\n",
              "  'MAPE': 2.691969,\n",
              "  'MASE': 1.0428604,\n",
              "  'MSE': 1246080.2,\n",
              "  'RMSE': 1116.2797},\n",
              " {'MAE': 563.9283,\n",
              "  'MAPE': 2.5159616,\n",
              "  'MASE': 0.9906658,\n",
              "  'MSE': 1155212.4,\n",
              "  'RMSE': 1074.8081})"
            ]
          },
          "metadata": {
            "tags": []
          },
          "execution_count": 77
        }
      ]
    },
    {
      "cell_type": "code",
      "metadata": {
        "colab": {
          "base_uri": "https://localhost:8080/",
          "height": 442
        },
        "id": "8Li7JRS2-FDh",
        "outputId": "7e2d75fc-9936-4ebe-e292-6d4ab99153b9"
      },
      "source": [
        "offset = 300\n",
        "\n",
        "plt.figure(figsize = (10,7))\n",
        "\n",
        "time_check = timesteps[split:]\n",
        "\n",
        "plot_time_series(timesteps[-len(X_test):], tf.squeeze(y_test), start = offset, label = \"test data\")\n",
        "plot_time_series(timesteps[-len(X_test):], model_2_preds, start = offset, label = \"predicted data model 2\", format = \"-\")"
      ],
      "execution_count": null,
      "outputs": [
        {
          "output_type": "display_data",
          "data": {
            "image/png": "[encoded data removed]",
            "text/plain": [
              "<Figure size 720x504 with 1 Axes>"
            ]
          },
          "metadata": {
            "tags": [],
            "needs_background": "light"
          }
        }
      ]
    },
    {
      "cell_type": "markdown",
      "metadata": {
        "id": "xJDTO0iNJPl3"
      },
      "source": [
        "#Model 3: \n",
        "* Window: 30\n",
        "* Horizon: 7"
      ]
    },
    {
      "cell_type": "code",
      "metadata": {
        "id": "JooiWWxUJX9g"
      },
      "source": [
        "HORIZON = 7\n",
        "WINDOW = 30"
      ],
      "execution_count": null,
      "outputs": []
    },
    {
      "cell_type": "code",
      "metadata": {
        "id": "9OahInLJJ76B"
      },
      "source": [
        "big_windows, big_labels = make_windows(price, window_size = WINDOW, horizon=HORIZON)"
      ],
      "execution_count": null,
      "outputs": []
    },
    {
      "cell_type": "code",
      "metadata": {
        "colab": {
          "base_uri": "https://localhost:8080/"
        },
        "id": "bQVL9ovHJ9gf",
        "outputId": "6639e819-089a-42cf-baa5-d1b3a729bc61"
      },
      "source": [
        "big_windows.shape"
      ],
      "execution_count": null,
      "outputs": [
        {
          "output_type": "execute_result",
          "data": {
            "text/plain": [
              "(2751, 36)"
            ]
          },
          "metadata": {
            "tags": []
          },
          "execution_count": 81
        }
      ]
    },
    {
      "cell_type": "code",
      "metadata": {
        "id": "o0bHG8qSJ_YP"
      },
      "source": [
        "split = int(len(big_windows) * (0.8))\n",
        "X_train = big_windows[:split]\n",
        "y_train = big_labels[:split]\n",
        "X_test = big_windows[split:]\n",
        "y_test = big_labels[split:]"
      ],
      "execution_count": null,
      "outputs": []
    },
    {
      "cell_type": "code",
      "metadata": {
        "colab": {
          "base_uri": "https://localhost:8080/"
        },
        "id": "6_TabQCnKGuA",
        "outputId": "da905cfb-c4e9-463e-c2cb-b753beed02ae"
      },
      "source": [
        "X_train.shape, X_test.shape"
      ],
      "execution_count": null,
      "outputs": [
        {
          "output_type": "execute_result",
          "data": {
            "text/plain": [
              "((2200, 36), (551, 36))"
            ]
          },
          "metadata": {
            "tags": []
          },
          "execution_count": 83
        }
      ]
    },
    {
      "cell_type": "code",
      "metadata": {
        "id": "Nt8TaKWnKbHv"
      },
      "source": [
        "tf.random.set_seed(42)"
      ],
      "execution_count": null,
      "outputs": []
    },
    {
      "cell_type": "code",
      "metadata": {
        "id": "x6iYQCh3KdPf"
      },
      "source": [
        "model_3 = tf.keras.Sequential([\n",
        "  layers.Dense(1024, activation = \"relu\"),\n",
        "  layers.Dense(512, activation = \"relu\"),\n",
        "\n",
        "  layers.Dense(HORIZON, activation = \"linear\")\n",
        "], name = \"model_3\")\n",
        "\n",
        "model_3.compile(loss = \"mae\",\n",
        "              optimizer = \"Adam\",\n",
        "              metrics = [\"mae\"])"
      ],
      "execution_count": null,
      "outputs": []
    },
    {
      "cell_type": "code",
      "metadata": {
        "colab": {
          "base_uri": "https://localhost:8080/"
        },
        "id": "aslJfbBdKk0P",
        "outputId": "948756d8-2d75-48ba-e510-374c8710c172"
      },
      "source": [
        "history_3 = model_3.fit(x = X_train, y = y_train, epochs = 100, validation_data = (X_test, y_test), batch_size=128,\n",
        "                        callbacks = [make_model_checkpoint(\"model_3\")], verbose = 0)"
      ],
      "execution_count": null,
      "outputs": [
        {
          "output_type": "stream",
          "text": [
            "INFO:tensorflow:Assets written to: /content/model_exp/model_3/assets\n",
            "INFO:tensorflow:Assets written to: /content/model_exp/model_3/assets\n",
            "INFO:tensorflow:Assets written to: /content/model_exp/model_3/assets\n",
            "INFO:tensorflow:Assets written to: /content/model_exp/model_3/assets\n",
            "INFO:tensorflow:Assets written to: /content/model_exp/model_3/assets\n",
            "INFO:tensorflow:Assets written to: /content/model_exp/model_3/assets\n",
            "INFO:tensorflow:Assets written to: /content/model_exp/model_3/assets\n",
            "INFO:tensorflow:Assets written to: /content/model_exp/model_3/assets\n",
            "INFO:tensorflow:Assets written to: /content/model_exp/model_3/assets\n",
            "INFO:tensorflow:Assets written to: /content/model_exp/model_3/assets\n",
            "INFO:tensorflow:Assets written to: /content/model_exp/model_3/assets\n",
            "INFO:tensorflow:Assets written to: /content/model_exp/model_3/assets\n",
            "INFO:tensorflow:Assets written to: /content/model_exp/model_3/assets\n",
            "INFO:tensorflow:Assets written to: /content/model_exp/model_3/assets\n",
            "INFO:tensorflow:Assets written to: /content/model_exp/model_3/assets\n",
            "INFO:tensorflow:Assets written to: /content/model_exp/model_3/assets\n",
            "INFO:tensorflow:Assets written to: /content/model_exp/model_3/assets\n",
            "INFO:tensorflow:Assets written to: /content/model_exp/model_3/assets\n",
            "INFO:tensorflow:Assets written to: /content/model_exp/model_3/assets\n"
          ],
          "name": "stdout"
        }
      ]
    },
    {
      "cell_type": "code",
      "metadata": {
        "id": "Q4mZpCfEKsRf"
      },
      "source": [
        "new_model_3 = tf.keras.models.load_model(\"/content/model_exp/model_3\")\n"
      ],
      "execution_count": null,
      "outputs": []
    },
    {
      "cell_type": "code",
      "metadata": {
        "colab": {
          "base_uri": "https://localhost:8080/"
        },
        "id": "hgZpNaooKxak",
        "outputId": "db3a6863-8023-4725-c9c0-771852bd9ba2"
      },
      "source": [
        "new_model_3.evaluate(X_test, y_test)\n"
      ],
      "execution_count": null,
      "outputs": [
        {
          "output_type": "stream",
          "text": [
            "18/18 [==============================] - 0s 13ms/step - loss: 600.3592 - mae: 600.3592\n"
          ],
          "name": "stdout"
        },
        {
          "output_type": "execute_result",
          "data": {
            "text/plain": [
              "[600.3591918945312, 600.3591918945312]"
            ]
          },
          "metadata": {
            "tags": []
          },
          "execution_count": 88
        }
      ]
    },
    {
      "cell_type": "code",
      "metadata": {
        "id": "KYI4ZTHgK1lP"
      },
      "source": [
        "# model_3_preds = make_preds(new_model_3, X_test)"
      ],
      "execution_count": null,
      "outputs": []
    },
    {
      "cell_type": "code",
      "metadata": {
        "id": "uINzD1COjtre"
      },
      "source": [
        "# model_3_preds = tf.cast(model_3_preds, tf.float64)"
      ],
      "execution_count": null,
      "outputs": []
    },
    {
      "cell_type": "code",
      "metadata": {
        "id": "gMfvsou4jdQs"
      },
      "source": [
        "# y_test.dtype"
      ],
      "execution_count": null,
      "outputs": []
    },
    {
      "cell_type": "code",
      "metadata": {
        "id": "HPxCdZsUNcrh"
      },
      "source": [
        "# def time_series_evaluate(y_true, y_pred, horizon = 1):\n",
        "\n",
        "#   y_true = tf.cast(y_true, dtype = tf.float32)\n",
        "#   y_pred = tf.cast(y_pred, dtype = tf.float32)\n",
        "\n",
        "\n",
        "#   mae = tf.reduce_mean(tf.abs(y_true - y_pred))\n",
        "\n",
        "#   mae_naive_no_season = tf.reduce_mean(tf.abs(y_true[1:] - y_true[:-1])) # the mae for the naive model\n",
        "\n",
        "#   mase = mae / mae_naive_no_season\n",
        "\n",
        "#   mse = tf.keras.metrics.mean_squared_error(y_true, y_pred)\n",
        "\n",
        "#   rmse = tf.sqrt(mse)\n",
        "\n",
        "#   mape = tf.keras.metrics.mean_absolute_percentage_error(y_true, y_pred)\n",
        "\n",
        "\n",
        "#   if mae.ndim > 0:\n",
        "#     mae = tf.reduce_mean(mae)\n",
        "\n",
        "#   return {\n",
        "#       \"MAE\": mae.numpy(),\n",
        "#       \"MSE\": mse.numpy(),\n",
        "#       \"RMSE\": rmse.numpy(),\n",
        "#       \"MAPE\": mape.numpy(),\n",
        "#       \"MASE\": mase.numpy()\n",
        "#   }"
      ],
      "execution_count": null,
      "outputs": []
    },
    {
      "cell_type": "code",
      "metadata": {
        "id": "TT_Xhye4K5Zg"
      },
      "source": [
        "# model_3_results = time_series_evaluate(tf.squeeze(y_test), model_3_preds)"
      ],
      "execution_count": null,
      "outputs": []
    },
    {
      "cell_type": "markdown",
      "metadata": {
        "id": "_jKhDAJoNiu1"
      },
      "source": [
        "# Model 4: Conv1D\n"
      ]
    },
    {
      "cell_type": "code",
      "metadata": {
        "id": "NArQp3w5fXhB"
      },
      "source": [
        "HORIZON = 1\n",
        "WINDOW = 7"
      ],
      "execution_count": null,
      "outputs": []
    },
    {
      "cell_type": "code",
      "metadata": {
        "id": "ydw7tdM6fYYX"
      },
      "source": [
        "big_windows, big_labels = make_windows(price, window_size = WINDOW, horizon=HORIZON)"
      ],
      "execution_count": null,
      "outputs": []
    },
    {
      "cell_type": "code",
      "metadata": {
        "id": "wz2sVXwufYkC"
      },
      "source": [
        "split = int(len(big_windows) * (0.8))\n",
        "X_train = big_windows[:split]\n",
        "y_train = big_labels[:split]\n",
        "X_test = big_windows[split:]\n",
        "y_test = big_labels[split:]"
      ],
      "execution_count": null,
      "outputs": []
    },
    {
      "cell_type": "code",
      "metadata": {
        "colab": {
          "base_uri": "https://localhost:8080/"
        },
        "id": "Mg7qJGcUfYy0",
        "outputId": "fe9bdcde-990d-4805-e28e-6ccdd63b63c1"
      },
      "source": [
        "len(X_train), len(X_test), split"
      ],
      "execution_count": null,
      "outputs": [
        {
          "output_type": "execute_result",
          "data": {
            "text/plain": [
              "(2224, 556, 2224)"
            ]
          },
          "metadata": {
            "tags": []
          },
          "execution_count": 97
        }
      ]
    },
    {
      "cell_type": "code",
      "metadata": {
        "colab": {
          "base_uri": "https://localhost:8080/"
        },
        "id": "7keTAgzMfZvX",
        "outputId": "5c9322c3-fe04-473f-a65e-4e4fd0c19c4d"
      },
      "source": [
        "X_train.shape"
      ],
      "execution_count": null,
      "outputs": [
        {
          "output_type": "execute_result",
          "data": {
            "text/plain": [
              "(2224, 7)"
            ]
          },
          "metadata": {
            "tags": []
          },
          "execution_count": 98
        }
      ]
    },
    {
      "cell_type": "code",
      "metadata": {
        "colab": {
          "base_uri": "https://localhost:8080/"
        },
        "id": "8mb1prIjgunG",
        "outputId": "c722c752-0b6c-47fe-c015-c984cb2168a1"
      },
      "source": [
        "X_train[0]"
      ],
      "execution_count": null,
      "outputs": [
        {
          "output_type": "execute_result",
          "data": {
            "text/plain": [
              "array([123.65499, 125.455  , 108.58483, 118.67466, 121.33866, 120.65533,\n",
              "       121.795  ])"
            ]
          },
          "metadata": {
            "tags": []
          },
          "execution_count": 99
        }
      ]
    },
    {
      "cell_type": "code",
      "metadata": {
        "id": "7iNaLdl9g61C"
      },
      "source": [
        "x = tf.constant(X_train[0])"
      ],
      "execution_count": null,
      "outputs": []
    },
    {
      "cell_type": "code",
      "metadata": {
        "id": "isJfzhjTg96V"
      },
      "source": [
        "expand_dims_layer = layers.Lambda(lambda x: tf.expand_dims(x, axis = 1))"
      ],
      "execution_count": null,
      "outputs": []
    },
    {
      "cell_type": "code",
      "metadata": {
        "colab": {
          "base_uri": "https://localhost:8080/"
        },
        "id": "IFt50L4ghPmJ",
        "outputId": "738af7d6-cb3f-4085-c1bd-74ea58169ae9"
      },
      "source": [
        "expand_dims_layer(X_train)"
      ],
      "execution_count": null,
      "outputs": [
        {
          "output_type": "execute_result",
          "data": {
            "text/plain": [
              "<tf.Tensor: shape=(2224, 1, 7), dtype=float32, numpy=\n",
              "array([[[ 123.65499,  125.455  ,  108.58483, ...,  121.33866,\n",
              "          120.65533,  121.795  ]],\n",
              "\n",
              "       [[ 125.455  ,  108.58483,  118.67466, ...,  120.65533,\n",
              "          121.795  ,  123.033  ]],\n",
              "\n",
              "       [[ 108.58483,  118.67466,  121.33866, ...,  121.795  ,\n",
              "          123.033  ,  124.049  ]],\n",
              "\n",
              "       ...,\n",
              "\n",
              "       [[9225.995  , 9131.41   , 9197.633  , ..., 9202.415  ,\n",
              "         9369.628  , 9326.6    ]],\n",
              "\n",
              "       [[9131.41   , 9197.633  , 9290.896  , ..., 9369.628  ,\n",
              "         9326.6    , 9335.752  ]],\n",
              "\n",
              "       [[9197.633  , 9290.896  , 9202.415  , ..., 9326.6    ,\n",
              "         9335.752  , 9226.485  ]]], dtype=float32)>"
            ]
          },
          "metadata": {
            "tags": []
          },
          "execution_count": 102
        }
      ]
    },
    {
      "cell_type": "code",
      "metadata": {
        "id": "wDGu8ZN7hTnL"
      },
      "source": [
        "# make model\n",
        "\n",
        "model_4 = tf.keras.Sequential([\n",
        "  layers.Lambda(lambda x: tf.expand_dims(x, axis = 1)),\n",
        "  layers.Conv1D(250, 5, padding = 'causal', activation=\"relu\"),\n",
        "  layers.Dense(1)\n",
        "], name = \"Conv1D\")"
      ],
      "execution_count": null,
      "outputs": []
    },
    {
      "cell_type": "code",
      "metadata": {
        "id": "Jcf8UktJjJkd"
      },
      "source": [
        "model_4.compile(loss = \"mae\",\n",
        "              optimizer = \"Adam\",\n",
        "              metrics = [\"mae\"])"
      ],
      "execution_count": null,
      "outputs": []
    },
    {
      "cell_type": "code",
      "metadata": {
        "colab": {
          "base_uri": "https://localhost:8080/"
        },
        "id": "xR8CCe_gjOnC",
        "outputId": "751a0051-bf65-4b7d-a95d-c6726ce993fe"
      },
      "source": [
        "history_4 = model_4.fit(x = X_train, y = y_train, epochs = 100, validation_data = (X_test, y_test), batch_size=128,\n",
        "                        callbacks = [make_model_checkpoint(\"model_4\")], verbose = 0)"
      ],
      "execution_count": null,
      "outputs": [
        {
          "output_type": "stream",
          "text": [
            "INFO:tensorflow:Assets written to: /content/model_exp/model_4/assets\n",
            "INFO:tensorflow:Assets written to: /content/model_exp/model_4/assets\n",
            "INFO:tensorflow:Assets written to: /content/model_exp/model_4/assets\n",
            "INFO:tensorflow:Assets written to: /content/model_exp/model_4/assets\n",
            "INFO:tensorflow:Assets written to: /content/model_exp/model_4/assets\n",
            "INFO:tensorflow:Assets written to: /content/model_exp/model_4/assets\n",
            "INFO:tensorflow:Assets written to: /content/model_exp/model_4/assets\n",
            "INFO:tensorflow:Assets written to: /content/model_exp/model_4/assets\n",
            "INFO:tensorflow:Assets written to: /content/model_exp/model_4/assets\n",
            "INFO:tensorflow:Assets written to: /content/model_exp/model_4/assets\n",
            "INFO:tensorflow:Assets written to: /content/model_exp/model_4/assets\n",
            "INFO:tensorflow:Assets written to: /content/model_exp/model_4/assets\n",
            "INFO:tensorflow:Assets written to: /content/model_exp/model_4/assets\n",
            "INFO:tensorflow:Assets written to: /content/model_exp/model_4/assets\n",
            "INFO:tensorflow:Assets written to: /content/model_exp/model_4/assets\n",
            "INFO:tensorflow:Assets written to: /content/model_exp/model_4/assets\n",
            "INFO:tensorflow:Assets written to: /content/model_exp/model_4/assets\n",
            "INFO:tensorflow:Assets written to: /content/model_exp/model_4/assets\n",
            "INFO:tensorflow:Assets written to: /content/model_exp/model_4/assets\n",
            "INFO:tensorflow:Assets written to: /content/model_exp/model_4/assets\n",
            "INFO:tensorflow:Assets written to: /content/model_exp/model_4/assets\n",
            "INFO:tensorflow:Assets written to: /content/model_exp/model_4/assets\n",
            "INFO:tensorflow:Assets written to: /content/model_exp/model_4/assets\n",
            "INFO:tensorflow:Assets written to: /content/model_exp/model_4/assets\n",
            "INFO:tensorflow:Assets written to: /content/model_exp/model_4/assets\n",
            "INFO:tensorflow:Assets written to: /content/model_exp/model_4/assets\n",
            "INFO:tensorflow:Assets written to: /content/model_exp/model_4/assets\n",
            "INFO:tensorflow:Assets written to: /content/model_exp/model_4/assets\n",
            "INFO:tensorflow:Assets written to: /content/model_exp/model_4/assets\n",
            "INFO:tensorflow:Assets written to: /content/model_exp/model_4/assets\n",
            "INFO:tensorflow:Assets written to: /content/model_exp/model_4/assets\n",
            "INFO:tensorflow:Assets written to: /content/model_exp/model_4/assets\n",
            "INFO:tensorflow:Assets written to: /content/model_exp/model_4/assets\n",
            "INFO:tensorflow:Assets written to: /content/model_exp/model_4/assets\n"
          ],
          "name": "stdout"
        }
      ]
    },
    {
      "cell_type": "code",
      "metadata": {
        "id": "3KXe8Tfcjb70"
      },
      "source": [
        "new_model_4 = tf.keras.models.load_model(\"/content/model_exp/model_4\")"
      ],
      "execution_count": null,
      "outputs": []
    },
    {
      "cell_type": "code",
      "metadata": {
        "colab": {
          "base_uri": "https://localhost:8080/"
        },
        "id": "ubxEs0iVjhEH",
        "outputId": "ed159f7d-84c8-4afd-93ea-355c4d7fbce5"
      },
      "source": [
        "new_model_4.evaluate(X_test, y_test)\n"
      ],
      "execution_count": null,
      "outputs": [
        {
          "output_type": "stream",
          "text": [
            "18/18 [==============================] - 0s 4ms/step - loss: 566.2100 - mae: 566.2100\n"
          ],
          "name": "stdout"
        },
        {
          "output_type": "execute_result",
          "data": {
            "text/plain": [
              "[566.2100219726562, 566.2100219726562]"
            ]
          },
          "metadata": {
            "tags": []
          },
          "execution_count": 107
        }
      ]
    },
    {
      "cell_type": "code",
      "metadata": {
        "colab": {
          "base_uri": "https://localhost:8080/"
        },
        "id": "3c22mJvoj3Dq",
        "outputId": "bcf9e971-111d-4a13-b43a-02192902de03"
      },
      "source": [
        "model_1_results"
      ],
      "execution_count": null,
      "outputs": [
        {
          "output_type": "execute_result",
          "data": {
            "text/plain": [
              "{'MAE': 563.9283,\n",
              " 'MAPE': 2.5159616,\n",
              " 'MASE': 0.9906658,\n",
              " 'MSE': 1155212.4,\n",
              " 'RMSE': 1074.8081}"
            ]
          },
          "metadata": {
            "tags": []
          },
          "execution_count": 108
        }
      ]
    },
    {
      "cell_type": "code",
      "metadata": {
        "colab": {
          "base_uri": "https://localhost:8080/",
          "height": 442
        },
        "id": "a6WUyEDfj3tn",
        "outputId": "507f653c-949b-42f9-c93c-39b0b592cd33"
      },
      "source": [
        "model_4_preds = make_preds(new_model_4, X_test)\n",
        "model_4_results = time_series_evaluate(y_test, model_4_preds)\n",
        "offset = 300\n",
        "\n",
        "plt.figure(figsize = (10,7))\n",
        "\n",
        "time_check = timesteps[split:]\n",
        "\n",
        "plot_time_series(timesteps[-len(X_test):], tf.squeeze(y_test), start = offset, label = \"test data\")\n",
        "plot_time_series(timesteps[-len(X_test):], model_4_preds, start = offset, label = \"predicted data model 4\", format = \"-\")"
      ],
      "execution_count": null,
      "outputs": [
        {
          "output_type": "display_data",
          "data": {
            "image/png": "[encoded data removed]",
            "text/plain": [
              "<Figure size 720x504 with 1 Axes>"
            ]
          },
          "metadata": {
            "tags": [],
            "needs_background": "light"
          }
        }
      ]
    },
    {
      "cell_type": "code",
      "metadata": {
        "id": "gan04e1nkjGS"
      },
      "source": [
        ""
      ],
      "execution_count": null,
      "outputs": []
    },
    {
      "cell_type": "code",
      "metadata": {
        "colab": {
          "base_uri": "https://localhost:8080/"
        },
        "id": "H3EKpqISkU13",
        "outputId": "44dc815c-f2f9-4e67-eee9-f9acad48f9bc"
      },
      "source": [
        "print(\"model_4: \", model_4_results,\"\\n\", \"model_1: \", model_1_results)"
      ],
      "execution_count": null,
      "outputs": [
        {
          "output_type": "stream",
          "text": [
            "model_4:  {'MAE': 566.21, 'MSE': 1166701.8, 'RMSE': 1080.1396, 'MAPE': 2.5273676, 'MASE': 0.9946742} \n",
            " model_1:  {'MAE': 563.9283, 'MSE': 1155212.4, 'RMSE': 1074.8081, 'MAPE': 2.5159616, 'MASE': 0.9906658}\n"
          ],
          "name": "stdout"
        }
      ]
    },
    {
      "cell_type": "markdown",
      "metadata": {
        "id": "903zf3Pek0PE"
      },
      "source": [
        "#Model 5: Lstm Model"
      ]
    },
    {
      "cell_type": "code",
      "metadata": {
        "colab": {
          "base_uri": "https://localhost:8080/"
        },
        "id": "OcJwex2Bk2yV",
        "outputId": "2d94bb5a-55bb-47ee-cc7d-26f9d4d0ec75"
      },
      "source": [
        "model_5 = tf.keras.Sequential([\n",
        "  layers.Lambda(lambda x: tf.expand_dims(x, axis = 1)),\n",
        "  layers.LSTM(128, activation = \"relu\"),\n",
        "  layers.Dense(32, activation = \"relu\"),\n",
        "  layers.Dense(1)\n",
        "], name = \"LSTM\")"
      ],
      "execution_count": null,
      "outputs": [
        {
          "output_type": "stream",
          "text": [
            "WARNING:tensorflow:Layer lstm will not use cuDNN kernels since it doesn't meet the criteria. It will use a generic GPU kernel as fallback when running on GPU.\n"
          ],
          "name": "stdout"
        }
      ]
    },
    {
      "cell_type": "code",
      "metadata": {
        "id": "HFM3kLIflWUE"
      },
      "source": [
        "model_5.compile(loss = \"mae\",\n",
        "              optimizer = \"Adam\",\n",
        "              metrics = [\"mae\"])"
      ],
      "execution_count": null,
      "outputs": []
    },
    {
      "cell_type": "code",
      "metadata": {
        "colab": {
          "base_uri": "https://localhost:8080/"
        },
        "id": "MGEpP1mRlVLA",
        "outputId": "2b26b786-2c07-4f0f-e53b-2e660483e7d5"
      },
      "source": [
        "history_5 = model_5.fit(x = X_train, y = y_train, epochs = 100, validation_data = (X_test, y_test), batch_size=128,\n",
        "                        callbacks = [make_model_checkpoint(\"model_5\")], verbose = 0)"
      ],
      "execution_count": null,
      "outputs": [
        {
          "output_type": "stream",
          "text": [
            "INFO:tensorflow:Assets written to: /content/model_exp/model_5/assets\n",
            "INFO:tensorflow:Assets written to: /content/model_exp/model_5/assets\n",
            "INFO:tensorflow:Assets written to: /content/model_exp/model_5/assets\n",
            "INFO:tensorflow:Assets written to: /content/model_exp/model_5/assets\n",
            "INFO:tensorflow:Assets written to: /content/model_exp/model_5/assets\n",
            "INFO:tensorflow:Assets written to: /content/model_exp/model_5/assets\n",
            "INFO:tensorflow:Assets written to: /content/model_exp/model_5/assets\n",
            "INFO:tensorflow:Assets written to: /content/model_exp/model_5/assets\n",
            "INFO:tensorflow:Assets written to: /content/model_exp/model_5/assets\n",
            "INFO:tensorflow:Assets written to: /content/model_exp/model_5/assets\n",
            "INFO:tensorflow:Assets written to: /content/model_exp/model_5/assets\n",
            "INFO:tensorflow:Assets written to: /content/model_exp/model_5/assets\n",
            "INFO:tensorflow:Assets written to: /content/model_exp/model_5/assets\n",
            "INFO:tensorflow:Assets written to: /content/model_exp/model_5/assets\n",
            "INFO:tensorflow:Assets written to: /content/model_exp/model_5/assets\n",
            "INFO:tensorflow:Assets written to: /content/model_exp/model_5/assets\n",
            "INFO:tensorflow:Assets written to: /content/model_exp/model_5/assets\n",
            "INFO:tensorflow:Assets written to: /content/model_exp/model_5/assets\n",
            "INFO:tensorflow:Assets written to: /content/model_exp/model_5/assets\n",
            "INFO:tensorflow:Assets written to: /content/model_exp/model_5/assets\n",
            "INFO:tensorflow:Assets written to: /content/model_exp/model_5/assets\n",
            "INFO:tensorflow:Assets written to: /content/model_exp/model_5/assets\n",
            "INFO:tensorflow:Assets written to: /content/model_exp/model_5/assets\n",
            "INFO:tensorflow:Assets written to: /content/model_exp/model_5/assets\n",
            "INFO:tensorflow:Assets written to: /content/model_exp/model_5/assets\n",
            "INFO:tensorflow:Assets written to: /content/model_exp/model_5/assets\n",
            "INFO:tensorflow:Assets written to: /content/model_exp/model_5/assets\n",
            "INFO:tensorflow:Assets written to: /content/model_exp/model_5/assets\n",
            "INFO:tensorflow:Assets written to: /content/model_exp/model_5/assets\n",
            "INFO:tensorflow:Assets written to: /content/model_exp/model_5/assets\n",
            "INFO:tensorflow:Assets written to: /content/model_exp/model_5/assets\n",
            "INFO:tensorflow:Assets written to: /content/model_exp/model_5/assets\n",
            "INFO:tensorflow:Assets written to: /content/model_exp/model_5/assets\n",
            "INFO:tensorflow:Assets written to: /content/model_exp/model_5/assets\n",
            "INFO:tensorflow:Assets written to: /content/model_exp/model_5/assets\n",
            "INFO:tensorflow:Assets written to: /content/model_exp/model_5/assets\n",
            "INFO:tensorflow:Assets written to: /content/model_exp/model_5/assets\n",
            "INFO:tensorflow:Assets written to: /content/model_exp/model_5/assets\n",
            "INFO:tensorflow:Assets written to: /content/model_exp/model_5/assets\n",
            "INFO:tensorflow:Assets written to: /content/model_exp/model_5/assets\n",
            "INFO:tensorflow:Assets written to: /content/model_exp/model_5/assets\n",
            "INFO:tensorflow:Assets written to: /content/model_exp/model_5/assets\n",
            "INFO:tensorflow:Assets written to: /content/model_exp/model_5/assets\n",
            "INFO:tensorflow:Assets written to: /content/model_exp/model_5/assets\n",
            "INFO:tensorflow:Assets written to: /content/model_exp/model_5/assets\n",
            "INFO:tensorflow:Assets written to: /content/model_exp/model_5/assets\n"
          ],
          "name": "stdout"
        }
      ]
    },
    {
      "cell_type": "code",
      "metadata": {
        "colab": {
          "base_uri": "https://localhost:8080/"
        },
        "id": "2Ng81RoDld1W",
        "outputId": "d67cffef-b51e-450a-bd10-c663a04b5fde"
      },
      "source": [
        "new_model_5 = tf.keras.models.load_model(\"/content/model_exp/model_5\")"
      ],
      "execution_count": null,
      "outputs": [
        {
          "output_type": "stream",
          "text": [
            "WARNING:tensorflow:Layer lstm will not use cuDNN kernels since it doesn't meet the criteria. It will use a generic GPU kernel as fallback when running on GPU.\n"
          ],
          "name": "stdout"
        }
      ]
    },
    {
      "cell_type": "code",
      "metadata": {
        "colab": {
          "base_uri": "https://localhost:8080/"
        },
        "id": "aN-vnQFNljmG",
        "outputId": "0c8f07e5-e582-4c79-a301-9287b4e2e500"
      },
      "source": [
        "new_model_5.evaluate(X_test, y_test)\n"
      ],
      "execution_count": null,
      "outputs": [
        {
          "output_type": "stream",
          "text": [
            "18/18 [==============================] - 0s 2ms/step - loss: 573.1609 - mae: 573.1609\n"
          ],
          "name": "stdout"
        },
        {
          "output_type": "execute_result",
          "data": {
            "text/plain": [
              "[573.1609497070312, 573.1609497070312]"
            ]
          },
          "metadata": {
            "tags": []
          },
          "execution_count": 115
        }
      ]
    },
    {
      "cell_type": "code",
      "metadata": {
        "id": "khMRyxVIlqta"
      },
      "source": [
        "model_5_preds = make_preds(new_model_5, X_test)\n",
        "model_5_results = time_series_evaluate(y_test, model_5_preds)"
      ],
      "execution_count": null,
      "outputs": []
    },
    {
      "cell_type": "code",
      "metadata": {
        "colab": {
          "base_uri": "https://localhost:8080/"
        },
        "id": "OYuCupzclxpg",
        "outputId": "3008e1d8-5af7-497a-cb06-2805ab83be4e"
      },
      "source": [
        "print(\"model_5: \", model_5_results,\"\\n\", \"model_1: \", model_1_results)\n"
      ],
      "execution_count": null,
      "outputs": [
        {
          "output_type": "stream",
          "text": [
            "model_5:  {'MAE': 573.161, 'MSE': 1198692.9, 'RMSE': 1094.8484, 'MAPE': 2.5753334, 'MASE': 1.0068852} \n",
            " model_1:  {'MAE': 563.9283, 'MSE': 1155212.4, 'RMSE': 1074.8081, 'MAPE': 2.5159616, 'MASE': 0.9906658}\n"
          ],
          "name": "stdout"
        }
      ]
    },
    {
      "cell_type": "code",
      "metadata": {
        "id": "WQ8OMA-1mEhm"
      },
      "source": [
        ""
      ],
      "execution_count": null,
      "outputs": []
    },
    {
      "cell_type": "markdown",
      "metadata": {
        "id": "0t2V0haIpofv"
      },
      "source": [
        "# Multivariate dataset"
      ]
    },
    {
      "cell_type": "code",
      "metadata": {
        "colab": {
          "base_uri": "https://localhost:8080/",
          "height": 238
        },
        "id": "TqIcJkdiwVQS",
        "outputId": "537aa959-2a03-4c2f-b02f-b6055adfe50f"
      },
      "source": [
        "btc_df.head()"
      ],
      "execution_count": null,
      "outputs": [
        {
          "output_type": "execute_result",
          "data": {
            "text/html": [
              "<div>\n",
              "<style scoped>\n",
              "    .dataframe tbody tr th:only-of-type {\n",
              "        vertical-align: middle;\n",
              "    }\n",
              "\n",
              "    .dataframe tbody tr th {\n",
              "        vertical-align: top;\n",
              "    }\n",
              "\n",
              "    .dataframe thead th {\n",
              "        text-align: right;\n",
              "    }\n",
              "</style>\n",
              "<table border=\"1\" class=\"dataframe\">\n",
              "  <thead>\n",
              "    <tr style=\"text-align: right;\">\n",
              "      <th></th>\n",
              "      <th>Price</th>\n",
              "    </tr>\n",
              "    <tr>\n",
              "      <th>Date</th>\n",
              "      <th></th>\n",
              "    </tr>\n",
              "  </thead>\n",
              "  <tbody>\n",
              "    <tr>\n",
              "      <th>2013-10-01</th>\n",
              "      <td>123.65499</td>\n",
              "    </tr>\n",
              "    <tr>\n",
              "      <th>2013-10-02</th>\n",
              "      <td>125.45500</td>\n",
              "    </tr>\n",
              "    <tr>\n",
              "      <th>2013-10-03</th>\n",
              "      <td>108.58483</td>\n",
              "    </tr>\n",
              "    <tr>\n",
              "      <th>2013-10-04</th>\n",
              "      <td>118.67466</td>\n",
              "    </tr>\n",
              "    <tr>\n",
              "      <th>2013-10-05</th>\n",
              "      <td>121.33866</td>\n",
              "    </tr>\n",
              "  </tbody>\n",
              "</table>\n",
              "</div>"
            ],
            "text/plain": [
              "                Price\n",
              "Date                 \n",
              "2013-10-01  123.65499\n",
              "2013-10-02  125.45500\n",
              "2013-10-03  108.58483\n",
              "2013-10-04  118.67466\n",
              "2013-10-05  121.33866"
            ]
          },
          "metadata": {
            "tags": []
          },
          "execution_count": 118
        }
      ]
    },
    {
      "cell_type": "code",
      "metadata": {
        "colab": {
          "base_uri": "https://localhost:8080/"
        },
        "id": "Zwmid5wqpqMY",
        "outputId": "25568743-8ec3-48ed-c47a-7e448f069596"
      },
      "source": [
        "block_reward_1 = 50 # 3 jan 2009\n",
        "block_reward_2 = 25 # 8 nov 2012\n",
        "block_reward_3 = 12.5 # 9 jul 2016\n",
        "block_reward_4 = 6.25 # 18 may 2020\n",
        "\n",
        "\n",
        "block_reward_2_datetime = np.datetime64(\"2012-11-28\")\n",
        "block_reward_3_datetime = np.datetime64(\"2016-07-09\")\n",
        "block_reward_4_datetime = np.datetime64(\"2020-05-18\")\n",
        "\n",
        "np.datetime64(\"2013-10-01\") < block_reward_2_datetime\n",
        "\n"
      ],
      "execution_count": null,
      "outputs": [
        {
          "output_type": "execute_result",
          "data": {
            "text/plain": [
              "False"
            ]
          },
          "metadata": {
            "tags": []
          },
          "execution_count": 119
        }
      ]
    },
    {
      "cell_type": "code",
      "metadata": {
        "colab": {
          "base_uri": "https://localhost:8080/"
        },
        "id": "E9m4tWayx5H-",
        "outputId": "fe0b7435-5ed2-4667-c2dc-ed169dd8b54c"
      },
      "source": [
        "block_reward_2_days = (block_reward_3_datetime - btc_df.index[0]).days\n",
        "block_reward_3_days = (block_reward_4_datetime - btc_df.index[0]).days\n",
        "block_reward_2_days, block_reward_3_days"
      ],
      "execution_count": null,
      "outputs": [
        {
          "output_type": "execute_result",
          "data": {
            "text/plain": [
              "(1012, 2421)"
            ]
          },
          "metadata": {
            "tags": []
          },
          "execution_count": 120
        }
      ]
    },
    {
      "cell_type": "code",
      "metadata": {
        "id": "TeKuWveAyNnL"
      },
      "source": [
        "btc_df_block = btc_df.copy()\n",
        "btc_df_block[\"block_reward\"] = 0"
      ],
      "execution_count": null,
      "outputs": []
    },
    {
      "cell_type": "code",
      "metadata": {
        "id": "edIoQ9XTzI7C"
      },
      "source": [
        "btc_df_block.iloc[:block_reward_2_days, -1] = block_reward_2\n",
        "btc_df_block.iloc[block_reward_2_days:block_reward_3_days, -1] = block_reward_3\n",
        "btc_df_block.iloc[block_reward_3_days:, -1] = block_reward_4\n",
        "\n"
      ],
      "execution_count": null,
      "outputs": []
    },
    {
      "cell_type": "code",
      "metadata": {
        "colab": {
          "base_uri": "https://localhost:8080/",
          "height": 455
        },
        "id": "7dejDGmRzvqg",
        "outputId": "5c55c4f4-a256-401a-d965-019850a4873e"
      },
      "source": [
        "btc_df_block"
      ],
      "execution_count": null,
      "outputs": [
        {
          "output_type": "execute_result",
          "data": {
            "text/html": [
              "<div>\n",
              "<style scoped>\n",
              "    .dataframe tbody tr th:only-of-type {\n",
              "        vertical-align: middle;\n",
              "    }\n",
              "\n",
              "    .dataframe tbody tr th {\n",
              "        vertical-align: top;\n",
              "    }\n",
              "\n",
              "    .dataframe thead th {\n",
              "        text-align: right;\n",
              "    }\n",
              "</style>\n",
              "<table border=\"1\" class=\"dataframe\">\n",
              "  <thead>\n",
              "    <tr style=\"text-align: right;\">\n",
              "      <th></th>\n",
              "      <th>Price</th>\n",
              "      <th>block_reward</th>\n",
              "    </tr>\n",
              "    <tr>\n",
              "      <th>Date</th>\n",
              "      <th></th>\n",
              "      <th></th>\n",
              "    </tr>\n",
              "  </thead>\n",
              "  <tbody>\n",
              "    <tr>\n",
              "      <th>2013-10-01</th>\n",
              "      <td>123.654990</td>\n",
              "      <td>25.00</td>\n",
              "    </tr>\n",
              "    <tr>\n",
              "      <th>2013-10-02</th>\n",
              "      <td>125.455000</td>\n",
              "      <td>25.00</td>\n",
              "    </tr>\n",
              "    <tr>\n",
              "      <th>2013-10-03</th>\n",
              "      <td>108.584830</td>\n",
              "      <td>25.00</td>\n",
              "    </tr>\n",
              "    <tr>\n",
              "      <th>2013-10-04</th>\n",
              "      <td>118.674660</td>\n",
              "      <td>25.00</td>\n",
              "    </tr>\n",
              "    <tr>\n",
              "      <th>2013-10-05</th>\n",
              "      <td>121.338660</td>\n",
              "      <td>25.00</td>\n",
              "    </tr>\n",
              "    <tr>\n",
              "      <th>...</th>\n",
              "      <td>...</td>\n",
              "      <td>...</td>\n",
              "    </tr>\n",
              "    <tr>\n",
              "      <th>2021-05-14</th>\n",
              "      <td>49764.132082</td>\n",
              "      <td>6.25</td>\n",
              "    </tr>\n",
              "    <tr>\n",
              "      <th>2021-05-15</th>\n",
              "      <td>50032.693137</td>\n",
              "      <td>6.25</td>\n",
              "    </tr>\n",
              "    <tr>\n",
              "      <th>2021-05-16</th>\n",
              "      <td>47885.625255</td>\n",
              "      <td>6.25</td>\n",
              "    </tr>\n",
              "    <tr>\n",
              "      <th>2021-05-17</th>\n",
              "      <td>45604.615754</td>\n",
              "      <td>6.25</td>\n",
              "    </tr>\n",
              "    <tr>\n",
              "      <th>2021-05-18</th>\n",
              "      <td>43144.471291</td>\n",
              "      <td>6.25</td>\n",
              "    </tr>\n",
              "  </tbody>\n",
              "</table>\n",
              "<p>2787 rows × 2 columns</p>\n",
              "</div>"
            ],
            "text/plain": [
              "                   Price  block_reward\n",
              "Date                                  \n",
              "2013-10-01    123.654990         25.00\n",
              "2013-10-02    125.455000         25.00\n",
              "2013-10-03    108.584830         25.00\n",
              "2013-10-04    118.674660         25.00\n",
              "2013-10-05    121.338660         25.00\n",
              "...                  ...           ...\n",
              "2021-05-14  49764.132082          6.25\n",
              "2021-05-15  50032.693137          6.25\n",
              "2021-05-16  47885.625255          6.25\n",
              "2021-05-17  45604.615754          6.25\n",
              "2021-05-18  43144.471291          6.25\n",
              "\n",
              "[2787 rows x 2 columns]"
            ]
          },
          "metadata": {
            "tags": []
          },
          "execution_count": 123
        }
      ]
    },
    {
      "cell_type": "code",
      "metadata": {
        "id": "2MsX5lLkz3aQ"
      },
      "source": [
        "#plot\n",
        "\n",
        "from sklearn.preprocessing import minmax_scale\n",
        "\n",
        "scaled_price_block_df = pd.DataFrame(minmax_scale(btc_df_block[[\"Price\", \"block_reward\"]]), columns=btc_df_block.columns)"
      ],
      "execution_count": null,
      "outputs": []
    },
    {
      "cell_type": "code",
      "metadata": {
        "colab": {
          "base_uri": "https://localhost:8080/",
          "height": 424
        },
        "id": "PJDgHYR_u4jA",
        "outputId": "0d25d588-ccc8-4cc7-e4b3-a3b0a3b464b1"
      },
      "source": [
        "scaled_price_block_df"
      ],
      "execution_count": null,
      "outputs": [
        {
          "output_type": "execute_result",
          "data": {
            "text/html": [
              "<div>\n",
              "<style scoped>\n",
              "    .dataframe tbody tr th:only-of-type {\n",
              "        vertical-align: middle;\n",
              "    }\n",
              "\n",
              "    .dataframe tbody tr th {\n",
              "        vertical-align: top;\n",
              "    }\n",
              "\n",
              "    .dataframe thead th {\n",
              "        text-align: right;\n",
              "    }\n",
              "</style>\n",
              "<table border=\"1\" class=\"dataframe\">\n",
              "  <thead>\n",
              "    <tr style=\"text-align: right;\">\n",
              "      <th></th>\n",
              "      <th>Price</th>\n",
              "      <th>block_reward</th>\n",
              "    </tr>\n",
              "  </thead>\n",
              "  <tbody>\n",
              "    <tr>\n",
              "      <th>0</th>\n",
              "      <td>0.000238</td>\n",
              "      <td>1.0</td>\n",
              "    </tr>\n",
              "    <tr>\n",
              "      <th>1</th>\n",
              "      <td>0.000267</td>\n",
              "      <td>1.0</td>\n",
              "    </tr>\n",
              "    <tr>\n",
              "      <th>2</th>\n",
              "      <td>0.000000</td>\n",
              "      <td>1.0</td>\n",
              "    </tr>\n",
              "    <tr>\n",
              "      <th>3</th>\n",
              "      <td>0.000160</td>\n",
              "      <td>1.0</td>\n",
              "    </tr>\n",
              "    <tr>\n",
              "      <th>4</th>\n",
              "      <td>0.000202</td>\n",
              "      <td>1.0</td>\n",
              "    </tr>\n",
              "    <tr>\n",
              "      <th>...</th>\n",
              "      <td>...</td>\n",
              "      <td>...</td>\n",
              "    </tr>\n",
              "    <tr>\n",
              "      <th>2782</th>\n",
              "      <td>0.785214</td>\n",
              "      <td>0.0</td>\n",
              "    </tr>\n",
              "    <tr>\n",
              "      <th>2783</th>\n",
              "      <td>0.789461</td>\n",
              "      <td>0.0</td>\n",
              "    </tr>\n",
              "    <tr>\n",
              "      <th>2784</th>\n",
              "      <td>0.755509</td>\n",
              "      <td>0.0</td>\n",
              "    </tr>\n",
              "    <tr>\n",
              "      <th>2785</th>\n",
              "      <td>0.719439</td>\n",
              "      <td>0.0</td>\n",
              "    </tr>\n",
              "    <tr>\n",
              "      <th>2786</th>\n",
              "      <td>0.680536</td>\n",
              "      <td>0.0</td>\n",
              "    </tr>\n",
              "  </tbody>\n",
              "</table>\n",
              "<p>2787 rows × 2 columns</p>\n",
              "</div>"
            ],
            "text/plain": [
              "         Price  block_reward\n",
              "0     0.000238           1.0\n",
              "1     0.000267           1.0\n",
              "2     0.000000           1.0\n",
              "3     0.000160           1.0\n",
              "4     0.000202           1.0\n",
              "...        ...           ...\n",
              "2782  0.785214           0.0\n",
              "2783  0.789461           0.0\n",
              "2784  0.755509           0.0\n",
              "2785  0.719439           0.0\n",
              "2786  0.680536           0.0\n",
              "\n",
              "[2787 rows x 2 columns]"
            ]
          },
          "metadata": {
            "tags": []
          },
          "execution_count": 125
        }
      ]
    },
    {
      "cell_type": "code",
      "metadata": {
        "colab": {
          "base_uri": "https://localhost:8080/",
          "height": 446
        },
        "id": "c-WF56MZvETV",
        "outputId": "4df2c88d-c36c-4212-dbb7-0445626f1946"
      },
      "source": [
        "scaled_price_block_df.plot(figsize = (10,7))\n"
      ],
      "execution_count": null,
      "outputs": [
        {
          "output_type": "execute_result",
          "data": {
            "text/plain": [
              "<matplotlib.axes._subplots.AxesSubplot at 0x7ff8562dc850>"
            ]
          },
          "metadata": {
            "tags": []
          },
          "execution_count": 126
        },
        {
          "output_type": "display_data",
          "data": {
            "image/png": "[encoded data removed]",
            "text/plain": [
              "<Figure size 720x504 with 1 Axes>"
            ]
          },
          "metadata": {
            "tags": [],
            "needs_background": "light"
          }
        }
      ]
    },
    {
      "cell_type": "markdown",
      "metadata": {
        "id": "vjYePtD0wYGv"
      },
      "source": [
        "## make the dataset w/pandas"
      ]
    },
    {
      "cell_type": "code",
      "metadata": {
        "colab": {
          "base_uri": "https://localhost:8080/"
        },
        "id": "7iW06QqXwNUS",
        "outputId": "fd65ae59-1768-486a-ddb6-dd727b38bbd3"
      },
      "source": [
        "HORIZON, WINDOW"
      ],
      "execution_count": null,
      "outputs": [
        {
          "output_type": "execute_result",
          "data": {
            "text/plain": [
              "(1, 7)"
            ]
          },
          "metadata": {
            "tags": []
          },
          "execution_count": 127
        }
      ]
    },
    {
      "cell_type": "code",
      "metadata": {
        "id": "_H5_9tUmwoEd"
      },
      "source": [
        "btc_windowed = btc_df_block.copy()\n",
        "\n",
        "for i in range(WINDOW):\n",
        "  btc_windowed[f\"Price+{i+1}\"] = btc_windowed[\"Price\"].shift(periods = i+1)"
      ],
      "execution_count": null,
      "outputs": []
    },
    {
      "cell_type": "code",
      "metadata": {
        "colab": {
          "base_uri": "https://localhost:8080/",
          "height": 394
        },
        "id": "EFiKs6V5yLi2",
        "outputId": "069633a4-35a3-4369-fe9a-8def8335b024"
      },
      "source": [
        "btc_windowed[:10]"
      ],
      "execution_count": null,
      "outputs": [
        {
          "output_type": "execute_result",
          "data": {
            "text/html": [
              "<div>\n",
              "<style scoped>\n",
              "    .dataframe tbody tr th:only-of-type {\n",
              "        vertical-align: middle;\n",
              "    }\n",
              "\n",
              "    .dataframe tbody tr th {\n",
              "        vertical-align: top;\n",
              "    }\n",
              "\n",
              "    .dataframe thead th {\n",
              "        text-align: right;\n",
              "    }\n",
              "</style>\n",
              "<table border=\"1\" class=\"dataframe\">\n",
              "  <thead>\n",
              "    <tr style=\"text-align: right;\">\n",
              "      <th></th>\n",
              "      <th>Price</th>\n",
              "      <th>block_reward</th>\n",
              "      <th>Price+1</th>\n",
              "      <th>Price+2</th>\n",
              "      <th>Price+3</th>\n",
              "      <th>Price+4</th>\n",
              "      <th>Price+5</th>\n",
              "      <th>Price+6</th>\n",
              "      <th>Price+7</th>\n",
              "    </tr>\n",
              "    <tr>\n",
              "      <th>Date</th>\n",
              "      <th></th>\n",
              "      <th></th>\n",
              "      <th></th>\n",
              "      <th></th>\n",
              "      <th></th>\n",
              "      <th></th>\n",
              "      <th></th>\n",
              "      <th></th>\n",
              "      <th></th>\n",
              "    </tr>\n",
              "  </thead>\n",
              "  <tbody>\n",
              "    <tr>\n",
              "      <th>2013-10-01</th>\n",
              "      <td>123.65499</td>\n",
              "      <td>25.0</td>\n",
              "      <td>NaN</td>\n",
              "      <td>NaN</td>\n",
              "      <td>NaN</td>\n",
              "      <td>NaN</td>\n",
              "      <td>NaN</td>\n",
              "      <td>NaN</td>\n",
              "      <td>NaN</td>\n",
              "    </tr>\n",
              "    <tr>\n",
              "      <th>2013-10-02</th>\n",
              "      <td>125.45500</td>\n",
              "      <td>25.0</td>\n",
              "      <td>123.65499</td>\n",
              "      <td>NaN</td>\n",
              "      <td>NaN</td>\n",
              "      <td>NaN</td>\n",
              "      <td>NaN</td>\n",
              "      <td>NaN</td>\n",
              "      <td>NaN</td>\n",
              "    </tr>\n",
              "    <tr>\n",
              "      <th>2013-10-03</th>\n",
              "      <td>108.58483</td>\n",
              "      <td>25.0</td>\n",
              "      <td>125.45500</td>\n",
              "      <td>123.65499</td>\n",
              "      <td>NaN</td>\n",
              "      <td>NaN</td>\n",
              "      <td>NaN</td>\n",
              "      <td>NaN</td>\n",
              "      <td>NaN</td>\n",
              "    </tr>\n",
              "    <tr>\n",
              "      <th>2013-10-04</th>\n",
              "      <td>118.67466</td>\n",
              "      <td>25.0</td>\n",
              "      <td>108.58483</td>\n",
              "      <td>125.45500</td>\n",
              "      <td>123.65499</td>\n",
              "      <td>NaN</td>\n",
              "      <td>NaN</td>\n",
              "      <td>NaN</td>\n",
              "      <td>NaN</td>\n",
              "    </tr>\n",
              "    <tr>\n",
              "      <th>2013-10-05</th>\n",
              "      <td>121.33866</td>\n",
              "      <td>25.0</td>\n",
              "      <td>118.67466</td>\n",
              "      <td>108.58483</td>\n",
              "      <td>125.45500</td>\n",
              "      <td>123.65499</td>\n",
              "      <td>NaN</td>\n",
              "      <td>NaN</td>\n",
              "      <td>NaN</td>\n",
              "    </tr>\n",
              "    <tr>\n",
              "      <th>2013-10-06</th>\n",
              "      <td>120.65533</td>\n",
              "      <td>25.0</td>\n",
              "      <td>121.33866</td>\n",
              "      <td>118.67466</td>\n",
              "      <td>108.58483</td>\n",
              "      <td>125.45500</td>\n",
              "      <td>123.65499</td>\n",
              "      <td>NaN</td>\n",
              "      <td>NaN</td>\n",
              "    </tr>\n",
              "    <tr>\n",
              "      <th>2013-10-07</th>\n",
              "      <td>121.79500</td>\n",
              "      <td>25.0</td>\n",
              "      <td>120.65533</td>\n",
              "      <td>121.33866</td>\n",
              "      <td>118.67466</td>\n",
              "      <td>108.58483</td>\n",
              "      <td>125.45500</td>\n",
              "      <td>123.65499</td>\n",
              "      <td>NaN</td>\n",
              "    </tr>\n",
              "    <tr>\n",
              "      <th>2013-10-08</th>\n",
              "      <td>123.03300</td>\n",
              "      <td>25.0</td>\n",
              "      <td>121.79500</td>\n",
              "      <td>120.65533</td>\n",
              "      <td>121.33866</td>\n",
              "      <td>118.67466</td>\n",
              "      <td>108.58483</td>\n",
              "      <td>125.45500</td>\n",
              "      <td>123.65499</td>\n",
              "    </tr>\n",
              "    <tr>\n",
              "      <th>2013-10-09</th>\n",
              "      <td>124.04900</td>\n",
              "      <td>25.0</td>\n",
              "      <td>123.03300</td>\n",
              "      <td>121.79500</td>\n",
              "      <td>120.65533</td>\n",
              "      <td>121.33866</td>\n",
              "      <td>118.67466</td>\n",
              "      <td>108.58483</td>\n",
              "      <td>125.45500</td>\n",
              "    </tr>\n",
              "    <tr>\n",
              "      <th>2013-10-10</th>\n",
              "      <td>125.96116</td>\n",
              "      <td>25.0</td>\n",
              "      <td>124.04900</td>\n",
              "      <td>123.03300</td>\n",
              "      <td>121.79500</td>\n",
              "      <td>120.65533</td>\n",
              "      <td>121.33866</td>\n",
              "      <td>118.67466</td>\n",
              "      <td>108.58483</td>\n",
              "    </tr>\n",
              "  </tbody>\n",
              "</table>\n",
              "</div>"
            ],
            "text/plain": [
              "                Price  block_reward    Price+1  ...    Price+5    Price+6    Price+7\n",
              "Date                                            ...                                 \n",
              "2013-10-01  123.65499          25.0        NaN  ...        NaN        NaN        NaN\n",
              "2013-10-02  125.45500          25.0  123.65499  ...        NaN        NaN        NaN\n",
              "2013-10-03  108.58483          25.0  125.45500  ...        NaN        NaN        NaN\n",
              "2013-10-04  118.67466          25.0  108.58483  ...        NaN        NaN        NaN\n",
              "2013-10-05  121.33866          25.0  118.67466  ...        NaN        NaN        NaN\n",
              "2013-10-06  120.65533          25.0  121.33866  ...  123.65499        NaN        NaN\n",
              "2013-10-07  121.79500          25.0  120.65533  ...  125.45500  123.65499        NaN\n",
              "2013-10-08  123.03300          25.0  121.79500  ...  108.58483  125.45500  123.65499\n",
              "2013-10-09  124.04900          25.0  123.03300  ...  118.67466  108.58483  125.45500\n",
              "2013-10-10  125.96116          25.0  124.04900  ...  121.33866  118.67466  108.58483\n",
              "\n",
              "[10 rows x 9 columns]"
            ]
          },
          "metadata": {
            "tags": []
          },
          "execution_count": 129
        }
      ]
    },
    {
      "cell_type": "code",
      "metadata": {
        "id": "oDrM-HBC4aZN"
      },
      "source": [
        "btc_windowed_tmp = btc_windowed.dropna()\n",
        "X = btc_windowed_tmp.drop(\"Price\", axis = 1).astype(np.float32)\n",
        "y = btc_windowed_tmp[\"Price\"].astype(np.float32)"
      ],
      "execution_count": null,
      "outputs": []
    },
    {
      "cell_type": "code",
      "metadata": {
        "colab": {
          "base_uri": "https://localhost:8080/",
          "height": 455
        },
        "id": "opKp3Wpl4j50",
        "outputId": "ffa06eb0-80e5-4453-a628-f9837832f96b"
      },
      "source": [
        "X"
      ],
      "execution_count": null,
      "outputs": [
        {
          "output_type": "execute_result",
          "data": {
            "text/html": [
              "<div>\n",
              "<style scoped>\n",
              "    .dataframe tbody tr th:only-of-type {\n",
              "        vertical-align: middle;\n",
              "    }\n",
              "\n",
              "    .dataframe tbody tr th {\n",
              "        vertical-align: top;\n",
              "    }\n",
              "\n",
              "    .dataframe thead th {\n",
              "        text-align: right;\n",
              "    }\n",
              "</style>\n",
              "<table border=\"1\" class=\"dataframe\">\n",
              "  <thead>\n",
              "    <tr style=\"text-align: right;\">\n",
              "      <th></th>\n",
              "      <th>block_reward</th>\n",
              "      <th>Price+1</th>\n",
              "      <th>Price+2</th>\n",
              "      <th>Price+3</th>\n",
              "      <th>Price+4</th>\n",
              "      <th>Price+5</th>\n",
              "      <th>Price+6</th>\n",
              "      <th>Price+7</th>\n",
              "    </tr>\n",
              "    <tr>\n",
              "      <th>Date</th>\n",
              "      <th></th>\n",
              "      <th></th>\n",
              "      <th></th>\n",
              "      <th></th>\n",
              "      <th></th>\n",
              "      <th></th>\n",
              "      <th></th>\n",
              "      <th></th>\n",
              "    </tr>\n",
              "  </thead>\n",
              "  <tbody>\n",
              "    <tr>\n",
              "      <th>2013-10-08</th>\n",
              "      <td>25.00</td>\n",
              "      <td>121.794998</td>\n",
              "      <td>120.655327</td>\n",
              "      <td>121.338661</td>\n",
              "      <td>118.674660</td>\n",
              "      <td>108.584831</td>\n",
              "      <td>125.455002</td>\n",
              "      <td>123.654991</td>\n",
              "    </tr>\n",
              "    <tr>\n",
              "      <th>2013-10-09</th>\n",
              "      <td>25.00</td>\n",
              "      <td>123.032997</td>\n",
              "      <td>121.794998</td>\n",
              "      <td>120.655327</td>\n",
              "      <td>121.338661</td>\n",
              "      <td>118.674660</td>\n",
              "      <td>108.584831</td>\n",
              "      <td>125.455002</td>\n",
              "    </tr>\n",
              "    <tr>\n",
              "      <th>2013-10-10</th>\n",
              "      <td>25.00</td>\n",
              "      <td>124.049004</td>\n",
              "      <td>123.032997</td>\n",
              "      <td>121.794998</td>\n",
              "      <td>120.655327</td>\n",
              "      <td>121.338661</td>\n",
              "      <td>118.674660</td>\n",
              "      <td>108.584831</td>\n",
              "    </tr>\n",
              "    <tr>\n",
              "      <th>2013-10-11</th>\n",
              "      <td>25.00</td>\n",
              "      <td>125.961159</td>\n",
              "      <td>124.049004</td>\n",
              "      <td>123.032997</td>\n",
              "      <td>121.794998</td>\n",
              "      <td>120.655327</td>\n",
              "      <td>121.338661</td>\n",
              "      <td>118.674660</td>\n",
              "    </tr>\n",
              "    <tr>\n",
              "      <th>2013-10-12</th>\n",
              "      <td>25.00</td>\n",
              "      <td>125.279663</td>\n",
              "      <td>125.961159</td>\n",
              "      <td>124.049004</td>\n",
              "      <td>123.032997</td>\n",
              "      <td>121.794998</td>\n",
              "      <td>120.655327</td>\n",
              "      <td>121.338661</td>\n",
              "    </tr>\n",
              "    <tr>\n",
              "      <th>...</th>\n",
              "      <td>...</td>\n",
              "      <td>...</td>\n",
              "      <td>...</td>\n",
              "      <td>...</td>\n",
              "      <td>...</td>\n",
              "      <td>...</td>\n",
              "      <td>...</td>\n",
              "      <td>...</td>\n",
              "    </tr>\n",
              "    <tr>\n",
              "      <th>2021-05-14</th>\n",
              "      <td>6.25</td>\n",
              "      <td>52147.820312</td>\n",
              "      <td>56573.554688</td>\n",
              "      <td>55715.546875</td>\n",
              "      <td>58102.191406</td>\n",
              "      <td>58788.210938</td>\n",
              "      <td>57107.121094</td>\n",
              "      <td>56583.851562</td>\n",
              "    </tr>\n",
              "    <tr>\n",
              "      <th>2021-05-15</th>\n",
              "      <td>6.25</td>\n",
              "      <td>49764.132812</td>\n",
              "      <td>52147.820312</td>\n",
              "      <td>56573.554688</td>\n",
              "      <td>55715.546875</td>\n",
              "      <td>58102.191406</td>\n",
              "      <td>58788.210938</td>\n",
              "      <td>57107.121094</td>\n",
              "    </tr>\n",
              "    <tr>\n",
              "      <th>2021-05-16</th>\n",
              "      <td>6.25</td>\n",
              "      <td>50032.691406</td>\n",
              "      <td>49764.132812</td>\n",
              "      <td>52147.820312</td>\n",
              "      <td>56573.554688</td>\n",
              "      <td>55715.546875</td>\n",
              "      <td>58102.191406</td>\n",
              "      <td>58788.210938</td>\n",
              "    </tr>\n",
              "    <tr>\n",
              "      <th>2021-05-17</th>\n",
              "      <td>6.25</td>\n",
              "      <td>47885.625000</td>\n",
              "      <td>50032.691406</td>\n",
              "      <td>49764.132812</td>\n",
              "      <td>52147.820312</td>\n",
              "      <td>56573.554688</td>\n",
              "      <td>55715.546875</td>\n",
              "      <td>58102.191406</td>\n",
              "    </tr>\n",
              "    <tr>\n",
              "      <th>2021-05-18</th>\n",
              "      <td>6.25</td>\n",
              "      <td>45604.617188</td>\n",
              "      <td>47885.625000</td>\n",
              "      <td>50032.691406</td>\n",
              "      <td>49764.132812</td>\n",
              "      <td>52147.820312</td>\n",
              "      <td>56573.554688</td>\n",
              "      <td>55715.546875</td>\n",
              "    </tr>\n",
              "  </tbody>\n",
              "</table>\n",
              "<p>2780 rows × 8 columns</p>\n",
              "</div>"
            ],
            "text/plain": [
              "            block_reward       Price+1  ...       Price+6       Price+7\n",
              "Date                                    ...                            \n",
              "2013-10-08         25.00    121.794998  ...    125.455002    123.654991\n",
              "2013-10-09         25.00    123.032997  ...    108.584831    125.455002\n",
              "2013-10-10         25.00    124.049004  ...    118.674660    108.584831\n",
              "2013-10-11         25.00    125.961159  ...    121.338661    118.674660\n",
              "2013-10-12         25.00    125.279663  ...    120.655327    121.338661\n",
              "...                  ...           ...  ...           ...           ...\n",
              "2021-05-14          6.25  52147.820312  ...  57107.121094  56583.851562\n",
              "2021-05-15          6.25  49764.132812  ...  58788.210938  57107.121094\n",
              "2021-05-16          6.25  50032.691406  ...  58102.191406  58788.210938\n",
              "2021-05-17          6.25  47885.625000  ...  55715.546875  58102.191406\n",
              "2021-05-18          6.25  45604.617188  ...  56573.554688  55715.546875\n",
              "\n",
              "[2780 rows x 8 columns]"
            ]
          },
          "metadata": {
            "tags": []
          },
          "execution_count": 131
        }
      ]
    },
    {
      "cell_type": "code",
      "metadata": {
        "colab": {
          "base_uri": "https://localhost:8080/"
        },
        "id": "ZFXiOS9L58eE",
        "outputId": "73eca30f-298e-4efe-bda3-c8325eb2e9c6"
      },
      "source": [
        "y"
      ],
      "execution_count": null,
      "outputs": [
        {
          "output_type": "execute_result",
          "data": {
            "text/plain": [
              "Date\n",
              "2013-10-08      123.032997\n",
              "2013-10-09      124.049004\n",
              "2013-10-10      125.961159\n",
              "2013-10-11      125.279663\n",
              "2013-10-12      125.927498\n",
              "                  ...     \n",
              "2021-05-14    49764.132812\n",
              "2021-05-15    50032.691406\n",
              "2021-05-16    47885.625000\n",
              "2021-05-17    45604.617188\n",
              "2021-05-18    43144.472656\n",
              "Name: Price, Length: 2780, dtype: float32"
            ]
          },
          "metadata": {
            "tags": []
          },
          "execution_count": 132
        }
      ]
    },
    {
      "cell_type": "code",
      "metadata": {
        "id": "1KQ6nZgW6MT7"
      },
      "source": [
        "split = int(0.8 * len(X))"
      ],
      "execution_count": null,
      "outputs": []
    },
    {
      "cell_type": "code",
      "metadata": {
        "id": "LUREdNA96kPJ"
      },
      "source": [
        "X_train = X[:split]\n",
        "X_test = X[split:]\n",
        "\n",
        "y_train = y[:split]\n",
        "y_test = y[split:]"
      ],
      "execution_count": null,
      "outputs": []
    },
    {
      "cell_type": "code",
      "metadata": {
        "colab": {
          "base_uri": "https://localhost:8080/"
        },
        "id": "QQuvdC4b6nNn",
        "outputId": "9fc75026-1d74-434d-80f0-5302f1df1bde"
      },
      "source": [
        "len(X_train), len(X_test), len(y_train), len(y_test)"
      ],
      "execution_count": null,
      "outputs": [
        {
          "output_type": "execute_result",
          "data": {
            "text/plain": [
              "(2224, 556, 2224, 556)"
            ]
          },
          "metadata": {
            "tags": []
          },
          "execution_count": 135
        }
      ]
    },
    {
      "cell_type": "code",
      "metadata": {
        "colab": {
          "base_uri": "https://localhost:8080/",
          "height": 238
        },
        "id": "Qenzxufh7Cud",
        "outputId": "1bd24301-7b63-4839-ba7a-cdc1bd794747"
      },
      "source": [
        "X_train[:5]"
      ],
      "execution_count": null,
      "outputs": [
        {
          "output_type": "execute_result",
          "data": {
            "text/html": [
              "<div>\n",
              "<style scoped>\n",
              "    .dataframe tbody tr th:only-of-type {\n",
              "        vertical-align: middle;\n",
              "    }\n",
              "\n",
              "    .dataframe tbody tr th {\n",
              "        vertical-align: top;\n",
              "    }\n",
              "\n",
              "    .dataframe thead th {\n",
              "        text-align: right;\n",
              "    }\n",
              "</style>\n",
              "<table border=\"1\" class=\"dataframe\">\n",
              "  <thead>\n",
              "    <tr style=\"text-align: right;\">\n",
              "      <th></th>\n",
              "      <th>block_reward</th>\n",
              "      <th>Price+1</th>\n",
              "      <th>Price+2</th>\n",
              "      <th>Price+3</th>\n",
              "      <th>Price+4</th>\n",
              "      <th>Price+5</th>\n",
              "      <th>Price+6</th>\n",
              "      <th>Price+7</th>\n",
              "    </tr>\n",
              "    <tr>\n",
              "      <th>Date</th>\n",
              "      <th></th>\n",
              "      <th></th>\n",
              "      <th></th>\n",
              "      <th></th>\n",
              "      <th></th>\n",
              "      <th></th>\n",
              "      <th></th>\n",
              "      <th></th>\n",
              "    </tr>\n",
              "  </thead>\n",
              "  <tbody>\n",
              "    <tr>\n",
              "      <th>2013-10-08</th>\n",
              "      <td>25.0</td>\n",
              "      <td>121.794998</td>\n",
              "      <td>120.655327</td>\n",
              "      <td>121.338661</td>\n",
              "      <td>118.674660</td>\n",
              "      <td>108.584831</td>\n",
              "      <td>125.455002</td>\n",
              "      <td>123.654991</td>\n",
              "    </tr>\n",
              "    <tr>\n",
              "      <th>2013-10-09</th>\n",
              "      <td>25.0</td>\n",
              "      <td>123.032997</td>\n",
              "      <td>121.794998</td>\n",
              "      <td>120.655327</td>\n",
              "      <td>121.338661</td>\n",
              "      <td>118.674660</td>\n",
              "      <td>108.584831</td>\n",
              "      <td>125.455002</td>\n",
              "    </tr>\n",
              "    <tr>\n",
              "      <th>2013-10-10</th>\n",
              "      <td>25.0</td>\n",
              "      <td>124.049004</td>\n",
              "      <td>123.032997</td>\n",
              "      <td>121.794998</td>\n",
              "      <td>120.655327</td>\n",
              "      <td>121.338661</td>\n",
              "      <td>118.674660</td>\n",
              "      <td>108.584831</td>\n",
              "    </tr>\n",
              "    <tr>\n",
              "      <th>2013-10-11</th>\n",
              "      <td>25.0</td>\n",
              "      <td>125.961159</td>\n",
              "      <td>124.049004</td>\n",
              "      <td>123.032997</td>\n",
              "      <td>121.794998</td>\n",
              "      <td>120.655327</td>\n",
              "      <td>121.338661</td>\n",
              "      <td>118.674660</td>\n",
              "    </tr>\n",
              "    <tr>\n",
              "      <th>2013-10-12</th>\n",
              "      <td>25.0</td>\n",
              "      <td>125.279663</td>\n",
              "      <td>125.961159</td>\n",
              "      <td>124.049004</td>\n",
              "      <td>123.032997</td>\n",
              "      <td>121.794998</td>\n",
              "      <td>120.655327</td>\n",
              "      <td>121.338661</td>\n",
              "    </tr>\n",
              "  </tbody>\n",
              "</table>\n",
              "</div>"
            ],
            "text/plain": [
              "            block_reward     Price+1  ...     Price+6     Price+7\n",
              "Date                                  ...                        \n",
              "2013-10-08          25.0  121.794998  ...  125.455002  123.654991\n",
              "2013-10-09          25.0  123.032997  ...  108.584831  125.455002\n",
              "2013-10-10          25.0  124.049004  ...  118.674660  108.584831\n",
              "2013-10-11          25.0  125.961159  ...  121.338661  118.674660\n",
              "2013-10-12          25.0  125.279663  ...  120.655327  121.338661\n",
              "\n",
              "[5 rows x 8 columns]"
            ]
          },
          "metadata": {
            "tags": []
          },
          "execution_count": 136
        }
      ]
    },
    {
      "cell_type": "markdown",
      "metadata": {
        "id": "ywGQfl1s69Qu"
      },
      "source": [
        "# Make Model 6: Model 1 with multivariate data\n"
      ]
    },
    {
      "cell_type": "code",
      "metadata": {
        "id": "nDSGm1Yy68Wt"
      },
      "source": [
        "tf.random.set_seed(69)\n",
        "\n",
        "model_6 = tf.keras.Sequential([\n",
        "  layers.Dense(1100, activation = \"relu\"),\n",
        "  layers.Dense(HORIZON, activation = \"linear\")\n",
        "], name = \"model_6\")\n",
        "\n",
        "model_6.compile(loss = \"mae\",\n",
        "              optimizer = \"Adam\",\n",
        "              metrics = [\"mae\"])"
      ],
      "execution_count": null,
      "outputs": []
    },
    {
      "cell_type": "code",
      "metadata": {
        "colab": {
          "base_uri": "https://localhost:8080/"
        },
        "id": "FaLVgDFn7JvY",
        "outputId": "a436cd2d-3d4e-4256-9754-894cdaec01b5"
      },
      "source": [
        "history_6 = model_6.fit(x = X_train, y = y_train, epochs = 100, validation_data = (X_test, y_test), batch_size=128,\n",
        "                        callbacks = [make_model_checkpoint(\"model_6\")], verbose = 0)"
      ],
      "execution_count": null,
      "outputs": [
        {
          "output_type": "stream",
          "text": [
            "INFO:tensorflow:Assets written to: /content/model_exp/model_6/assets\n",
            "INFO:tensorflow:Assets written to: /content/model_exp/model_6/assets\n",
            "INFO:tensorflow:Assets written to: /content/model_exp/model_6/assets\n",
            "INFO:tensorflow:Assets written to: /content/model_exp/model_6/assets\n",
            "INFO:tensorflow:Assets written to: /content/model_exp/model_6/assets\n",
            "INFO:tensorflow:Assets written to: /content/model_exp/model_6/assets\n",
            "INFO:tensorflow:Assets written to: /content/model_exp/model_6/assets\n",
            "INFO:tensorflow:Assets written to: /content/model_exp/model_6/assets\n",
            "INFO:tensorflow:Assets written to: /content/model_exp/model_6/assets\n",
            "INFO:tensorflow:Assets written to: /content/model_exp/model_6/assets\n",
            "INFO:tensorflow:Assets written to: /content/model_exp/model_6/assets\n",
            "INFO:tensorflow:Assets written to: /content/model_exp/model_6/assets\n",
            "INFO:tensorflow:Assets written to: /content/model_exp/model_6/assets\n",
            "INFO:tensorflow:Assets written to: /content/model_exp/model_6/assets\n",
            "INFO:tensorflow:Assets written to: /content/model_exp/model_6/assets\n",
            "INFO:tensorflow:Assets written to: /content/model_exp/model_6/assets\n",
            "INFO:tensorflow:Assets written to: /content/model_exp/model_6/assets\n",
            "INFO:tensorflow:Assets written to: /content/model_exp/model_6/assets\n",
            "INFO:tensorflow:Assets written to: /content/model_exp/model_6/assets\n",
            "INFO:tensorflow:Assets written to: /content/model_exp/model_6/assets\n",
            "INFO:tensorflow:Assets written to: /content/model_exp/model_6/assets\n"
          ],
          "name": "stdout"
        }
      ]
    },
    {
      "cell_type": "code",
      "metadata": {
        "id": "R1-aWL-T7RnV"
      },
      "source": [
        "new_model_6 = tf.keras.models.load_model(\"/content/model_exp/model_6\")\n"
      ],
      "execution_count": null,
      "outputs": []
    },
    {
      "cell_type": "code",
      "metadata": {
        "colab": {
          "base_uri": "https://localhost:8080/"
        },
        "id": "3CoEkKXV7bEp",
        "outputId": "072d0131-ec6a-4463-b6f3-37a508b4b988"
      },
      "source": [
        "new_model_6.evaluate(X_test, y_test)"
      ],
      "execution_count": null,
      "outputs": [
        {
          "output_type": "stream",
          "text": [
            "18/18 [==============================] - 0s 2ms/step - loss: 563.7761 - mae: 563.7761\n"
          ],
          "name": "stdout"
        },
        {
          "output_type": "execute_result",
          "data": {
            "text/plain": [
              "[563.776123046875, 563.776123046875]"
            ]
          },
          "metadata": {
            "tags": []
          },
          "execution_count": 140
        }
      ]
    },
    {
      "cell_type": "code",
      "metadata": {
        "colab": {
          "base_uri": "https://localhost:8080/"
        },
        "id": "Y7xEI6qf7e8R",
        "outputId": "cbc5cf61-b011-43f8-ad7e-3767084fcd93"
      },
      "source": [
        "model_1_results"
      ],
      "execution_count": null,
      "outputs": [
        {
          "output_type": "execute_result",
          "data": {
            "text/plain": [
              "{'MAE': 563.9283,\n",
              " 'MAPE': 2.5159616,\n",
              " 'MASE': 0.9906658,\n",
              " 'MSE': 1155212.4,\n",
              " 'RMSE': 1074.8081}"
            ]
          },
          "metadata": {
            "tags": []
          },
          "execution_count": 141
        }
      ]
    },
    {
      "cell_type": "code",
      "metadata": {
        "id": "eywxOZUz7iv3"
      },
      "source": [
        ""
      ],
      "execution_count": null,
      "outputs": []
    },
    {
      "cell_type": "markdown",
      "metadata": {
        "id": "qZzu_yq0M_tq"
      },
      "source": [
        "# N-BEATS"
      ]
    },
    {
      "cell_type": "code",
      "metadata": {
        "id": "sdODnVLfNA-Q"
      },
      "source": [
        "class NBeatsBlock(tf.keras.layers.Layer):\n",
        "  def __init__(self, input_size: int, theta_size: int, horizon: int, n_neurons: int, n_layers: int, **kwargs):\n",
        "    super().__init__(**kwargs)\n",
        "\n",
        "    self.input_size = input_size\n",
        "    self.theta_size = theta_size\n",
        "    self.horizon = horizon\n",
        "    self.n_neurons = n_neurons\n",
        "    self.n_layers = n_layers\n",
        "\n",
        "    # a stack of 4 dense layers\n",
        "    self.hidden = [tf.keras.layers.Dense(n_neurons, activation = \"relu\") for _ in range(n_layers)]\n",
        "\n",
        "    self.theta_layer = tf.keras.layers.Dense(theta_size, activation=\"linear\", name = \"theta\")\n",
        "\n",
        "  def call(self, inputs):\n",
        "    x = inputs\n",
        "    for layer in self.hidden:\n",
        "      x = layer(x)\n",
        "    theta = self.theta_layer(x)\n",
        "    backcast, forecast = theta[:, :self.input_size], theta[:, -self.horizon:]\n",
        "    return backcast, forecast\n"
      ],
      "execution_count": null,
      "outputs": []
    },
    {
      "cell_type": "markdown",
      "metadata": {
        "id": "xWnKfw9SWSiF"
      },
      "source": [
        "##testing"
      ]
    },
    {
      "cell_type": "code",
      "metadata": {
        "colab": {
          "base_uri": "https://localhost:8080/"
        },
        "id": "JOAZ7OWEWngk",
        "outputId": "300815e7-792f-4932-c0a2-2735d57d17fa"
      },
      "source": [
        "HORIZON, WINDOW"
      ],
      "execution_count": null,
      "outputs": [
        {
          "output_type": "execute_result",
          "data": {
            "text/plain": [
              "(1, 7)"
            ]
          },
          "metadata": {
            "tags": []
          },
          "execution_count": 143
        }
      ]
    },
    {
      "cell_type": "code",
      "metadata": {
        "id": "Ljwlagp_WVU0"
      },
      "source": [
        "tf.random.set_seed(42)\n",
        "dummy_layer = NBeatsBlock(input_size= WINDOW, theta_size=WINDOW+HORIZON, horizon = HORIZON, n_neurons = 128, n_layers=4)"
      ],
      "execution_count": null,
      "outputs": []
    },
    {
      "cell_type": "code",
      "metadata": {
        "id": "XylDr8eqWVXB"
      },
      "source": [
        "#dummy inputs\n",
        "dummy_inputs = tf.expand_dims(tf.range(WINDOW) + 1, axis = 0)"
      ],
      "execution_count": null,
      "outputs": []
    },
    {
      "cell_type": "code",
      "metadata": {
        "colab": {
          "base_uri": "https://localhost:8080/"
        },
        "id": "LrVHAGVxWVZP",
        "outputId": "dc2df7da-679d-42a3-cc7a-26392d0a2046"
      },
      "source": [
        "dummy_inputs[:, :7]"
      ],
      "execution_count": null,
      "outputs": [
        {
          "output_type": "execute_result",
          "data": {
            "text/plain": [
              "<tf.Tensor: shape=(1, 7), dtype=int32, numpy=array([[1, 2, 3, 4, 5, 6, 7]], dtype=int32)>"
            ]
          },
          "metadata": {
            "tags": []
          },
          "execution_count": 146
        }
      ]
    },
    {
      "cell_type": "code",
      "metadata": {
        "id": "RgZtyESdWVbZ"
      },
      "source": [
        "backcast, forecast = dummy_layer(dummy_inputs)"
      ],
      "execution_count": null,
      "outputs": []
    },
    {
      "cell_type": "code",
      "metadata": {
        "colab": {
          "base_uri": "https://localhost:8080/"
        },
        "id": "wZpE_zJRWVdn",
        "outputId": "c4151ac8-de1c-40b3-aca0-1fb9de4ed5c8"
      },
      "source": [
        "backcast, forecast"
      ],
      "execution_count": null,
      "outputs": [
        {
          "output_type": "execute_result",
          "data": {
            "text/plain": [
              "(<tf.Tensor: shape=(1, 7), dtype=float32, numpy=\n",
              " array([[ 0.07960171,  0.32512033, -0.8428683 , -0.6938985 , -0.31720552,\n",
              "         -0.5698734 , -0.6396662 ]], dtype=float32)>,\n",
              " <tf.Tensor: shape=(1, 1), dtype=float32, numpy=array([[1.0071648]], dtype=float32)>)"
            ]
          },
          "metadata": {
            "tags": []
          },
          "execution_count": 148
        }
      ]
    },
    {
      "cell_type": "code",
      "metadata": {
        "id": "ZrusQr2HND8b"
      },
      "source": [
        "a = [5 for c in range(10)]"
      ],
      "execution_count": null,
      "outputs": []
    },
    {
      "cell_type": "code",
      "metadata": {
        "colab": {
          "base_uri": "https://localhost:8080/"
        },
        "id": "jZGO59xXNEVi",
        "outputId": "e5498c3e-31b7-4c19-d7a4-9146b03294f7"
      },
      "source": [
        "a"
      ],
      "execution_count": null,
      "outputs": [
        {
          "output_type": "execute_result",
          "data": {
            "text/plain": [
              "[5, 5, 5, 5, 5, 5, 5, 5, 5, 5]"
            ]
          },
          "metadata": {
            "tags": []
          },
          "execution_count": 150
        }
      ]
    },
    {
      "cell_type": "code",
      "metadata": {
        "id": "L-wEdy12NEXt"
      },
      "source": [
        "arr2d = np.array([[1, 2, 3], [4, 5, 6], [7, 8, 9]])"
      ],
      "execution_count": null,
      "outputs": []
    },
    {
      "cell_type": "code",
      "metadata": {
        "colab": {
          "base_uri": "https://localhost:8080/"
        },
        "id": "lPPTf5HoNEa1",
        "outputId": "f91e4369-88a8-4c50-94e2-8d8ec69816e5"
      },
      "source": [
        "arr2d[:, :]"
      ],
      "execution_count": null,
      "outputs": [
        {
          "output_type": "execute_result",
          "data": {
            "text/plain": [
              "array([[1, 2, 3],\n",
              "       [4, 5, 6],\n",
              "       [7, 8, 9]])"
            ]
          },
          "metadata": {
            "tags": []
          },
          "execution_count": 152
        }
      ]
    },
    {
      "cell_type": "code",
      "metadata": {
        "id": "3IJHSczXNEdE"
      },
      "source": [
        "k = [1,2,3,4,5]"
      ],
      "execution_count": null,
      "outputs": []
    },
    {
      "cell_type": "code",
      "metadata": {
        "colab": {
          "base_uri": "https://localhost:8080/"
        },
        "id": "NdAM3xIgNEfo",
        "outputId": "062bbdf9-a5a4-43aa-ed75-aefecca408b0"
      },
      "source": [
        "k[:-2]"
      ],
      "execution_count": null,
      "outputs": [
        {
          "output_type": "execute_result",
          "data": {
            "text/plain": [
              "[1, 2, 3]"
            ]
          },
          "metadata": {
            "tags": []
          },
          "execution_count": 154
        }
      ]
    },
    {
      "cell_type": "markdown",
      "metadata": {
        "id": "hA5grFaCZo0J"
      },
      "source": [
        "## making good data pieplines"
      ]
    },
    {
      "cell_type": "code",
      "metadata": {
        "id": "jDrzyRNaNEiI"
      },
      "source": [
        "HORIZON = 1\n",
        "WINDOW = 7"
      ],
      "execution_count": null,
      "outputs": []
    },
    {
      "cell_type": "code",
      "metadata": {
        "colab": {
          "base_uri": "https://localhost:8080/",
          "height": 238
        },
        "id": "Jt4J75dDNEkz",
        "outputId": "c912f4e8-7bae-4090-a632-c8b92821c78e"
      },
      "source": [
        "btc_df[:5]"
      ],
      "execution_count": null,
      "outputs": [
        {
          "output_type": "execute_result",
          "data": {
            "text/html": [
              "<div>\n",
              "<style scoped>\n",
              "    .dataframe tbody tr th:only-of-type {\n",
              "        vertical-align: middle;\n",
              "    }\n",
              "\n",
              "    .dataframe tbody tr th {\n",
              "        vertical-align: top;\n",
              "    }\n",
              "\n",
              "    .dataframe thead th {\n",
              "        text-align: right;\n",
              "    }\n",
              "</style>\n",
              "<table border=\"1\" class=\"dataframe\">\n",
              "  <thead>\n",
              "    <tr style=\"text-align: right;\">\n",
              "      <th></th>\n",
              "      <th>Price</th>\n",
              "    </tr>\n",
              "    <tr>\n",
              "      <th>Date</th>\n",
              "      <th></th>\n",
              "    </tr>\n",
              "  </thead>\n",
              "  <tbody>\n",
              "    <tr>\n",
              "      <th>2013-10-01</th>\n",
              "      <td>123.65499</td>\n",
              "    </tr>\n",
              "    <tr>\n",
              "      <th>2013-10-02</th>\n",
              "      <td>125.45500</td>\n",
              "    </tr>\n",
              "    <tr>\n",
              "      <th>2013-10-03</th>\n",
              "      <td>108.58483</td>\n",
              "    </tr>\n",
              "    <tr>\n",
              "      <th>2013-10-04</th>\n",
              "      <td>118.67466</td>\n",
              "    </tr>\n",
              "    <tr>\n",
              "      <th>2013-10-05</th>\n",
              "      <td>121.33866</td>\n",
              "    </tr>\n",
              "  </tbody>\n",
              "</table>\n",
              "</div>"
            ],
            "text/plain": [
              "                Price\n",
              "Date                 \n",
              "2013-10-01  123.65499\n",
              "2013-10-02  125.45500\n",
              "2013-10-03  108.58483\n",
              "2013-10-04  118.67466\n",
              "2013-10-05  121.33866"
            ]
          },
          "metadata": {
            "tags": []
          },
          "execution_count": 156
        }
      ]
    },
    {
      "cell_type": "code",
      "metadata": {
        "id": "eTkQo6pDZ6mY"
      },
      "source": [
        "btc_prices_nbeats = btc_df.copy()"
      ],
      "execution_count": null,
      "outputs": []
    },
    {
      "cell_type": "code",
      "metadata": {
        "id": "Ml68wQhhZ6oj"
      },
      "source": [
        "for i in range(WINDOW):\n",
        "  btc_prices_nbeats[f\"Price+{i+1}\"] = btc_prices_nbeats[\"Price\"].shift(periods = i+1)"
      ],
      "execution_count": null,
      "outputs": []
    },
    {
      "cell_type": "code",
      "metadata": {
        "colab": {
          "base_uri": "https://localhost:8080/",
          "height": 394
        },
        "id": "7V4L-S-OZ6qs",
        "outputId": "cfc149ac-7aa3-4a4b-9ebf-8d5cd86b2095"
      },
      "source": [
        "btc_prices_nbeats[:10]"
      ],
      "execution_count": null,
      "outputs": [
        {
          "output_type": "execute_result",
          "data": {
            "text/html": [
              "<div>\n",
              "<style scoped>\n",
              "    .dataframe tbody tr th:only-of-type {\n",
              "        vertical-align: middle;\n",
              "    }\n",
              "\n",
              "    .dataframe tbody tr th {\n",
              "        vertical-align: top;\n",
              "    }\n",
              "\n",
              "    .dataframe thead th {\n",
              "        text-align: right;\n",
              "    }\n",
              "</style>\n",
              "<table border=\"1\" class=\"dataframe\">\n",
              "  <thead>\n",
              "    <tr style=\"text-align: right;\">\n",
              "      <th></th>\n",
              "      <th>Price</th>\n",
              "      <th>Price+1</th>\n",
              "      <th>Price+2</th>\n",
              "      <th>Price+3</th>\n",
              "      <th>Price+4</th>\n",
              "      <th>Price+5</th>\n",
              "      <th>Price+6</th>\n",
              "      <th>Price+7</th>\n",
              "    </tr>\n",
              "    <tr>\n",
              "      <th>Date</th>\n",
              "      <th></th>\n",
              "      <th></th>\n",
              "      <th></th>\n",
              "      <th></th>\n",
              "      <th></th>\n",
              "      <th></th>\n",
              "      <th></th>\n",
              "      <th></th>\n",
              "    </tr>\n",
              "  </thead>\n",
              "  <tbody>\n",
              "    <tr>\n",
              "      <th>2013-10-01</th>\n",
              "      <td>123.65499</td>\n",
              "      <td>NaN</td>\n",
              "      <td>NaN</td>\n",
              "      <td>NaN</td>\n",
              "      <td>NaN</td>\n",
              "      <td>NaN</td>\n",
              "      <td>NaN</td>\n",
              "      <td>NaN</td>\n",
              "    </tr>\n",
              "    <tr>\n",
              "      <th>2013-10-02</th>\n",
              "      <td>125.45500</td>\n",
              "      <td>123.65499</td>\n",
              "      <td>NaN</td>\n",
              "      <td>NaN</td>\n",
              "      <td>NaN</td>\n",
              "      <td>NaN</td>\n",
              "      <td>NaN</td>\n",
              "      <td>NaN</td>\n",
              "    </tr>\n",
              "    <tr>\n",
              "      <th>2013-10-03</th>\n",
              "      <td>108.58483</td>\n",
              "      <td>125.45500</td>\n",
              "      <td>123.65499</td>\n",
              "      <td>NaN</td>\n",
              "      <td>NaN</td>\n",
              "      <td>NaN</td>\n",
              "      <td>NaN</td>\n",
              "      <td>NaN</td>\n",
              "    </tr>\n",
              "    <tr>\n",
              "      <th>2013-10-04</th>\n",
              "      <td>118.67466</td>\n",
              "      <td>108.58483</td>\n",
              "      <td>125.45500</td>\n",
              "      <td>123.65499</td>\n",
              "      <td>NaN</td>\n",
              "      <td>NaN</td>\n",
              "      <td>NaN</td>\n",
              "      <td>NaN</td>\n",
              "    </tr>\n",
              "    <tr>\n",
              "      <th>2013-10-05</th>\n",
              "      <td>121.33866</td>\n",
              "      <td>118.67466</td>\n",
              "      <td>108.58483</td>\n",
              "      <td>125.45500</td>\n",
              "      <td>123.65499</td>\n",
              "      <td>NaN</td>\n",
              "      <td>NaN</td>\n",
              "      <td>NaN</td>\n",
              "    </tr>\n",
              "    <tr>\n",
              "      <th>2013-10-06</th>\n",
              "      <td>120.65533</td>\n",
              "      <td>121.33866</td>\n",
              "      <td>118.67466</td>\n",
              "      <td>108.58483</td>\n",
              "      <td>125.45500</td>\n",
              "      <td>123.65499</td>\n",
              "      <td>NaN</td>\n",
              "      <td>NaN</td>\n",
              "    </tr>\n",
              "    <tr>\n",
              "      <th>2013-10-07</th>\n",
              "      <td>121.79500</td>\n",
              "      <td>120.65533</td>\n",
              "      <td>121.33866</td>\n",
              "      <td>118.67466</td>\n",
              "      <td>108.58483</td>\n",
              "      <td>125.45500</td>\n",
              "      <td>123.65499</td>\n",
              "      <td>NaN</td>\n",
              "    </tr>\n",
              "    <tr>\n",
              "      <th>2013-10-08</th>\n",
              "      <td>123.03300</td>\n",
              "      <td>121.79500</td>\n",
              "      <td>120.65533</td>\n",
              "      <td>121.33866</td>\n",
              "      <td>118.67466</td>\n",
              "      <td>108.58483</td>\n",
              "      <td>125.45500</td>\n",
              "      <td>123.65499</td>\n",
              "    </tr>\n",
              "    <tr>\n",
              "      <th>2013-10-09</th>\n",
              "      <td>124.04900</td>\n",
              "      <td>123.03300</td>\n",
              "      <td>121.79500</td>\n",
              "      <td>120.65533</td>\n",
              "      <td>121.33866</td>\n",
              "      <td>118.67466</td>\n",
              "      <td>108.58483</td>\n",
              "      <td>125.45500</td>\n",
              "    </tr>\n",
              "    <tr>\n",
              "      <th>2013-10-10</th>\n",
              "      <td>125.96116</td>\n",
              "      <td>124.04900</td>\n",
              "      <td>123.03300</td>\n",
              "      <td>121.79500</td>\n",
              "      <td>120.65533</td>\n",
              "      <td>121.33866</td>\n",
              "      <td>118.67466</td>\n",
              "      <td>108.58483</td>\n",
              "    </tr>\n",
              "  </tbody>\n",
              "</table>\n",
              "</div>"
            ],
            "text/plain": [
              "                Price    Price+1    Price+2  ...    Price+5    Price+6    Price+7\n",
              "Date                                         ...                                 \n",
              "2013-10-01  123.65499        NaN        NaN  ...        NaN        NaN        NaN\n",
              "2013-10-02  125.45500  123.65499        NaN  ...        NaN        NaN        NaN\n",
              "2013-10-03  108.58483  125.45500  123.65499  ...        NaN        NaN        NaN\n",
              "2013-10-04  118.67466  108.58483  125.45500  ...        NaN        NaN        NaN\n",
              "2013-10-05  121.33866  118.67466  108.58483  ...        NaN        NaN        NaN\n",
              "2013-10-06  120.65533  121.33866  118.67466  ...  123.65499        NaN        NaN\n",
              "2013-10-07  121.79500  120.65533  121.33866  ...  125.45500  123.65499        NaN\n",
              "2013-10-08  123.03300  121.79500  120.65533  ...  108.58483  125.45500  123.65499\n",
              "2013-10-09  124.04900  123.03300  121.79500  ...  118.67466  108.58483  125.45500\n",
              "2013-10-10  125.96116  124.04900  123.03300  ...  121.33866  118.67466  108.58483\n",
              "\n",
              "[10 rows x 8 columns]"
            ]
          },
          "metadata": {
            "tags": []
          },
          "execution_count": 159
        }
      ]
    },
    {
      "cell_type": "code",
      "metadata": {
        "id": "V7Oby6sfZ6su"
      },
      "source": [
        "X = btc_prices_nbeats.dropna().drop(\"Price\", axis = 1)\n",
        "y = btc_prices_nbeats.dropna()[\"Price\"]\n"
      ],
      "execution_count": null,
      "outputs": []
    },
    {
      "cell_type": "code",
      "metadata": {
        "colab": {
          "base_uri": "https://localhost:8080/",
          "height": 394
        },
        "id": "JDnXbwhVZ6u7",
        "outputId": "dfabf510-426d-4625-cffc-8f422c35f04a"
      },
      "source": [
        "X[:10]"
      ],
      "execution_count": null,
      "outputs": [
        {
          "output_type": "execute_result",
          "data": {
            "text/html": [
              "<div>\n",
              "<style scoped>\n",
              "    .dataframe tbody tr th:only-of-type {\n",
              "        vertical-align: middle;\n",
              "    }\n",
              "\n",
              "    .dataframe tbody tr th {\n",
              "        vertical-align: top;\n",
              "    }\n",
              "\n",
              "    .dataframe thead th {\n",
              "        text-align: right;\n",
              "    }\n",
              "</style>\n",
              "<table border=\"1\" class=\"dataframe\">\n",
              "  <thead>\n",
              "    <tr style=\"text-align: right;\">\n",
              "      <th></th>\n",
              "      <th>Price+1</th>\n",
              "      <th>Price+2</th>\n",
              "      <th>Price+3</th>\n",
              "      <th>Price+4</th>\n",
              "      <th>Price+5</th>\n",
              "      <th>Price+6</th>\n",
              "      <th>Price+7</th>\n",
              "    </tr>\n",
              "    <tr>\n",
              "      <th>Date</th>\n",
              "      <th></th>\n",
              "      <th></th>\n",
              "      <th></th>\n",
              "      <th></th>\n",
              "      <th></th>\n",
              "      <th></th>\n",
              "      <th></th>\n",
              "    </tr>\n",
              "  </thead>\n",
              "  <tbody>\n",
              "    <tr>\n",
              "      <th>2013-10-08</th>\n",
              "      <td>121.79500</td>\n",
              "      <td>120.65533</td>\n",
              "      <td>121.33866</td>\n",
              "      <td>118.67466</td>\n",
              "      <td>108.58483</td>\n",
              "      <td>125.45500</td>\n",
              "      <td>123.65499</td>\n",
              "    </tr>\n",
              "    <tr>\n",
              "      <th>2013-10-09</th>\n",
              "      <td>123.03300</td>\n",
              "      <td>121.79500</td>\n",
              "      <td>120.65533</td>\n",
              "      <td>121.33866</td>\n",
              "      <td>118.67466</td>\n",
              "      <td>108.58483</td>\n",
              "      <td>125.45500</td>\n",
              "    </tr>\n",
              "    <tr>\n",
              "      <th>2013-10-10</th>\n",
              "      <td>124.04900</td>\n",
              "      <td>123.03300</td>\n",
              "      <td>121.79500</td>\n",
              "      <td>120.65533</td>\n",
              "      <td>121.33866</td>\n",
              "      <td>118.67466</td>\n",
              "      <td>108.58483</td>\n",
              "    </tr>\n",
              "    <tr>\n",
              "      <th>2013-10-11</th>\n",
              "      <td>125.96116</td>\n",
              "      <td>124.04900</td>\n",
              "      <td>123.03300</td>\n",
              "      <td>121.79500</td>\n",
              "      <td>120.65533</td>\n",
              "      <td>121.33866</td>\n",
              "      <td>118.67466</td>\n",
              "    </tr>\n",
              "    <tr>\n",
              "      <th>2013-10-12</th>\n",
              "      <td>125.27966</td>\n",
              "      <td>125.96116</td>\n",
              "      <td>124.04900</td>\n",
              "      <td>123.03300</td>\n",
              "      <td>121.79500</td>\n",
              "      <td>120.65533</td>\n",
              "      <td>121.33866</td>\n",
              "    </tr>\n",
              "    <tr>\n",
              "      <th>2013-10-13</th>\n",
              "      <td>125.92750</td>\n",
              "      <td>125.27966</td>\n",
              "      <td>125.96116</td>\n",
              "      <td>124.04900</td>\n",
              "      <td>123.03300</td>\n",
              "      <td>121.79500</td>\n",
              "      <td>120.65533</td>\n",
              "    </tr>\n",
              "    <tr>\n",
              "      <th>2013-10-14</th>\n",
              "      <td>126.38333</td>\n",
              "      <td>125.92750</td>\n",
              "      <td>125.27966</td>\n",
              "      <td>125.96116</td>\n",
              "      <td>124.04900</td>\n",
              "      <td>123.03300</td>\n",
              "      <td>121.79500</td>\n",
              "    </tr>\n",
              "    <tr>\n",
              "      <th>2013-10-15</th>\n",
              "      <td>135.24199</td>\n",
              "      <td>126.38333</td>\n",
              "      <td>125.92750</td>\n",
              "      <td>125.27966</td>\n",
              "      <td>125.96116</td>\n",
              "      <td>124.04900</td>\n",
              "      <td>123.03300</td>\n",
              "    </tr>\n",
              "    <tr>\n",
              "      <th>2013-10-16</th>\n",
              "      <td>133.20333</td>\n",
              "      <td>135.24199</td>\n",
              "      <td>126.38333</td>\n",
              "      <td>125.92750</td>\n",
              "      <td>125.27966</td>\n",
              "      <td>125.96116</td>\n",
              "      <td>124.04900</td>\n",
              "    </tr>\n",
              "    <tr>\n",
              "      <th>2013-10-17</th>\n",
              "      <td>142.76333</td>\n",
              "      <td>133.20333</td>\n",
              "      <td>135.24199</td>\n",
              "      <td>126.38333</td>\n",
              "      <td>125.92750</td>\n",
              "      <td>125.27966</td>\n",
              "      <td>125.96116</td>\n",
              "    </tr>\n",
              "  </tbody>\n",
              "</table>\n",
              "</div>"
            ],
            "text/plain": [
              "              Price+1    Price+2    Price+3  ...    Price+5    Price+6    Price+7\n",
              "Date                                         ...                                 \n",
              "2013-10-08  121.79500  120.65533  121.33866  ...  108.58483  125.45500  123.65499\n",
              "2013-10-09  123.03300  121.79500  120.65533  ...  118.67466  108.58483  125.45500\n",
              "2013-10-10  124.04900  123.03300  121.79500  ...  121.33866  118.67466  108.58483\n",
              "2013-10-11  125.96116  124.04900  123.03300  ...  120.65533  121.33866  118.67466\n",
              "2013-10-12  125.27966  125.96116  124.04900  ...  121.79500  120.65533  121.33866\n",
              "2013-10-13  125.92750  125.27966  125.96116  ...  123.03300  121.79500  120.65533\n",
              "2013-10-14  126.38333  125.92750  125.27966  ...  124.04900  123.03300  121.79500\n",
              "2013-10-15  135.24199  126.38333  125.92750  ...  125.96116  124.04900  123.03300\n",
              "2013-10-16  133.20333  135.24199  126.38333  ...  125.27966  125.96116  124.04900\n",
              "2013-10-17  142.76333  133.20333  135.24199  ...  125.92750  125.27966  125.96116\n",
              "\n",
              "[10 rows x 7 columns]"
            ]
          },
          "metadata": {
            "tags": []
          },
          "execution_count": 161
        }
      ]
    },
    {
      "cell_type": "code",
      "metadata": {
        "colab": {
          "base_uri": "https://localhost:8080/"
        },
        "id": "PrhyqKvfZ6w0",
        "outputId": "30734572-99b6-4fb8-f7e6-7479528d14e5"
      },
      "source": [
        "y[:10]"
      ],
      "execution_count": null,
      "outputs": [
        {
          "output_type": "execute_result",
          "data": {
            "text/plain": [
              "Date\n",
              "2013-10-08    123.03300\n",
              "2013-10-09    124.04900\n",
              "2013-10-10    125.96116\n",
              "2013-10-11    125.27966\n",
              "2013-10-12    125.92750\n",
              "2013-10-13    126.38333\n",
              "2013-10-14    135.24199\n",
              "2013-10-15    133.20333\n",
              "2013-10-16    142.76333\n",
              "2013-10-17    137.92333\n",
              "Name: Price, dtype: float64"
            ]
          },
          "metadata": {
            "tags": []
          },
          "execution_count": 162
        }
      ]
    },
    {
      "cell_type": "code",
      "metadata": {
        "id": "Ps9avHpjZ6zC"
      },
      "source": [
        "split = int(0.7 * len(X))"
      ],
      "execution_count": null,
      "outputs": []
    },
    {
      "cell_type": "code",
      "metadata": {
        "id": "oxKDoJtKa0aP"
      },
      "source": [
        "X_train = X[:split]\n",
        "X_test = X[split:]\n",
        "\n",
        "y_train = y[:split]\n",
        "y_test = y[split:]"
      ],
      "execution_count": null,
      "outputs": []
    },
    {
      "cell_type": "code",
      "metadata": {
        "colab": {
          "base_uri": "https://localhost:8080/"
        },
        "id": "sEiaiEVma0cx",
        "outputId": "482bebad-bd57-4614-cab5-09658544f7d6"
      },
      "source": [
        "len(X_train), len(X_test), len(y_train), len(y_test)"
      ],
      "execution_count": null,
      "outputs": [
        {
          "output_type": "execute_result",
          "data": {
            "text/plain": [
              "(1945, 835, 1945, 835)"
            ]
          },
          "metadata": {
            "tags": []
          },
          "execution_count": 165
        }
      ]
    },
    {
      "cell_type": "markdown",
      "metadata": {
        "id": "prKqoYprbSaT"
      },
      "source": [
        "use tf data api"
      ]
    },
    {
      "cell_type": "code",
      "metadata": {
        "id": "KQufxqL_bOTb"
      },
      "source": [
        "train_features = tf.data.Dataset.from_tensor_slices(X_train)\n",
        "train_labels = tf.data.Dataset.from_tensor_slices(y_train)"
      ],
      "execution_count": null,
      "outputs": []
    },
    {
      "cell_type": "code",
      "metadata": {
        "id": "J-XziIk8bUKE"
      },
      "source": [
        "test_features = tf.data.Dataset.from_tensor_slices(X_test)\n",
        "test_labels = tf.data.Dataset.from_tensor_slices(y_test)"
      ],
      "execution_count": null,
      "outputs": []
    },
    {
      "cell_type": "code",
      "metadata": {
        "id": "63xl4BUQbOXz"
      },
      "source": [
        "# combine into a big dataset\n",
        "\n",
        "train_dataset = tf.data.Dataset.zip((train_features, train_labels))\n",
        "test_dataset = tf.data.Dataset.zip((test_features, test_labels))"
      ],
      "execution_count": null,
      "outputs": []
    },
    {
      "cell_type": "code",
      "metadata": {
        "id": "WfWzZ13JbOZ_"
      },
      "source": [
        "# batch + prefetch\n",
        "train_dataset = train_dataset.batch(1024).prefetch(tf.data.AUTOTUNE)\n",
        "test_dataset = test_dataset.batch(1024).prefetch(tf.data.AUTOTUNE)"
      ],
      "execution_count": null,
      "outputs": []
    },
    {
      "cell_type": "code",
      "metadata": {
        "colab": {
          "base_uri": "https://localhost:8080/"
        },
        "id": "8SeYQYOHbOb1",
        "outputId": "3e6d6ee7-a469-446e-c75c-181b0d070893"
      },
      "source": [
        "train_dataset, test_dataset"
      ],
      "execution_count": null,
      "outputs": [
        {
          "output_type": "execute_result",
          "data": {
            "text/plain": [
              "(<PrefetchDataset shapes: ((None, 7), (None,)), types: (tf.float64, tf.float64)>,\n",
              " <PrefetchDataset shapes: ((None, 7), (None,)), types: (tf.float64, tf.float64)>)"
            ]
          },
          "metadata": {
            "tags": []
          },
          "execution_count": 170
        }
      ]
    },
    {
      "cell_type": "code",
      "metadata": {
        "id": "k1-UR2JCa0g-"
      },
      "source": [
        ""
      ],
      "execution_count": null,
      "outputs": []
    },
    {
      "cell_type": "code",
      "metadata": {
        "id": "JzrX4occZ61R"
      },
      "source": [
        ""
      ],
      "execution_count": null,
      "outputs": []
    },
    {
      "cell_type": "markdown",
      "metadata": {
        "id": "s3W4i3gIdNBd"
      },
      "source": [
        "## setting up hyperparameters"
      ]
    },
    {
      "cell_type": "code",
      "metadata": {
        "id": "OHlfqggkdO9R"
      },
      "source": [
        "N_EPOCHS = 5000\n",
        "N_NEURONS = 512\n",
        "N_BLOCKS = 1\n",
        "N_LAYERS = 4\n",
        "N_STACKS = 30\n",
        "\n",
        "INPUT_SIZE = WINDOW * HORIZON\n",
        "THETA_SIZE = WINDOW + HORIZON\n"
      ],
      "execution_count": null,
      "outputs": []
    },
    {
      "cell_type": "code",
      "metadata": {
        "colab": {
          "base_uri": "https://localhost:8080/"
        },
        "id": "bNcbbfajA__l",
        "outputId": "e9bbcfdf-f99e-4a7e-f0ec-622fe32134dc"
      },
      "source": [
        "INPUT_SIZE, THETA_SIZE"
      ],
      "execution_count": null,
      "outputs": [
        {
          "output_type": "execute_result",
          "data": {
            "text/plain": [
              "(7, 8)"
            ]
          },
          "metadata": {
            "tags": []
          },
          "execution_count": 172
        }
      ]
    },
    {
      "cell_type": "markdown",
      "metadata": {
        "id": "i7VzYNToCQcv"
      },
      "source": [
        "## Making the Model"
      ]
    },
    {
      "cell_type": "code",
      "metadata": {
        "colab": {
          "base_uri": "https://localhost:8080/"
        },
        "id": "Hwyh57aYBAg5",
        "outputId": "eb135792-c703-4b9e-d4f9-db2ad5bd9b18"
      },
      "source": [
        "%%time\n",
        "tf.random.set_seed(42)\n",
        "\n",
        "nbeats_block_layer = NBeatsBlock(INPUT_SIZE, THETA_SIZE, HORIZON, N_NEURONS, N_LAYERS, name = \"initial_block\")\n",
        "\n",
        "stack_input = layers.Input(shape = (INPUT_SIZE), name = \"stack_input\")\n",
        "\n",
        "#initial stack\n",
        "residuals, forecast = nbeats_block_layer(stack_input)\n",
        "\n",
        "# make a bunch of stacks\n",
        "for i, _ in enumerate(range(N_STACKS - 1)):\n",
        "  backcast, block_forecast = NBeatsBlock(INPUT_SIZE, THETA_SIZE, HORIZON, N_NEURONS, N_LAYERS, name = f\"block_{i}\")(residuals)\n",
        "\n",
        "  # double residual stacking\n",
        "\n",
        "  residuals = layers.subtract([residuals, backcast], name = f\"sub_{i}\")\n",
        "  forecast = layers.add([forecast, block_forecast], name = f\"add_{i}\")\n",
        "\n",
        "model_7 = tf.keras.Model(inputs = stack_input, outputs = forecast, name = \"model_7\")\n",
        "\n",
        "model_7.compile(loss = \"mae\", optimizer = \"Adam\", metrics = [\"mae\"])\n",
        "\n",
        "# history_7 = model_7.fit(train_dataset, epochs = N_EPOCHS, validation_data = test_dataset,\n",
        "#                         callbacks = [make_model_checkpoint(\"model_7\")], verbose = 0)\n"
      ],
      "execution_count": null,
      "outputs": [
        {
          "output_type": "stream",
          "text": [
            "CPU times: user 1.34 s, sys: 2.43 ms, total: 1.34 s\n",
            "Wall time: 1.35 s\n"
          ],
          "name": "stdout"
        }
      ]
    },
    {
      "cell_type": "code",
      "metadata": {
        "id": "uKnFs2wCBgE2"
      },
      "source": [
        ""
      ],
      "execution_count": null,
      "outputs": []
    },
    {
      "cell_type": "code",
      "metadata": {
        "id": "vfPzI8STCTG9"
      },
      "source": [
        "# model_7.evaluate(test_dataset)"
      ],
      "execution_count": null,
      "outputs": []
    },
    {
      "cell_type": "code",
      "metadata": {
        "id": "DALU9ltdBmk4"
      },
      "source": [
        "# new_model_7 = tf.keras.models.load_model(\"/content/model_exp/model_7\")"
      ],
      "execution_count": null,
      "outputs": []
    },
    {
      "cell_type": "code",
      "metadata": {
        "id": "vsNTbJWRBmrN"
      },
      "source": [
        "# new_model_7.evaluate(test_dataset)"
      ],
      "execution_count": null,
      "outputs": []
    },
    {
      "cell_type": "code",
      "metadata": {
        "id": "aFak78OsBmtz"
      },
      "source": [
        "# model_7_preds = make_preds(new_model_7, X_test)\n",
        "# model_7_results = time_series_evaluate(y_test, model_7_preds)\n"
      ],
      "execution_count": null,
      "outputs": []
    },
    {
      "cell_type": "code",
      "metadata": {
        "id": "KinsXm2oBmwi"
      },
      "source": [
        "# model_7_results"
      ],
      "execution_count": null,
      "outputs": []
    },
    {
      "cell_type": "code",
      "metadata": {
        "id": "xbtmIhOXEL2d"
      },
      "source": [
        "# model_1_results"
      ],
      "execution_count": null,
      "outputs": []
    },
    {
      "cell_type": "markdown",
      "metadata": {
        "id": "ucACes5G0TFt"
      },
      "source": [
        "## Plot and save the NBEATS Model"
      ]
    },
    {
      "cell_type": "code",
      "metadata": {
        "id": "aqnZqGCFCTJE"
      },
      "source": [
        "from tensorflow.keras.utils import plot_model\n",
        "# plot_model(model_7)"
      ],
      "execution_count": null,
      "outputs": []
    },
    {
      "cell_type": "code",
      "metadata": {
        "id": "lkY0195CCTLZ"
      },
      "source": [
        "# model_7.save(\"n_beats\")\n"
      ],
      "execution_count": null,
      "outputs": []
    },
    {
      "cell_type": "code",
      "metadata": {
        "id": "gwbnlA2TCTNh"
      },
      "source": [
        "# new_nbeats = tf.keras.models.load_model(\"n_beats\")"
      ],
      "execution_count": null,
      "outputs": []
    },
    {
      "cell_type": "code",
      "metadata": {
        "id": "P5XLiTB3BAi9"
      },
      "source": [
        "# new_nbeats.evaluate(test_dataset)"
      ],
      "execution_count": null,
      "outputs": []
    },
    {
      "cell_type": "markdown",
      "metadata": {
        "id": "wegwsT-c7vHD"
      },
      "source": [
        "# Model 8: An Ensemble Model"
      ]
    },
    {
      "cell_type": "code",
      "metadata": {
        "id": "3QvSCm6BJgm9"
      },
      "source": [
        "ensemble_models = [new_model_1, new_model_4, new_model_5]"
      ],
      "execution_count": null,
      "outputs": []
    },
    {
      "cell_type": "code",
      "metadata": {
        "colab": {
          "base_uri": "https://localhost:8080/"
        },
        "id": "9Hg22TQv0YHs",
        "outputId": "c5b3348e-c592-441b-ba4c-503e96f5db65"
      },
      "source": [
        "model_4_preds[:5]"
      ],
      "execution_count": null,
      "outputs": [
        {
          "output_type": "execute_result",
          "data": {
            "text/plain": [
              "<tf.Tensor: shape=(5,), dtype=float32, numpy=array([8858.204, 8771.212, 9005.428, 8779.837, 8733.422], dtype=float32)>"
            ]
          },
          "metadata": {
            "tags": []
          },
          "execution_count": 220
        }
      ]
    },
    {
      "cell_type": "code",
      "metadata": {
        "colab": {
          "base_uri": "https://localhost:8080/"
        },
        "id": "yTGcqQvy1te0",
        "outputId": "a3eb23aa-0d08-4d30-8798-ea2ef961781f"
      },
      "source": [
        "model_1_preds[:5]"
      ],
      "execution_count": null,
      "outputs": [
        {
          "output_type": "execute_result",
          "data": {
            "text/plain": [
              "<tf.Tensor: shape=(5,), dtype=float32, numpy=array([8851.208, 8788.124, 9039.172, 8776.67 , 8741.833], dtype=float32)>"
            ]
          },
          "metadata": {
            "tags": []
          },
          "execution_count": 221
        }
      ]
    },
    {
      "cell_type": "code",
      "metadata": {
        "id": "IaJ3DgjQ1yMv"
      },
      "source": [
        "split = int(0.8 * len(X))\n",
        "X_train = X[:split]\n",
        "X_test = X[split:]\n",
        "\n",
        "y_train = y[:split]\n",
        "y_test = y[split:]"
      ],
      "execution_count": null,
      "outputs": []
    },
    {
      "cell_type": "code",
      "metadata": {
        "id": "hTCPzipF2T7b",
        "outputId": "b872bb48-5483-4249-dd1f-8b130883f91e",
        "colab": {
          "base_uri": "https://localhost:8080/"
        }
      },
      "source": [
        "y_test[:5]"
      ],
      "execution_count": null,
      "outputs": [
        {
          "output_type": "execute_result",
          "data": {
            "text/plain": [
              "Date\n",
              "2019-11-10    8798.042055\n",
              "2019-11-11    9081.186878\n",
              "2019-11-12    8711.534339\n",
              "2019-11-13    8760.892718\n",
              "2019-11-14    8749.520591\n",
              "Name: Price, dtype: float64"
            ]
          },
          "metadata": {
            "tags": []
          },
          "execution_count": 227
        }
      ]
    },
    {
      "cell_type": "code",
      "metadata": {
        "id": "SbdcisLU2WKL"
      },
      "source": [
        ""
      ],
      "execution_count": null,
      "outputs": []
    }
  ]
}